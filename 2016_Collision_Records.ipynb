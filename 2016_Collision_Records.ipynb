{
 "cells": [
  {
   "cell_type": "code",
   "execution_count": 1,
   "id": "initial_id",
   "metadata": {
    "ExecuteTime": {
     "end_time": "2024-12-04T08:57:00.799764Z",
     "start_time": "2024-12-04T08:55:09.641004Z"
    },
    "collapsed": true
   },
   "outputs": [
    {
     "name": "stdout",
     "output_type": "stream",
     "text": [
      "Non-Numerical Columns:  ['CASE_ID', 'PROC_DATE', 'JURIS', 'COLLISION_DATE', 'COLLISION_TIME', 'OFFICER_ID', 'REPORTING_DISTRICT', 'CHP_SHIFT', 'CNTY_CITY_LOC', 'SPECIAL_COND', 'BEAT_TYPE', 'CHP_BEAT_TYPE', 'CITY_DIVISION_LAPD', 'CHP_BEAT_CLASS', 'BEAT_NUMBER', 'PRIMARY_RD', 'SECONDARY_RD', 'DIRECTION', 'INTERSECTION']\n",
      "+-------+-------------+---------+-----+--------------+--------------+----------+------------------+-----------+----------+-------------+---------+-------------+----------+------------+--------+---------+------------+\n",
      "|CASE_ID|ACCIDENT_YEAR|PROC_DATE|JURIS|COLLISION_DATE|COLLISION_TIME|OFFICER_ID|REPORTING_DISTRICT|DAY_OF_WEEK|POPULATION|CNTY_CITY_LOC|BEAT_TYPE|CHP_BEAT_TYPE|PRIMARY_RD|SECONDARY_RD|DISTANCE|DIRECTION|INTERSECTION|\n",
      "+-------+-------------+---------+-----+--------------+--------------+----------+------------------+-----------+----------+-------------+---------+-------------+----------+------------+--------+---------+------------+\n",
      "| 449906|         2002| 20030206| 1942|      20021008|          1845|     21594|              1145|          2|         7|         1942|        0|            0| GILROY ST|RIVERSIDE DR|       0|     NULL|           Y|\n",
      "| 097293|         2003| 20031223| 9435|      20031028|          1625|     15986|              NULL|          2|         9|         1000|        3|            5|SHIELDS AV|     YUBA AV|     500|        E|           N|\n",
      "| 373108|         2004| 20040622| 3311|      20040411|          1426|     15147|              3311|          7|         4|         3311|        0|            0|    RT 111|  MISSION AV|      96|        S|           N|\n",
      "| 965874|         2005| 20050620| 9855|      20050411|          1450|     15364|              NULL|          1|         6|         3607|        1|            1|     RT 15|       RT 10|     528|        N|           N|\n",
      "| 449906|         2002| 20030206| 1942|      20021008|          1845|     21594|              1145|          2|         7|         1942|        0|            0| GILROY ST|RIVERSIDE DR|       0|     NULL|           Y|\n",
      "+-------+-------------+---------+-----+--------------+--------------+----------+------------------+-----------+----------+-------------+---------+-------------+----------+------------+--------+---------+------------+\n",
      "only showing top 5 rows\n",
      "\n",
      "+-------+-------------+---------+-----+--------------+--------------+----------+------------------+-----------+----------+-------------+---------+-------------+----------+------------+--------+---------+------------+\n",
      "|CASE_ID|ACCIDENT_YEAR|PROC_DATE|JURIS|COLLISION_DATE|COLLISION_TIME|OFFICER_ID|REPORTING_DISTRICT|DAY_OF_WEEK|POPULATION|CNTY_CITY_LOC|BEAT_TYPE|CHP_BEAT_TYPE|PRIMARY_RD|SECONDARY_RD|DISTANCE|DIRECTION|INTERSECTION|\n",
      "+-------+-------------+---------+-----+--------------+--------------+----------+------------------+-----------+----------+-------------+---------+-------------+----------+------------+--------+---------+------------+\n",
      "+-------+-------------+---------+-----+--------------+--------------+----------+------------------+-----------+----------+-------------+---------+-------------+----------+------------+--------+---------+------------+\n",
      "\n",
      "Cleaned Data Info:\n",
      "root\n",
      " |-- CASE_ID: string (nullable = true)\n",
      " |-- ACCIDENT_YEAR: integer (nullable = false)\n",
      " |-- PROC_DATE: string (nullable = true)\n",
      " |-- JURIS: string (nullable = true)\n",
      " |-- COLLISION_DATE: string (nullable = true)\n",
      " |-- COLLISION_TIME: string (nullable = true)\n",
      " |-- OFFICER_ID: string (nullable = true)\n",
      " |-- REPORTING_DISTRICT: string (nullable = true)\n",
      " |-- DAY_OF_WEEK: integer (nullable = false)\n",
      " |-- POPULATION: integer (nullable = false)\n",
      " |-- CNTY_CITY_LOC: string (nullable = true)\n",
      " |-- BEAT_TYPE: string (nullable = true)\n",
      " |-- CHP_BEAT_TYPE: string (nullable = true)\n",
      " |-- PRIMARY_RD: string (nullable = true)\n",
      " |-- SECONDARY_RD: string (nullable = true)\n",
      " |-- DISTANCE: integer (nullable = false)\n",
      " |-- DIRECTION: string (nullable = true)\n",
      " |-- INTERSECTION: string (nullable = true)\n",
      "\n",
      "+-------------------+-------------+---------+-----+--------------+--------------+----------+------------------+-----------+----------+-------------+---------+-------------+---------------+---------------+--------+---------+------------+\n",
      "|            CASE_ID|ACCIDENT_YEAR|PROC_DATE|JURIS|COLLISION_DATE|COLLISION_TIME|OFFICER_ID|REPORTING_DISTRICT|DAY_OF_WEEK|POPULATION|CNTY_CITY_LOC|BEAT_TYPE|CHP_BEAT_TYPE|     PRIMARY_RD|   SECONDARY_RD|DISTANCE|DIRECTION|INTERSECTION|\n",
      "+-------------------+-------------+---------+-----+--------------+--------------+----------+------------------+-----------+----------+-------------+---------+-------------+---------------+---------------+--------+---------+------------+\n",
      "|0100010101011401155|         2001| 20010416| 0100|      20010101|          0114|      1155|                 0|          1|         4|         0198|        0|            0|      DUBLIN BL|    SCARLETT CT|     267|        W|           N|\n",
      "|0100010103174503131|         2001| 20010416| 0100|      20010103|          1745|      3131|                10|          3|         4|         0198|        0|            0|   DOUGHERTY RD|  AMADOR VLY BL|      80|        N|           N|\n",
      "|0100010104134002415|         2001| 20010608| 0100|      20010104|          1340|      2415|                 0|          4|         4|         0198|        0|            0|   DOUGHERTY RD| RT 580 WBOFF/R|       0|        -|           Y|\n",
      "|0100010104170500911|         2001| 20010416| 0100|      20010104|          1705|       911|                 0|          4|         4|         0198|        0|            0|   SAN RAMON RD|      DUBLIN BL|      20|        S|           N|\n",
      "|0100010104184400911|         2001| 20010416| 0100|      20010104|          1844|       911|                 0|          4|         4|         0198|        0|            0|FREDERICKSON LN|FREDERICKSON CT|       0|        -|           Y|\n",
      "|0100010111091500326|         2001| 20010416| 0100|      20010111|          0915|       326|                 0|          4|         4|         0198|        0|            0|       CEDAR LN|      SPRUCE LN|     122|        W|           N|\n",
      "|0100010112131002415|         2001| 20010416| 0100|      20010112|          1310|      2415|                 0|          5|         4|         0198|        0|            0|      DUBLIN BL|      DUBLIN CT|       0|        W|           N|\n",
      "|0100010112174300911|         2001| 20010713| 0100|      20010112|          1743|       911|                 0|          5|         4|         0198|        0|            0|    HACIENDA DR| RT 580 WBOFF/R|      92|        S|           N|\n",
      "|0100010114170000911|         2001| 20010412| 0100|      20010114|          1700|       911|                 0|          7|         4|         0198|        0|            0|   SAN RAMON RD|     ALCOSTA BL|      20|        S|           N|\n",
      "|0100010117152502415|         2001| 20010423| 0100|      20010117|          1525|      2415|                 0|          3|         4|         0198|        0|            0|   VILLAGE PKWY|  AMADOR VLY BL|       0|        -|           Y|\n",
      "+-------------------+-------------+---------+-----+--------------+--------------+----------+------------------+-----------+----------+-------------+---------+-------------+---------------+---------------+--------+---------+------------+\n",
      "\n"
     ]
    }
   ],
   "source": [
    "from pyspark.sql import SparkSession\n",
    "from pyspark.sql.types import StructType, StructField, StringType, IntegerType, DoubleType\n",
    "from pyspark.sql.functions import col, length\n",
    "\n",
    "# Define data and schema\n",
    "CollisionRecords = [\n",
    "    \"20160924_CollisionRecords.txt\",\n",
    "    \"20170112_CollisionRecords.txt\",\n",
    "    \"20180925_CollisionRecords.txt\",\n",
    "    \"20201024_CollisionRecords.txt\"\n",
    "]\n",
    "\n",
    "collision_schema = StructType([\n",
    "    StructField(\"CASE_ID\", StringType(), True),\n",
    "    StructField(\"ACCIDENT_YEAR\", IntegerType(), True),\n",
    "    StructField(\"PROC_DATE\", StringType(), True),\n",
    "    StructField(\"JURIS\", StringType(), True),\n",
    "    StructField(\"COLLISION_DATE\", StringType(), True),\n",
    "    StructField(\"COLLISION_TIME\", StringType(), True),\n",
    "    StructField(\"OFFICER_ID\", StringType(), True),\n",
    "    StructField(\"REPORTING_DISTRICT\", StringType(), True),\n",
    "    StructField(\"DAY_OF_WEEK\", IntegerType(), True),\n",
    "    StructField(\"CHP_SHIFT\", StringType(), True),\n",
    "    StructField(\"POPULATION\", IntegerType(), True),\n",
    "    StructField(\"CNTY_CITY_LOC\", StringType(), True),\n",
    "    StructField(\"SPECIAL_COND\", StringType(), True),\n",
    "    StructField(\"BEAT_TYPE\", StringType(), True),\n",
    "    StructField(\"CHP_BEAT_TYPE\", StringType(), True),\n",
    "    StructField(\"CITY_DIVISION_LAPD\", StringType(), True),\n",
    "    StructField(\"CHP_BEAT_CLASS\", StringType(), True),\n",
    "    StructField(\"BEAT_NUMBER\", StringType(), True),\n",
    "    StructField(\"PRIMARY_RD\", StringType(), True),\n",
    "    StructField(\"SECONDARY_RD\", StringType(), True),\n",
    "    StructField(\"DISTANCE\", IntegerType(), True),\n",
    "    StructField(\"DIRECTION\", StringType(), True),\n",
    "    StructField(\"INTERSECTION\", StringType(), True),\n",
    "    StructField(\"LATITUDE\", DoubleType(), True),\n",
    "    StructField(\"LONGITUDE\", DoubleType(), True),\n",
    "])\n",
    "\n",
    "# Start Spark session\n",
    "spark = SparkSession.builder.appName(\"CollisionRecords\").getOrCreate()\n",
    "\n",
    "# Load the data\n",
    "collision_df = spark.read.csv(CollisionRecords, schema=collision_schema, header=False)\n",
    "\n",
    "# Drop rows where CASE_ID matches the header\n",
    "header = collision_df.first().asDict()\n",
    "collision_df = collision_df.filter(col(\"CASE_ID\") != header[\"CASE_ID\"])\n",
    "\n",
    "# Step 1: Display non-numerical columns to the user\n",
    "non_numerical_columns = [f.name for f in collision_schema.fields if isinstance(f.dataType, StringType)]\n",
    "print(\"Non-Numerical Columns: \", non_numerical_columns)\n",
    "\n",
    "\n",
    "\n",
    "# Step 3: Drop columns with all null values\n",
    "columns_with_all_nulls = [col_name for col_name in collision_df.columns if collision_df.filter(col(col_name).isNotNull()).count() == 0]\n",
    "collision_df = collision_df.drop(*columns_with_all_nulls)\n",
    "\n",
    "# Handle nulls in critical columns\n",
    "collision_df = collision_df.fillna({\n",
    "    \"ACCIDENT_YEAR\": 0,\n",
    "    \"DAY_OF_WEEK\": 0,\n",
    "    \"POPULATION\": 0,\n",
    "    \"DISTANCE\": 0\n",
    "})\n",
    "\n",
    "# Ensure DAY_OF_WEEK values are valid\n",
    "collision_df = collision_df.filter((col(\"DAY_OF_WEEK\") >= 1) & (col(\"DAY_OF_WEEK\") <= 7))\n",
    "\n",
    "# Debug: Check for corrupted data\n",
    "collision_df.filter(col(\"CASE_ID\").rlike(\"[^a-zA-Z0-9]\")).show(5)\n",
    "collision_df.filter(length(col(\"CASE_ID\")) > 50).show(5)\n",
    "\n",
    "# Debug: Reduce dataset for testing\n",
    "collision_df = collision_df.limit(10)\n",
    "\n",
    "# Show cleaned data\n",
    "print(\"Cleaned Data Info:\")\n",
    "collision_df.printSchema()\n",
    "collision_df.show(10)\n"
   ]
  },
  {
   "cell_type": "code",
   "execution_count": 2,
   "id": "b02d919df7337af3",
   "metadata": {
    "ExecuteTime": {
     "end_time": "2024-12-04T08:59:12.466488Z",
     "start_time": "2024-12-04T08:57:16.343064Z"
    }
   },
   "outputs": [
    {
     "name": "stdout",
     "output_type": "stream",
     "text": [
      "+-------+--------------------+-------------+------------------+-----+-----------------+----------------+-----------------+------------------+-----------------+----------+-------------+---------+-------------+------------+------------+-----------------+---------+------------+\n",
      "|summary|             CASE_ID|ACCIDENT_YEAR|         PROC_DATE|JURIS|   COLLISION_DATE|  COLLISION_TIME|       OFFICER_ID|REPORTING_DISTRICT|      DAY_OF_WEEK|POPULATION|CNTY_CITY_LOC|BEAT_TYPE|CHP_BEAT_TYPE|  PRIMARY_RD|SECONDARY_RD|         DISTANCE|DIRECTION|INTERSECTION|\n",
      "+-------+--------------------+-------------+------------------+-----+-----------------+----------------+-----------------+------------------+-----------------+----------+-------------+---------+-------------+------------+------------+-----------------+---------+------------+\n",
      "|  count|                  10|           10|                10|   10|               10|              10|               10|                10|               10|        10|           10|       10|           10|          10|          10|               10|       10|          10|\n",
      "|   mean|1.000101083394115...|       2001.0|      2.00104652E7|100.0|     2.00101082E7|          1394.1|           1550.1|               1.0|              4.0|       4.0|        198.0|      0.0|          0.0|        NULL|        NULL|             60.1|     NULL|        NULL|\n",
      "| stddev| 5.587966069451484E9|          0.0|105.89911341543879|  0.0|5.573747990795274|530.495879133644|944.6763643350739| 3.162277660168379|1.563471919941143|       0.0|          0.0|      0.0|          0.0|        NULL|        NULL|85.45102560986484|     NULL|        NULL|\n",
      "|    min| 0100010101011401155|         2001|          20010412| 0100|         20010101|            0114|             1155|                 0|                1|         4|         0198|        0|            0|    CEDAR LN|  ALCOSTA BL|                0|        -|           N|\n",
      "|    max| 0100010117152502415|         2001|          20010713| 0100|         20010117|            1844|              911|                10|                7|         4|         0198|        0|            0|VILLAGE PKWY|   SPRUCE LN|              267|        W|           Y|\n",
      "+-------+--------------------+-------------+------------------+-----+-----------------+----------------+-----------------+------------------+-----------------+----------+-------------+---------+-------------+------------+------------+-----------------+---------+------------+\n",
      "\n"
     ]
    }
   ],
   "source": [
    "\n",
    "\n",
    "# Fix negative distance values \n",
    "collision_df = collision_df.filter(col(\"DISTANCE\") >= 0)\n",
    "collision_df.describe().show()\n",
    "\n"
   ]
  },
  {
   "cell_type": "code",
   "execution_count": 3,
   "id": "e93b82a028eec849",
   "metadata": {
    "ExecuteTime": {
     "end_time": "2024-12-04T09:10:04.422616Z",
     "start_time": "2024-12-04T09:10:00.528510Z"
    }
   },
   "outputs": [
    {
     "name": "stdout",
     "output_type": "stream",
     "text": [
      "+-------+-------------+---------+-----+--------------+--------------+----------+------------------+-----------+----------+-------------+---------+-------------+----------+------------+--------+---------+------------+\n",
      "|CASE_ID|ACCIDENT_YEAR|PROC_DATE|JURIS|COLLISION_DATE|COLLISION_TIME|OFFICER_ID|REPORTING_DISTRICT|DAY_OF_WEEK|POPULATION|CNTY_CITY_LOC|BEAT_TYPE|CHP_BEAT_TYPE|PRIMARY_RD|SECONDARY_RD|DISTANCE|DIRECTION|INTERSECTION|\n",
      "+-------+-------------+---------+-----+--------------+--------------+----------+------------------+-----------+----------+-------------+---------+-------------+----------+------------+--------+---------+------------+\n",
      "+-------+-------------+---------+-----+--------------+--------------+----------+------------------+-----------+----------+-------------+---------+-------------+----------+------------+--------+---------+------------+\n",
      "\n"
     ]
    }
   ],
   "source": [
    "# Filter rows where PRIMARY_RD or SECONDARY_RD contains \"...\"\n",
    "invalid_rd_cases = collision_df.filter(\n",
    "    (col(\"PRIMARY_RD\").contains(\"...\")) | (col(\"SECONDARY_RD\").contains(\"...\"))\n",
    ")\n",
    "\n",
    "invalid_rd_cases.show(truncate=False)\n",
    "\n"
   ]
  },
  {
   "cell_type": "code",
   "execution_count": 4,
   "id": "6976489b",
   "metadata": {},
   "outputs": [
    {
     "data": {
      "text/plain": [
       "[Row(CASE_ID='0100010101011401155', ACCIDENT_YEAR=2001, PROC_DATE='20010416', JURIS='0100', COLLISION_DATE='20010101', COLLISION_TIME='0114', OFFICER_ID='1155', REPORTING_DISTRICT='0', DAY_OF_WEEK=1, POPULATION=4, CNTY_CITY_LOC='0198', BEAT_TYPE='0', CHP_BEAT_TYPE='0', PRIMARY_RD='DUBLIN BL', SECONDARY_RD='SCARLETT CT', DISTANCE=267, DIRECTION='W', INTERSECTION='N'),\n",
       " Row(CASE_ID='0100010103174503131', ACCIDENT_YEAR=2001, PROC_DATE='20010416', JURIS='0100', COLLISION_DATE='20010103', COLLISION_TIME='1745', OFFICER_ID='3131', REPORTING_DISTRICT='10', DAY_OF_WEEK=3, POPULATION=4, CNTY_CITY_LOC='0198', BEAT_TYPE='0', CHP_BEAT_TYPE='0', PRIMARY_RD='DOUGHERTY RD', SECONDARY_RD='AMADOR VLY BL', DISTANCE=80, DIRECTION='N', INTERSECTION='N'),\n",
       " Row(CASE_ID='0100010104134002415', ACCIDENT_YEAR=2001, PROC_DATE='20010608', JURIS='0100', COLLISION_DATE='20010104', COLLISION_TIME='1340', OFFICER_ID='2415', REPORTING_DISTRICT='0', DAY_OF_WEEK=4, POPULATION=4, CNTY_CITY_LOC='0198', BEAT_TYPE='0', CHP_BEAT_TYPE='0', PRIMARY_RD='DOUGHERTY RD', SECONDARY_RD='RT 580 WBOFF/R', DISTANCE=0, DIRECTION='-', INTERSECTION='Y'),\n",
       " Row(CASE_ID='0100010104170500911', ACCIDENT_YEAR=2001, PROC_DATE='20010416', JURIS='0100', COLLISION_DATE='20010104', COLLISION_TIME='1705', OFFICER_ID='911', REPORTING_DISTRICT='0', DAY_OF_WEEK=4, POPULATION=4, CNTY_CITY_LOC='0198', BEAT_TYPE='0', CHP_BEAT_TYPE='0', PRIMARY_RD='SAN RAMON RD', SECONDARY_RD='DUBLIN BL', DISTANCE=20, DIRECTION='S', INTERSECTION='N'),\n",
       " Row(CASE_ID='0100010104184400911', ACCIDENT_YEAR=2001, PROC_DATE='20010416', JURIS='0100', COLLISION_DATE='20010104', COLLISION_TIME='1844', OFFICER_ID='911', REPORTING_DISTRICT='0', DAY_OF_WEEK=4, POPULATION=4, CNTY_CITY_LOC='0198', BEAT_TYPE='0', CHP_BEAT_TYPE='0', PRIMARY_RD='FREDERICKSON LN', SECONDARY_RD='FREDERICKSON CT', DISTANCE=0, DIRECTION='-', INTERSECTION='Y')]"
      ]
     },
     "execution_count": 4,
     "metadata": {},
     "output_type": "execute_result"
    }
   ],
   "source": [
    "\n",
    "\n",
    "# remove all \"not stated - values\" and null\n",
    "filterCondition = (col(collision_df.columns[0]) != \"-\")\n",
    "filterCondition = filterCondition | (col(collision_df.columns[0]) != None)\n",
    "\n",
    "\n",
    "for c in collision_df.columns[1:]:\n",
    "    filterCondition = filterCondition | (col(c) != \"-\")\n",
    "    filterCondition = filterCondition | (col(c) != None)\n",
    "\n",
    "filtered_df = collision_df.filter(filterCondition)\n",
    "filtered_df.head(5)"
   ]
  },
  {
   "cell_type": "code",
   "execution_count": 5,
   "id": "dee4a167",
   "metadata": {},
   "outputs": [
    {
     "name": "stdout",
     "output_type": "stream",
     "text": [
      "StringIndexer_a05346a8780f\n",
      "INTERSECTION\n",
      "StringIndexer_feedb56d0808\n",
      "SPECIAL_COND\n"
     ]
    },
    {
     "ename": "Py4JJavaError",
     "evalue": "An error occurred while calling o344.fit.\n: org.apache.spark.SparkException: Input column SPECIAL_COND does not exist.\r\n\tat org.apache.spark.ml.feature.StringIndexerBase.$anonfun$validateAndTransformSchema$2(StringIndexer.scala:128)\r\n\tat scala.collection.TraversableLike.$anonfun$flatMap$1(TraversableLike.scala:293)\r\n\tat scala.collection.IndexedSeqOptimized.foreach(IndexedSeqOptimized.scala:36)\r\n\tat scala.collection.IndexedSeqOptimized.foreach$(IndexedSeqOptimized.scala:33)\r\n\tat scala.collection.mutable.ArrayOps$ofRef.foreach(ArrayOps.scala:198)\r\n\tat scala.collection.TraversableLike.flatMap(TraversableLike.scala:293)\r\n\tat scala.collection.TraversableLike.flatMap$(TraversableLike.scala:290)\r\n\tat scala.collection.mutable.ArrayOps$ofRef.flatMap(ArrayOps.scala:198)\r\n\tat org.apache.spark.ml.feature.StringIndexerBase.validateAndTransformSchema(StringIndexer.scala:123)\r\n\tat org.apache.spark.ml.feature.StringIndexerBase.validateAndTransformSchema$(StringIndexer.scala:115)\r\n\tat org.apache.spark.ml.feature.StringIndexer.validateAndTransformSchema(StringIndexer.scala:145)\r\n\tat org.apache.spark.ml.feature.StringIndexer.transformSchema(StringIndexer.scala:252)\r\n\tat org.apache.spark.ml.PipelineStage.transformSchema(Pipeline.scala:71)\r\n\tat org.apache.spark.ml.feature.StringIndexer.fit(StringIndexer.scala:237)\r\n\tat org.apache.spark.ml.feature.StringIndexer.fit(StringIndexer.scala:145)\r\n\tat java.base/jdk.internal.reflect.DirectMethodHandleAccessor.invoke(DirectMethodHandleAccessor.java:103)\r\n\tat java.base/java.lang.reflect.Method.invoke(Method.java:580)\r\n\tat py4j.reflection.MethodInvoker.invoke(MethodInvoker.java:244)\r\n\tat py4j.reflection.ReflectionEngine.invoke(ReflectionEngine.java:374)\r\n\tat py4j.Gateway.invoke(Gateway.java:282)\r\n\tat py4j.commands.AbstractCommand.invokeMethod(AbstractCommand.java:132)\r\n\tat py4j.commands.CallCommand.execute(CallCommand.java:79)\r\n\tat py4j.ClientServerConnection.waitForCommands(ClientServerConnection.java:182)\r\n\tat py4j.ClientServerConnection.run(ClientServerConnection.java:106)\r\n\tat java.base/java.lang.Thread.run(Thread.java:1570)\r\n",
     "output_type": "error",
     "traceback": [
      "\u001b[1;31m---------------------------------------------------------------------------\u001b[0m",
      "\u001b[1;31mPy4JJavaError\u001b[0m                             Traceback (most recent call last)",
      "Cell \u001b[1;32mIn[5], line 15\u001b[0m\n\u001b[0;32m     13\u001b[0m \u001b[38;5;28mprint\u001b[39m(indexer)\n\u001b[0;32m     14\u001b[0m \u001b[38;5;28mprint\u001b[39m(col_name)\n\u001b[1;32m---> 15\u001b[0m indexedDf \u001b[38;5;241m=\u001b[39m \u001b[43mindexer\u001b[49m\u001b[38;5;241;43m.\u001b[39;49m\u001b[43mfit\u001b[49m\u001b[43m(\u001b[49m\u001b[43mfiltered_df2\u001b[49m\u001b[43m)\u001b[49m\u001b[38;5;241m.\u001b[39mtransform(filtered_df2)\n\u001b[0;32m     17\u001b[0m encoder \u001b[38;5;241m=\u001b[39m OneHotEncoder(inputCol\u001b[38;5;241m=\u001b[39mcol_name \u001b[38;5;241m+\u001b[39m \u001b[38;5;124m\"\u001b[39m\u001b[38;5;124m_index\u001b[39m\u001b[38;5;124m\"\u001b[39m, outputCol\u001b[38;5;241m=\u001b[39mcol_name \u001b[38;5;241m+\u001b[39m \u001b[38;5;124m\"\u001b[39m\u001b[38;5;124m_vec\u001b[39m\u001b[38;5;124m\"\u001b[39m)\n\u001b[0;32m     18\u001b[0m encoded_df \u001b[38;5;241m=\u001b[39m encoder\u001b[38;5;241m.\u001b[39mfit(indexedDf)\u001b[38;5;241m.\u001b[39mtransform(indexedDf)\n",
      "File \u001b[1;32mc:\\Users\\kyleh\\Documents\\SENG550-Final-Project\\.venv\\Lib\\site-packages\\pyspark\\ml\\base.py:205\u001b[0m, in \u001b[0;36mEstimator.fit\u001b[1;34m(self, dataset, params)\u001b[0m\n\u001b[0;32m    203\u001b[0m         \u001b[38;5;28;01mreturn\u001b[39;00m \u001b[38;5;28mself\u001b[39m\u001b[38;5;241m.\u001b[39mcopy(params)\u001b[38;5;241m.\u001b[39m_fit(dataset)\n\u001b[0;32m    204\u001b[0m     \u001b[38;5;28;01melse\u001b[39;00m:\n\u001b[1;32m--> 205\u001b[0m         \u001b[38;5;28;01mreturn\u001b[39;00m \u001b[38;5;28;43mself\u001b[39;49m\u001b[38;5;241;43m.\u001b[39;49m\u001b[43m_fit\u001b[49m\u001b[43m(\u001b[49m\u001b[43mdataset\u001b[49m\u001b[43m)\u001b[49m\n\u001b[0;32m    206\u001b[0m \u001b[38;5;28;01melse\u001b[39;00m:\n\u001b[0;32m    207\u001b[0m     \u001b[38;5;28;01mraise\u001b[39;00m \u001b[38;5;167;01mTypeError\u001b[39;00m(\n\u001b[0;32m    208\u001b[0m         \u001b[38;5;124m\"\u001b[39m\u001b[38;5;124mParams must be either a param map or a list/tuple of param maps, \u001b[39m\u001b[38;5;124m\"\u001b[39m\n\u001b[0;32m    209\u001b[0m         \u001b[38;5;124m\"\u001b[39m\u001b[38;5;124mbut got \u001b[39m\u001b[38;5;132;01m%s\u001b[39;00m\u001b[38;5;124m.\u001b[39m\u001b[38;5;124m\"\u001b[39m \u001b[38;5;241m%\u001b[39m \u001b[38;5;28mtype\u001b[39m(params)\n\u001b[0;32m    210\u001b[0m     )\n",
      "File \u001b[1;32mc:\\Users\\kyleh\\Documents\\SENG550-Final-Project\\.venv\\Lib\\site-packages\\pyspark\\ml\\wrapper.py:381\u001b[0m, in \u001b[0;36mJavaEstimator._fit\u001b[1;34m(self, dataset)\u001b[0m\n\u001b[0;32m    380\u001b[0m \u001b[38;5;28;01mdef\u001b[39;00m \u001b[38;5;21m_fit\u001b[39m(\u001b[38;5;28mself\u001b[39m, dataset: DataFrame) \u001b[38;5;241m-\u001b[39m\u001b[38;5;241m>\u001b[39m JM:\n\u001b[1;32m--> 381\u001b[0m     java_model \u001b[38;5;241m=\u001b[39m \u001b[38;5;28;43mself\u001b[39;49m\u001b[38;5;241;43m.\u001b[39;49m\u001b[43m_fit_java\u001b[49m\u001b[43m(\u001b[49m\u001b[43mdataset\u001b[49m\u001b[43m)\u001b[49m\n\u001b[0;32m    382\u001b[0m     model \u001b[38;5;241m=\u001b[39m \u001b[38;5;28mself\u001b[39m\u001b[38;5;241m.\u001b[39m_create_model(java_model)\n\u001b[0;32m    383\u001b[0m     \u001b[38;5;28;01mreturn\u001b[39;00m \u001b[38;5;28mself\u001b[39m\u001b[38;5;241m.\u001b[39m_copyValues(model)\n",
      "File \u001b[1;32mc:\\Users\\kyleh\\Documents\\SENG550-Final-Project\\.venv\\Lib\\site-packages\\pyspark\\ml\\wrapper.py:378\u001b[0m, in \u001b[0;36mJavaEstimator._fit_java\u001b[1;34m(self, dataset)\u001b[0m\n\u001b[0;32m    375\u001b[0m \u001b[38;5;28;01massert\u001b[39;00m \u001b[38;5;28mself\u001b[39m\u001b[38;5;241m.\u001b[39m_java_obj \u001b[38;5;129;01mis\u001b[39;00m \u001b[38;5;129;01mnot\u001b[39;00m \u001b[38;5;28;01mNone\u001b[39;00m\n\u001b[0;32m    377\u001b[0m \u001b[38;5;28mself\u001b[39m\u001b[38;5;241m.\u001b[39m_transfer_params_to_java()\n\u001b[1;32m--> 378\u001b[0m \u001b[38;5;28;01mreturn\u001b[39;00m \u001b[38;5;28;43mself\u001b[39;49m\u001b[38;5;241;43m.\u001b[39;49m\u001b[43m_java_obj\u001b[49m\u001b[38;5;241;43m.\u001b[39;49m\u001b[43mfit\u001b[49m\u001b[43m(\u001b[49m\u001b[43mdataset\u001b[49m\u001b[38;5;241;43m.\u001b[39;49m\u001b[43m_jdf\u001b[49m\u001b[43m)\u001b[49m\n",
      "File \u001b[1;32mc:\\Users\\kyleh\\Documents\\SENG550-Final-Project\\.venv\\Lib\\site-packages\\py4j\\java_gateway.py:1322\u001b[0m, in \u001b[0;36mJavaMember.__call__\u001b[1;34m(self, *args)\u001b[0m\n\u001b[0;32m   1316\u001b[0m command \u001b[38;5;241m=\u001b[39m proto\u001b[38;5;241m.\u001b[39mCALL_COMMAND_NAME \u001b[38;5;241m+\u001b[39m\\\n\u001b[0;32m   1317\u001b[0m     \u001b[38;5;28mself\u001b[39m\u001b[38;5;241m.\u001b[39mcommand_header \u001b[38;5;241m+\u001b[39m\\\n\u001b[0;32m   1318\u001b[0m     args_command \u001b[38;5;241m+\u001b[39m\\\n\u001b[0;32m   1319\u001b[0m     proto\u001b[38;5;241m.\u001b[39mEND_COMMAND_PART\n\u001b[0;32m   1321\u001b[0m answer \u001b[38;5;241m=\u001b[39m \u001b[38;5;28mself\u001b[39m\u001b[38;5;241m.\u001b[39mgateway_client\u001b[38;5;241m.\u001b[39msend_command(command)\n\u001b[1;32m-> 1322\u001b[0m return_value \u001b[38;5;241m=\u001b[39m \u001b[43mget_return_value\u001b[49m\u001b[43m(\u001b[49m\n\u001b[0;32m   1323\u001b[0m \u001b[43m    \u001b[49m\u001b[43manswer\u001b[49m\u001b[43m,\u001b[49m\u001b[43m \u001b[49m\u001b[38;5;28;43mself\u001b[39;49m\u001b[38;5;241;43m.\u001b[39;49m\u001b[43mgateway_client\u001b[49m\u001b[43m,\u001b[49m\u001b[43m \u001b[49m\u001b[38;5;28;43mself\u001b[39;49m\u001b[38;5;241;43m.\u001b[39;49m\u001b[43mtarget_id\u001b[49m\u001b[43m,\u001b[49m\u001b[43m \u001b[49m\u001b[38;5;28;43mself\u001b[39;49m\u001b[38;5;241;43m.\u001b[39;49m\u001b[43mname\u001b[49m\u001b[43m)\u001b[49m\n\u001b[0;32m   1325\u001b[0m \u001b[38;5;28;01mfor\u001b[39;00m temp_arg \u001b[38;5;129;01min\u001b[39;00m temp_args:\n\u001b[0;32m   1326\u001b[0m     \u001b[38;5;28;01mif\u001b[39;00m \u001b[38;5;28mhasattr\u001b[39m(temp_arg, \u001b[38;5;124m\"\u001b[39m\u001b[38;5;124m_detach\u001b[39m\u001b[38;5;124m\"\u001b[39m):\n",
      "File \u001b[1;32mc:\\Users\\kyleh\\Documents\\SENG550-Final-Project\\.venv\\Lib\\site-packages\\pyspark\\errors\\exceptions\\captured.py:179\u001b[0m, in \u001b[0;36mcapture_sql_exception.<locals>.deco\u001b[1;34m(*a, **kw)\u001b[0m\n\u001b[0;32m    177\u001b[0m \u001b[38;5;28;01mdef\u001b[39;00m \u001b[38;5;21mdeco\u001b[39m(\u001b[38;5;241m*\u001b[39ma: Any, \u001b[38;5;241m*\u001b[39m\u001b[38;5;241m*\u001b[39mkw: Any) \u001b[38;5;241m-\u001b[39m\u001b[38;5;241m>\u001b[39m Any:\n\u001b[0;32m    178\u001b[0m     \u001b[38;5;28;01mtry\u001b[39;00m:\n\u001b[1;32m--> 179\u001b[0m         \u001b[38;5;28;01mreturn\u001b[39;00m \u001b[43mf\u001b[49m\u001b[43m(\u001b[49m\u001b[38;5;241;43m*\u001b[39;49m\u001b[43ma\u001b[49m\u001b[43m,\u001b[49m\u001b[43m \u001b[49m\u001b[38;5;241;43m*\u001b[39;49m\u001b[38;5;241;43m*\u001b[39;49m\u001b[43mkw\u001b[49m\u001b[43m)\u001b[49m\n\u001b[0;32m    180\u001b[0m     \u001b[38;5;28;01mexcept\u001b[39;00m Py4JJavaError \u001b[38;5;28;01mas\u001b[39;00m e:\n\u001b[0;32m    181\u001b[0m         converted \u001b[38;5;241m=\u001b[39m convert_exception(e\u001b[38;5;241m.\u001b[39mjava_exception)\n",
      "File \u001b[1;32mc:\\Users\\kyleh\\Documents\\SENG550-Final-Project\\.venv\\Lib\\site-packages\\py4j\\protocol.py:326\u001b[0m, in \u001b[0;36mget_return_value\u001b[1;34m(answer, gateway_client, target_id, name)\u001b[0m\n\u001b[0;32m    324\u001b[0m value \u001b[38;5;241m=\u001b[39m OUTPUT_CONVERTER[\u001b[38;5;28mtype\u001b[39m](answer[\u001b[38;5;241m2\u001b[39m:], gateway_client)\n\u001b[0;32m    325\u001b[0m \u001b[38;5;28;01mif\u001b[39;00m answer[\u001b[38;5;241m1\u001b[39m] \u001b[38;5;241m==\u001b[39m REFERENCE_TYPE:\n\u001b[1;32m--> 326\u001b[0m     \u001b[38;5;28;01mraise\u001b[39;00m Py4JJavaError(\n\u001b[0;32m    327\u001b[0m         \u001b[38;5;124m\"\u001b[39m\u001b[38;5;124mAn error occurred while calling \u001b[39m\u001b[38;5;132;01m{0}\u001b[39;00m\u001b[38;5;132;01m{1}\u001b[39;00m\u001b[38;5;132;01m{2}\u001b[39;00m\u001b[38;5;124m.\u001b[39m\u001b[38;5;130;01m\\n\u001b[39;00m\u001b[38;5;124m\"\u001b[39m\u001b[38;5;241m.\u001b[39m\n\u001b[0;32m    328\u001b[0m         \u001b[38;5;28mformat\u001b[39m(target_id, \u001b[38;5;124m\"\u001b[39m\u001b[38;5;124m.\u001b[39m\u001b[38;5;124m\"\u001b[39m, name), value)\n\u001b[0;32m    329\u001b[0m \u001b[38;5;28;01melse\u001b[39;00m:\n\u001b[0;32m    330\u001b[0m     \u001b[38;5;28;01mraise\u001b[39;00m Py4JError(\n\u001b[0;32m    331\u001b[0m         \u001b[38;5;124m\"\u001b[39m\u001b[38;5;124mAn error occurred while calling \u001b[39m\u001b[38;5;132;01m{0}\u001b[39;00m\u001b[38;5;132;01m{1}\u001b[39;00m\u001b[38;5;132;01m{2}\u001b[39;00m\u001b[38;5;124m. Trace:\u001b[39m\u001b[38;5;130;01m\\n\u001b[39;00m\u001b[38;5;132;01m{3}\u001b[39;00m\u001b[38;5;130;01m\\n\u001b[39;00m\u001b[38;5;124m\"\u001b[39m\u001b[38;5;241m.\u001b[39m\n\u001b[0;32m    332\u001b[0m         \u001b[38;5;28mformat\u001b[39m(target_id, \u001b[38;5;124m\"\u001b[39m\u001b[38;5;124m.\u001b[39m\u001b[38;5;124m\"\u001b[39m, name, value))\n",
      "\u001b[1;31mPy4JJavaError\u001b[0m: An error occurred while calling o344.fit.\n: org.apache.spark.SparkException: Input column SPECIAL_COND does not exist.\r\n\tat org.apache.spark.ml.feature.StringIndexerBase.$anonfun$validateAndTransformSchema$2(StringIndexer.scala:128)\r\n\tat scala.collection.TraversableLike.$anonfun$flatMap$1(TraversableLike.scala:293)\r\n\tat scala.collection.IndexedSeqOptimized.foreach(IndexedSeqOptimized.scala:36)\r\n\tat scala.collection.IndexedSeqOptimized.foreach$(IndexedSeqOptimized.scala:33)\r\n\tat scala.collection.mutable.ArrayOps$ofRef.foreach(ArrayOps.scala:198)\r\n\tat scala.collection.TraversableLike.flatMap(TraversableLike.scala:293)\r\n\tat scala.collection.TraversableLike.flatMap$(TraversableLike.scala:290)\r\n\tat scala.collection.mutable.ArrayOps$ofRef.flatMap(ArrayOps.scala:198)\r\n\tat org.apache.spark.ml.feature.StringIndexerBase.validateAndTransformSchema(StringIndexer.scala:123)\r\n\tat org.apache.spark.ml.feature.StringIndexerBase.validateAndTransformSchema$(StringIndexer.scala:115)\r\n\tat org.apache.spark.ml.feature.StringIndexer.validateAndTransformSchema(StringIndexer.scala:145)\r\n\tat org.apache.spark.ml.feature.StringIndexer.transformSchema(StringIndexer.scala:252)\r\n\tat org.apache.spark.ml.PipelineStage.transformSchema(Pipeline.scala:71)\r\n\tat org.apache.spark.ml.feature.StringIndexer.fit(StringIndexer.scala:237)\r\n\tat org.apache.spark.ml.feature.StringIndexer.fit(StringIndexer.scala:145)\r\n\tat java.base/jdk.internal.reflect.DirectMethodHandleAccessor.invoke(DirectMethodHandleAccessor.java:103)\r\n\tat java.base/java.lang.reflect.Method.invoke(Method.java:580)\r\n\tat py4j.reflection.MethodInvoker.invoke(MethodInvoker.java:244)\r\n\tat py4j.reflection.ReflectionEngine.invoke(ReflectionEngine.java:374)\r\n\tat py4j.Gateway.invoke(Gateway.java:282)\r\n\tat py4j.commands.AbstractCommand.invokeMethod(AbstractCommand.java:132)\r\n\tat py4j.commands.CallCommand.execute(CallCommand.java:79)\r\n\tat py4j.ClientServerConnection.waitForCommands(ClientServerConnection.java:182)\r\n\tat py4j.ClientServerConnection.run(ClientServerConnection.java:106)\r\n\tat java.base/java.lang.Thread.run(Thread.java:1570)\r\n"
     ]
    }
   ],
   "source": [
    "from pyspark.ml.feature import StringIndexer, OneHotEncoder\n",
    "from pyspark.ml import Pipeline\n",
    "encoded_and_index = [\"INTERSECTION\",\"SPECIAL_COND\",\"CHP_BEAT_TYPE\",\"BEAT_TYPE\",\"DIRECTION\",\"CHP_BEAT_CLASS\",\"CHP_SHIFT\"]\n",
    "\n",
    "indexers = [StringIndexer(inputCol=c, outputCol=c+\"_index\") for c in encoded_and_index]\n",
    "encoders = [OneHotEncoder(inputCol=c+\"_index\", outputCol=c+\"_vec\") for c in encoded_and_index]\n",
    "\n",
    "encoded_df = filtered_df\n",
    "\n",
    "for col_name in encoded_and_index:\n",
    "    \n",
    "    indexer = StringIndexer(inputCol=col_name, outputCol=col_name + \"_index\")\n",
    "    print(indexer)\n",
    "    print(col_name)\n",
    "    encoded_df = indexer.fit(encoded_df).transform(encoded_df)\n",
    "   \n",
    "    encoder = OneHotEncoder(inputCol=col_name + \"_index\", outputCol=col_name + \"_vec\")\n",
    "    encoded_df = encoder.fit(encoded_df).transform(encoded_df)\n",
    "\n",
    "\n",
    "columns_to_drop = [\"CHP_SHIFT\", \"CITY_DIVISION_LAPD\", \"SPECIAL_COND\", \"CITY_DIVISION_LAPD\", \"CHP_BEAT_CLASS\", \"BEAT_NUMBER\" ] \n",
    "\n",
    "encoded_df = encoded_df.drop(*columns_to_drop)\n",
    "\n",
    "\n",
    "encoded_df.show(truncate=False)"
   ]
  },
  {
   "cell_type": "code",
   "execution_count": null,
   "id": "d7715b7e",
   "metadata": {},
   "outputs": [],
   "source": []
  }
 ],
 "metadata": {
  "kernelspec": {
   "display_name": ".venv",
   "language": "python",
   "name": "python3"
  },
  "language_info": {
   "codemirror_mode": {
    "name": "ipython",
    "version": 3
   },
   "file_extension": ".py",
   "mimetype": "text/x-python",
   "name": "python",
   "nbconvert_exporter": "python",
   "pygments_lexer": "ipython3",
   "version": "3.13.1"
  }
 },
 "nbformat": 4,
 "nbformat_minor": 5
}
