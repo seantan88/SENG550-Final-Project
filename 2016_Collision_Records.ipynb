{
 "cells": [
  {
   "cell_type": "code",
   "id": "initial_id",
   "metadata": {
    "collapsed": true,
    "ExecuteTime": {
     "end_time": "2024-12-04T08:57:00.799764Z",
     "start_time": "2024-12-04T08:55:09.641004Z"
    }
   },
   "source": [
    "from pyspark.sql import SparkSession\n",
    "from pyspark.sql.types import StructType, StructField, StringType, IntegerType, DoubleType\n",
    "from pyspark.sql.functions import col\n",
    "spark = SparkSession.builder.master(\"local[2]\").appName(\"CollisionRecords\").getOrCreate()\n",
    "\n",
    "CollisionRecords = \"20160924_CollisionRecords.txt\"\n",
    "\n",
    "#Define Schema\n",
    "collision_schema = StructType([\n",
    "    StructField(\"CASE_ID\", StringType(), True),\n",
    "    StructField(\"ACCIDENT_YEAR\", IntegerType(), True),\n",
    "    StructField(\"PROC_DATE\", StringType(), True),\n",
    "    StructField(\"JURIS\", StringType(), True),\n",
    "    StructField(\"COLLISION_DATE\", StringType(), True),\n",
    "    StructField(\"COLLISION_TIME\", StringType(), True),\n",
    "    StructField(\"OFFICER_ID\", StringType(), True),\n",
    "    StructField(\"REPORTING_DISTRICT\", StringType(), True),\n",
    "    StructField(\"DAY_OF_WEEK\", IntegerType(), True),\n",
    "    StructField(\"CHP_SHIFT\", StringType(), True),\n",
    "    StructField(\"POPULATION\", IntegerType(), True),\n",
    "    StructField(\"CNTY_CITY_LOC\", StringType(), True),\n",
    "    StructField(\"SPECIAL_COND\", StringType(), True),\n",
    "    StructField(\"BEAT_TYPE\", StringType(), True),\n",
    "    StructField(\"CHP_BEAT_TYPE\", StringType(), True),\n",
    "    StructField(\"CITY_DIVISION_LAPD\", StringType(), True),\n",
    "    StructField(\"CHP_BEAT_CLASS\", StringType(), True),\n",
    "    StructField(\"BEAT_NUMBER\", StringType(), True),\n",
    "    StructField(\"PRIMARY_RD\", StringType(), True),\n",
    "    StructField(\"SECONDARY_RD\", StringType(), True),\n",
    "    StructField(\"DISTANCE\", IntegerType(), True),\n",
    "    StructField(\"DIRECTION\", StringType(), True),\n",
    "    StructField(\"INTERSECTION\", StringType(), True),\n",
    "    StructField(\"LATITUDE\", DoubleType(), True),\n",
    "    StructField(\"LONGITUDE\", DoubleType(), True),\n",
    "])\n",
    "\n",
    "#Load the data\n",
    "collision_df = spark.read.csv(path=CollisionRecords, schema=collision_schema, header=False).cache()\n",
    "\n",
    "#Process data\n",
    "header = collision_df.first().asDict()\n",
    "collision_df = collision_df.filter(col(\"CASE_ID\") != header[\"CASE_ID\"])\n",
    "collision_df.show(10)\n",
    "collision_df.describe().show()\n",
    "\n"
   ],
   "outputs": [
    {
     "name": "stderr",
     "output_type": "stream",
     "text": [
      "24/12/04 01:55:09 WARN CacheManager: Asked to cache already cached data.\n"
     ]
    },
    {
     "name": "stdout",
     "output_type": "stream",
     "text": [
      "+-------------------+-------------+---------+-----+--------------+--------------+----------+------------------+-----------+---------+----------+-------------+------------+---------+-------------+------------------+--------------+-----------+---------------+---------------+--------+---------+------------+--------+---------+\n",
      "|            CASE_ID|ACCIDENT_YEAR|PROC_DATE|JURIS|COLLISION_DATE|COLLISION_TIME|OFFICER_ID|REPORTING_DISTRICT|DAY_OF_WEEK|CHP_SHIFT|POPULATION|CNTY_CITY_LOC|SPECIAL_COND|BEAT_TYPE|CHP_BEAT_TYPE|CITY_DIVISION_LAPD|CHP_BEAT_CLASS|BEAT_NUMBER|     PRIMARY_RD|   SECONDARY_RD|DISTANCE|DIRECTION|INTERSECTION|LATITUDE|LONGITUDE|\n",
      "+-------------------+-------------+---------+-----+--------------+--------------+----------+------------------+-----------+---------+----------+-------------+------------+---------+-------------+------------------+--------------+-----------+---------------+---------------+--------+---------+------------+--------+---------+\n",
      "|0100010101011401155|         2001| 20010416| 0100|      20010101|          0114|      1155|                 0|          1|        5|         4|         0198|           -|        0|            0|                  |             0|        073|      DUBLIN BL|    SCARLETT CT|     267|        W|           N|    NULL|     NULL|\n",
      "|0100010103174503131|         2001| 20010416| 0100|      20010103|          1745|      3131|                10|          3|        5|         4|         0198|           -|        0|            0|                  |             0|        073|   DOUGHERTY RD|  AMADOR VLY BL|      80|        N|           N|    NULL|     NULL|\n",
      "|0100010104134002415|         2001| 20010608| 0100|      20010104|          1340|      2415|                 0|          4|        5|         4|         0198|           -|        0|            0|                  |             0|        073|   DOUGHERTY RD| RT 580 WBOFF/R|       0|        -|           Y|    NULL|     NULL|\n",
      "|0100010104170500911|         2001| 20010416| 0100|      20010104|          1705|       911|                 0|          4|        5|         4|         0198|           -|        0|            0|                  |             0|        076|   SAN RAMON RD|      DUBLIN BL|      20|        S|           N|    NULL|     NULL|\n",
      "|0100010104184400911|         2001| 20010416| 0100|      20010104|          1844|       911|                 0|          4|        5|         4|         0198|           -|        0|            0|                  |             0|        076|FREDERICKSON LN|FREDERICKSON CT|       0|        -|           Y|    NULL|     NULL|\n",
      "|0100010111091500326|         2001| 20010416| 0100|      20010111|          0915|       326|                 0|          4|        5|         4|         0198|           -|        0|            0|                  |             0|        074|       CEDAR LN|      SPRUCE LN|     122|        W|           N|    NULL|     NULL|\n",
      "|0100010112131002415|         2001| 20010416| 0100|      20010112|          1310|      2415|                 0|          5|        5|         4|         0198|           -|        0|            0|                  |             0|        073|      DUBLIN BL|      DUBLIN CT|       0|        W|           N|    NULL|     NULL|\n",
      "|0100010112174300911|         2001| 20010713| 0100|      20010112|          1743|       911|                 0|          5|        5|         4|         0198|           -|        0|            0|                  |             0|        076|    HACIENDA DR| RT 580 WBOFF/R|      92|        S|           N|    NULL|     NULL|\n",
      "|0100010114170000911|         2001| 20010412| 0100|      20010114|          1700|       911|                 0|          7|        5|         4|         0198|           -|        0|            0|                  |             0|        076|   SAN RAMON RD|     ALCOSTA BL|      20|        S|           N|    NULL|     NULL|\n",
      "|0100010117152502415|         2001| 20010423| 0100|      20010117|          1525|      2415|                 0|          3|        5|         4|         0198|           -|        0|            0|                  |             0|        072|   VILLAGE PKWY|  AMADOR VLY BL|       0|        -|           Y|    NULL|     NULL|\n",
      "+-------------------+-------------+---------+-----+--------------+--------------+----------+------------------+-----------+---------+----------+-------------+------------+---------+-------------+------------------+--------------+-----------+---------------+---------------+--------+---------+------------+--------+---------+\n",
      "only showing top 10 rows\n",
      "\n"
     ]
    },
    {
     "name": "stderr",
     "output_type": "stream",
     "text": [
      "24/12/04 01:56:15 WARN MemoryStore: Not enough space to cache rdd_3_12 in memory! (computed 26.9 MiB so far)\n",
      "24/12/04 01:56:17 WARN MemoryStore: Not enough space to cache rdd_3_13 in memory! (computed 13.9 MiB so far)\n",
      "24/12/04 01:56:30 WARN MemoryStore: Not enough space to cache rdd_3_14 in memory! (computed 26.6 MiB so far)\n",
      "24/12/04 01:56:33 WARN MemoryStore: Not enough space to cache rdd_3_15 in memory! (computed 13.6 MiB so far)\n",
      "24/12/04 01:56:46 WARN MemoryStore: Not enough space to cache rdd_3_16 in memory! (computed 25.5 MiB so far)\n",
      "[Stage 18:====================================================>   (17 + 1) / 18]\r"
     ]
    },
    {
     "name": "stdout",
     "output_type": "stream",
     "text": [
      "+-------+--------------------+-----------------+--------------------+-----------------+--------------------+------------------+----------+------------------+------------------+------------------+------------------+------------------+--------------------+------------------+------------------+------------------+------------------+-----------+--------------------+--------------------+------------------+---------+------------+--------+---------+\n",
      "|summary|             CASE_ID|    ACCIDENT_YEAR|           PROC_DATE|            JURIS|      COLLISION_DATE|    COLLISION_TIME|OFFICER_ID|REPORTING_DISTRICT|       DAY_OF_WEEK|         CHP_SHIFT|        POPULATION|     CNTY_CITY_LOC|        SPECIAL_COND|         BEAT_TYPE|     CHP_BEAT_TYPE|CITY_DIVISION_LAPD|    CHP_BEAT_CLASS|BEAT_NUMBER|          PRIMARY_RD|        SECONDARY_RD|          DISTANCE|DIRECTION|INTERSECTION|LATITUDE|LONGITUDE|\n",
      "+-------+--------------------+-----------------+--------------------+-----------------+--------------------+------------------+----------+------------------+------------------+------------------+------------------+------------------+--------------------+------------------+------------------+------------------+------------------+-----------+--------------------+--------------------+------------------+---------+------------+--------+---------+\n",
      "|  count|             7314602|          7314602|             7314602|          7314602|             7314602|           7314602|   7294037|           3074402|           7314602|           7314602|           7312943|           7314602|             7314602|           7314602|           7314564|            955658|           7312102|    6632181|             7314578|             7314590|           7307029|  5619619|     7314602|       0|        0|\n",
      "|   mean|4.042083292651743...|2007.854853620197|2.0085684069271166E7|5792.144925542991|2.0079215328239594E7|1348.5876177541854|  Infinity|          Infinity|3.9309158584431523|3.5618252366977723| 6.381770239423444|  2795.86000728406|0.004358328136436821|0.6726290333539724|1.2007398157690539|             0.575|0.8239070536985785|   Infinity|                 NaN|                 NaN| 696.7022826924596|     NULL|        NULL|    NULL|     NULL|\n",
      "| stddev|1.724748934869851...|4.550268589685789|   47595.42440182552|3495.822581789876|   45490.51312751948| 567.3583511772853|       NaN|               NaN|1.9372765465910347| 1.668432007748314|7.8701304012503615|1331.3592202943303| 0.06589819304086805|0.9253424420291713|1.6762842472374935|0.8439072740411041|1.0803792647833443|        NaN|                 NaN|                 NaN|17904.692985705995|     NULL|        NULL|    NULL|     NULL|\n",
      "|    min|              097293|             2001|            20010412|             0100|            20010101|              0000|        19|                 3|                 1|                 1|                 1|                 0|                   -|                 0|                 0|                  |                 0|          7|               IN...|                 ...|           -396000|        -|           -|    NULL|     NULL|\n",
      "|    max| 9870011231152508671|             2016|            20160922|             9870|            20160922|              2500|    `P1311|             ~ESPD|                 7|                 9|              5604|              5802|                   4|                 S|                 S|                 R|               WI1|      ~1024|         `WESTERN AV|          `TUSTIN AV|           9757440|        Y|           Y|    NULL|     NULL|\n",
      "+-------+--------------------+-----------------+--------------------+-----------------+--------------------+------------------+----------+------------------+------------------+------------------+------------------+------------------+--------------------+------------------+------------------+------------------+------------------+-----------+--------------------+--------------------+------------------+---------+------------+--------+---------+\n",
      "\n"
     ]
    },
    {
     "name": "stderr",
     "output_type": "stream",
     "text": [
      "                                                                                \r"
     ]
    }
   ],
   "execution_count": 26
  },
  {
   "metadata": {
    "ExecuteTime": {
     "end_time": "2024-12-04T08:59:12.466488Z",
     "start_time": "2024-12-04T08:57:16.343064Z"
    }
   },
   "cell_type": "code",
   "source": [
    "\n",
    "\n",
    "# Fix negative distance values \n",
    "collision_df = collision_df.filter(col(\"DISTANCE\") >= 0)\n",
    "collision_df.describe().show()\n",
    "\n"
   ],
   "id": "b02d919df7337af3",
   "outputs": [
    {
     "name": "stderr",
     "output_type": "stream",
     "text": [
      "24/12/04 01:58:32 WARN MemoryStore: Not enough space to cache rdd_3_12 in memory! (computed 26.9 MiB so far)\n",
      "24/12/04 01:58:34 WARN MemoryStore: Not enough space to cache rdd_3_13 in memory! (computed 13.9 MiB so far)\n",
      "24/12/04 01:58:46 WARN MemoryStore: Not enough space to cache rdd_3_14 in memory! (computed 26.6 MiB so far)\n",
      "24/12/04 01:58:47 WARN MemoryStore: Not enough space to cache rdd_3_15 in memory! (computed 13.6 MiB so far)\n",
      "24/12/04 01:58:59 WARN MemoryStore: Not enough space to cache rdd_3_16 in memory! (computed 25.5 MiB so far)\n",
      "[Stage 21:====================================================>   (17 + 1) / 18]\r"
     ]
    },
    {
     "name": "stdout",
     "output_type": "stream",
     "text": [
      "+-------+--------------------+------------------+--------------------+------------------+-------------------+------------------+----------+------------------+------------------+------------------+------------------+------------------+--------------------+------------------+------------------+------------------+------------------+-----------+--------------------+--------------------+------------------+---------+------------+--------+---------+\n",
      "|summary|             CASE_ID|     ACCIDENT_YEAR|           PROC_DATE|             JURIS|     COLLISION_DATE|    COLLISION_TIME|OFFICER_ID|REPORTING_DISTRICT|       DAY_OF_WEEK|         CHP_SHIFT|        POPULATION|     CNTY_CITY_LOC|        SPECIAL_COND|         BEAT_TYPE|     CHP_BEAT_TYPE|CITY_DIVISION_LAPD|    CHP_BEAT_CLASS|BEAT_NUMBER|          PRIMARY_RD|        SECONDARY_RD|          DISTANCE|DIRECTION|INTERSECTION|LATITUDE|LONGITUDE|\n",
      "+-------+--------------------+------------------+--------------------+------------------+-------------------+------------------+----------+------------------+------------------+------------------+------------------+------------------+--------------------+------------------+------------------+------------------+------------------+-----------+--------------------+--------------------+------------------+---------+------------+--------+---------+\n",
      "|  count|             7307025|           7307025|             7307025|           7307025|            7307025|           7307025|   7286487|           3072443|           7307025|           7307025|           7305370|           7307025|             7307025|           7307025|           7307025|            955577|           7304538|    6625042|             7307001|             7307013|           7307025|  5612192|     7307025|       0|        0|\n",
      "|   mean|4.046274720094251...|2007.8562943195077|2.0085698576569673E7| 5791.089378100286|2.007922976536114E7|1348.6247734200992|  Infinity|          Infinity|3.9307778473455337| 3.562266312213247| 6.364985620167083|2795.7752892593085|0.004358036832307234|0.6724457628104461|1.2003414912563077|              NULL|0.8231518543677916|   Infinity|                 NaN|                 NaN| 696.7750780926574|     NULL|        NULL|    NULL|     NULL|\n",
      "| stddev|1.725593799341319E18| 4.550112563928987|   47593.43477605417|3495.7825049350026|  45488.91032925155|   567.32743381426|       NaN|               NaN|1.9372249934217913|1.6683555826256662|1.8546953732397402|1331.3379793967113| 0.06587142769544099|0.9253141118851621|1.6761803200818113|              NULL|0.9471903779383961|        NaN|                 NaN|                 NaN|17904.029142267005|     NULL|        NULL|    NULL|     NULL|\n",
      "|    min|              097293|              2001|            20010412|              0100|           20010101|              0000|        19|                 3|                 1|                 1|                 1|              0100|                   -|                 0|                 0|                  |                 0|          7|               IN...|                 ...|                 0|        -|           -|    NULL|     NULL|\n",
      "|    max| 9870011231152508671|              2016|            20160922|              9870|           20160922|              2500|    `P1311|             ~ESPD|                 7|                 5|                 9|              5802|                   1|                 4|                 S|                 R|                 2|      ~1024|         `WESTERN AV|          `TUSTIN AV|           9757440|        W|           Y|    NULL|     NULL|\n",
      "+-------+--------------------+------------------+--------------------+------------------+-------------------+------------------+----------+------------------+------------------+------------------+------------------+------------------+--------------------+------------------+------------------+------------------+------------------+-----------+--------------------+--------------------+------------------+---------+------------+--------+---------+\n",
      "\n"
     ]
    },
    {
     "name": "stderr",
     "output_type": "stream",
     "text": [
      "                                                                                \r"
     ]
    }
   ],
   "execution_count": 27
  },
  {
   "metadata": {
    "ExecuteTime": {
     "end_time": "2024-12-04T09:10:04.422616Z",
     "start_time": "2024-12-04T09:10:00.528510Z"
    }
   },
   "cell_type": "code",
   "source": [
    "# Filter rows where PRIMARY_RD or SECONDARY_RD contains \"...\"\n",
    "invalid_rd_cases = collision_df.filter(\n",
    "    (col(\"PRIMARY_RD\").contains(\"...\")) | (col(\"SECONDARY_RD\").contains(\"...\"))\n",
    ")\n",
    "\n",
    "invalid_rd_cases.show(truncate=False)\n",
    "\n"
   ],
   "id": "e93b82a028eec849",
   "outputs": [
    {
     "name": "stderr",
     "output_type": "stream",
     "text": [
      "24/12/04 02:10:03 WARN MemoryStore: Not enough space to cache rdd_3_12 in memory! (computed 26.9 MiB so far)\n",
      "24/12/04 02:10:03 WARN MemoryStore: Not enough space to cache rdd_3_13 in memory! (computed 27.1 MiB so far)\n",
      "24/12/04 02:10:03 WARN MemoryStore: Not enough space to cache rdd_3_14 in memory! (computed 13.6 MiB so far)\n",
      "24/12/04 02:10:04 WARN MemoryStore: Not enough space to cache rdd_3_15 in memory! (computed 26.5 MiB so far)\n",
      "24/12/04 02:10:04 WARN MemoryStore: Not enough space to cache rdd_3_16 in memory! (computed 13.2 MiB so far)\n",
      "[Stage 47:===========================================>            (10 + 2) / 13]\r"
     ]
    },
    {
     "name": "stdout",
     "output_type": "stream",
     "text": [
      "+-------+-------------+---------+-----+--------------+--------------+----------+------------------+-----------+---------+----------+-------------+------------+---------+-------------+------------------+--------------+-----------+----------+------------+--------+---------+------------+--------+---------+\n",
      "|CASE_ID|ACCIDENT_YEAR|PROC_DATE|JURIS|COLLISION_DATE|COLLISION_TIME|OFFICER_ID|REPORTING_DISTRICT|DAY_OF_WEEK|CHP_SHIFT|POPULATION|CNTY_CITY_LOC|SPECIAL_COND|BEAT_TYPE|CHP_BEAT_TYPE|CITY_DIVISION_LAPD|CHP_BEAT_CLASS|BEAT_NUMBER|PRIMARY_RD|SECONDARY_RD|DISTANCE|DIRECTION|INTERSECTION|LATITUDE|LONGITUDE|\n",
      "+-------+-------------+---------+-----+--------------+--------------+----------+------------------+-----------+---------+----------+-------------+------------+---------+-------------+------------------+--------------+-----------+----------+------------+--------+---------+------------+--------+---------+\n",
      "+-------+-------------+---------+-----+--------------+--------------+----------+------------------+-----------+---------+----------+-------------+------------+---------+-------------+------------------+--------------+-----------+----------+------------+--------+---------+------------+--------+---------+\n",
      "\n"
     ]
    },
    {
     "name": "stderr",
     "output_type": "stream",
     "text": [
      "                                                                                \r"
     ]
    }
   ],
   "execution_count": 35
  }
 ],
 "metadata": {
  "kernelspec": {
   "display_name": "Python 3",
   "language": "python",
   "name": "python3"
  },
  "language_info": {
   "codemirror_mode": {
    "name": "ipython",
    "version": 2
   },
   "file_extension": ".py",
   "mimetype": "text/x-python",
   "name": "python",
   "nbconvert_exporter": "python",
   "pygments_lexer": "ipython2",
   "version": "2.7.6"
  }
 },
 "nbformat": 4,
 "nbformat_minor": 5
}
