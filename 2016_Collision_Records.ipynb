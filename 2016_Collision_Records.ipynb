{
 "cells": [
  {
   "cell_type": "code",
   "execution_count": 1,
   "id": "initial_id",
   "metadata": {
    "ExecuteTime": {
     "end_time": "2024-12-16T07:07:41.064156Z",
     "start_time": "2024-12-16T07:03:53.645844Z"
    },
    "collapsed": true
   },
   "outputs": [
    {
     "name": "stderr",
     "output_type": "stream",
     "text": [
      "24/12/16 16:21:07 WARN Utils: Your hostname, Seans-MacBook-Pro.local resolves to a loopback address: 127.0.0.1; using 10.0.0.158 instead (on interface en0)\n",
      "24/12/16 16:21:07 WARN Utils: Set SPARK_LOCAL_IP if you need to bind to another address\n",
      "Setting default log level to \"WARN\".\n",
      "To adjust logging level use sc.setLogLevel(newLevel). For SparkR, use setLogLevel(newLevel).\n",
      "24/12/16 16:21:07 WARN NativeCodeLoader: Unable to load native-hadoop library for your platform... using builtin-java classes where applicable\n",
      "24/12/16 16:23:14 WARN MemoryStore: Not enough space to cache rdd_3_62 in memory! (computed 25.2 MiB so far)\n",
      "24/12/16 16:23:14 WARN BlockManager: Persisting block rdd_3_62 to disk instead.\n",
      "24/12/16 16:23:16 WARN MemoryStore: Not enough space to cache rdd_3_65 in memory! (computed 28.8 MiB so far)\n",
      "24/12/16 16:23:16 WARN BlockManager: Persisting block rdd_3_65 to disk instead.\n",
      "24/12/16 16:23:19 WARN MemoryStore: Not enough space to cache rdd_3_65 in memory! (computed 28.8 MiB so far)\n",
      "                                                                                \r"
     ]
    },
    {
     "name": "stdout",
     "output_type": "stream",
     "text": [
      "Non-Numerical Columns:  ['CASE_ID', 'PROC_DATE', 'JURIS', 'COLLISION_DATE', 'COLLISION_TIME', 'OFFICER_ID', 'REPORTING_DISTRICT', 'CHP_SHIFT', 'CNTY_CITY_LOC', 'SPECIAL_COND', 'BEAT_TYPE', 'CHP_BEAT_TYPE', 'CITY_DIVISION_LAPD', 'CHP_BEAT_CLASS', 'BEAT_NUMBER', 'PRIMARY_RD', 'SECONDARY_RD', 'DIRECTION', 'INTERSECTION']\n"
     ]
    },
    {
     "name": "stderr",
     "output_type": "stream",
     "text": [
      "24/12/16 16:23:22 WARN MemoryStore: Not enough space to cache rdd_3_65 in memory! (computed 28.8 MiB so far)\n",
      "24/12/16 16:23:24 WARN MemoryStore: Not enough space to cache rdd_3_65 in memory! (computed 28.8 MiB so far)\n",
      "24/12/16 16:23:25 WARN MemoryStore: Not enough space to cache rdd_3_65 in memory! (computed 28.8 MiB so far)\n",
      "24/12/16 16:23:26 WARN MemoryStore: Not enough space to cache rdd_3_65 in memory! (computed 28.8 MiB so far)\n",
      "24/12/16 16:23:27 WARN MemoryStore: Not enough space to cache rdd_3_65 in memory! (computed 28.8 MiB so far)\n",
      "24/12/16 16:23:28 WARN MemoryStore: Not enough space to cache rdd_3_65 in memory! (computed 28.8 MiB so far)\n",
      "24/12/16 16:23:29 WARN MemoryStore: Not enough space to cache rdd_3_65 in memory! (computed 28.8 MiB so far)\n",
      "24/12/16 16:23:30 WARN MemoryStore: Not enough space to cache rdd_3_65 in memory! (computed 28.8 MiB so far)\n",
      "24/12/16 16:23:31 WARN MemoryStore: Not enough space to cache rdd_3_65 in memory! (computed 28.8 MiB so far)\n",
      "24/12/16 16:23:32 WARN MemoryStore: Not enough space to cache rdd_3_65 in memory! (computed 28.8 MiB so far)\n",
      "24/12/16 16:23:32 WARN MemoryStore: Not enough space to cache rdd_3_65 in memory! (computed 28.8 MiB so far)\n",
      "24/12/16 16:23:33 WARN MemoryStore: Not enough space to cache rdd_3_65 in memory! (computed 28.8 MiB so far)\n",
      "24/12/16 16:23:33 WARN MemoryStore: Not enough space to cache rdd_3_65 in memory! (computed 28.8 MiB so far)\n",
      "24/12/16 16:23:35 WARN MemoryStore: Not enough space to cache rdd_3_65 in memory! (computed 28.8 MiB so far)\n",
      "24/12/16 16:23:35 WARN MemoryStore: Not enough space to cache rdd_3_65 in memory! (computed 28.8 MiB so far)\n",
      "24/12/16 16:23:36 WARN MemoryStore: Not enough space to cache rdd_3_65 in memory! (computed 28.8 MiB so far)\n",
      "24/12/16 16:23:36 WARN MemoryStore: Not enough space to cache rdd_3_65 in memory! (computed 28.8 MiB so far)\n",
      "24/12/16 16:23:37 WARN MemoryStore: Not enough space to cache rdd_3_65 in memory! (computed 28.8 MiB so far)\n",
      "24/12/16 16:23:37 WARN MemoryStore: Not enough space to cache rdd_3_65 in memory! (computed 28.8 MiB so far)\n",
      "24/12/16 16:23:37 WARN MemoryStore: Not enough space to cache rdd_3_65 in memory! (computed 28.8 MiB so far)\n",
      "                                                                                \r"
     ]
    },
    {
     "name": "stdout",
     "output_type": "stream",
     "text": [
      "+-------+-------------+---------+-----+--------------+--------------+----------+------------------+-----------+----------+-------------+---------+-------------+----------+------------+--------+---------+------------+\n",
      "|CASE_ID|ACCIDENT_YEAR|PROC_DATE|JURIS|COLLISION_DATE|COLLISION_TIME|OFFICER_ID|REPORTING_DISTRICT|DAY_OF_WEEK|POPULATION|CNTY_CITY_LOC|BEAT_TYPE|CHP_BEAT_TYPE|PRIMARY_RD|SECONDARY_RD|DISTANCE|DIRECTION|INTERSECTION|\n",
      "+-------+-------------+---------+-----+--------------+--------------+----------+------------------+-----------+----------+-------------+---------+-------------+----------+------------+--------+---------+------------+\n",
      "| 449906|         2002| 20030206| 1942|      20021008|          1845|     21594|              1145|          2|         7|         1942|        0|            0| GILROY ST|RIVERSIDE DR|       0|     NULL|           Y|\n",
      "| 097293|         2003| 20031223| 9435|      20031028|          1625|     15986|              NULL|          2|         9|         1000|        3|            5|SHIELDS AV|     YUBA AV|     500|        E|           N|\n",
      "| 373108|         2004| 20040622| 3311|      20040411|          1426|     15147|              3311|          7|         4|         3311|        0|            0|    RT 111|  MISSION AV|      96|        S|           N|\n",
      "| 965874|         2005| 20050620| 9855|      20050411|          1450|     15364|              NULL|          1|         6|         3607|        1|            1|     RT 15|       RT 10|     528|        N|           N|\n",
      "| 449906|         2002| 20030206| 1942|      20021008|          1845|     21594|              1145|          2|         7|         1942|        0|            0| GILROY ST|RIVERSIDE DR|       0|     NULL|           Y|\n",
      "+-------+-------------+---------+-----+--------------+--------------+----------+------------------+-----------+----------+-------------+---------+-------------+----------+------------+--------+---------+------------+\n",
      "only showing top 5 rows\n",
      "\n"
     ]
    },
    {
     "name": "stderr",
     "output_type": "stream",
     "text": [
      "24/12/16 16:23:46 WARN MemoryStore: Not enough space to cache rdd_3_65 in memory! (computed 28.8 MiB so far)\n",
      "                                                                                \r"
     ]
    },
    {
     "name": "stdout",
     "output_type": "stream",
     "text": [
      "+-------+-------------+---------+-----+--------------+--------------+----------+------------------+-----------+----------+-------------+---------+-------------+----------+------------+--------+---------+------------+\n",
      "|CASE_ID|ACCIDENT_YEAR|PROC_DATE|JURIS|COLLISION_DATE|COLLISION_TIME|OFFICER_ID|REPORTING_DISTRICT|DAY_OF_WEEK|POPULATION|CNTY_CITY_LOC|BEAT_TYPE|CHP_BEAT_TYPE|PRIMARY_RD|SECONDARY_RD|DISTANCE|DIRECTION|INTERSECTION|\n",
      "+-------+-------------+---------+-----+--------------+--------------+----------+------------------+-----------+----------+-------------+---------+-------------+----------+------------+--------+---------+------------+\n",
      "+-------+-------------+---------+-----+--------------+--------------+----------+------------------+-----------+----------+-------------+---------+-------------+----------+------------+--------+---------+------------+\n",
      "\n",
      "Cleaned Data Info:\n",
      "root\n",
      " |-- CASE_ID: string (nullable = true)\n",
      " |-- ACCIDENT_YEAR: integer (nullable = false)\n",
      " |-- PROC_DATE: string (nullable = true)\n",
      " |-- JURIS: string (nullable = true)\n",
      " |-- COLLISION_DATE: string (nullable = true)\n",
      " |-- COLLISION_TIME: string (nullable = true)\n",
      " |-- OFFICER_ID: string (nullable = true)\n",
      " |-- REPORTING_DISTRICT: string (nullable = true)\n",
      " |-- DAY_OF_WEEK: integer (nullable = false)\n",
      " |-- POPULATION: integer (nullable = false)\n",
      " |-- CNTY_CITY_LOC: string (nullable = true)\n",
      " |-- BEAT_TYPE: string (nullable = true)\n",
      " |-- CHP_BEAT_TYPE: string (nullable = true)\n",
      " |-- PRIMARY_RD: string (nullable = true)\n",
      " |-- SECONDARY_RD: string (nullable = true)\n",
      " |-- DISTANCE: integer (nullable = false)\n",
      " |-- DIRECTION: string (nullable = true)\n",
      " |-- INTERSECTION: string (nullable = true)\n",
      "\n",
      "+-------------------+-------------+---------+-----+--------------+--------------+----------+------------------+-----------+----------+-------------+---------+-------------+---------------+---------------+--------+---------+------------+\n",
      "|            CASE_ID|ACCIDENT_YEAR|PROC_DATE|JURIS|COLLISION_DATE|COLLISION_TIME|OFFICER_ID|REPORTING_DISTRICT|DAY_OF_WEEK|POPULATION|CNTY_CITY_LOC|BEAT_TYPE|CHP_BEAT_TYPE|     PRIMARY_RD|   SECONDARY_RD|DISTANCE|DIRECTION|INTERSECTION|\n",
      "+-------------------+-------------+---------+-----+--------------+--------------+----------+------------------+-----------+----------+-------------+---------+-------------+---------------+---------------+--------+---------+------------+\n",
      "|0100010101011401155|         2001| 20010416| 0100|      20010101|          0114|      1155|                 0|          1|         4|         0198|        0|            0|      DUBLIN BL|    SCARLETT CT|     267|        W|           N|\n",
      "|0100010103174503131|         2001| 20010416| 0100|      20010103|          1745|      3131|                10|          3|         4|         0198|        0|            0|   DOUGHERTY RD|  AMADOR VLY BL|      80|        N|           N|\n",
      "|0100010104134002415|         2001| 20010608| 0100|      20010104|          1340|      2415|                 0|          4|         4|         0198|        0|            0|   DOUGHERTY RD| RT 580 WBOFF/R|       0|        -|           Y|\n",
      "|0100010104170500911|         2001| 20010416| 0100|      20010104|          1705|       911|                 0|          4|         4|         0198|        0|            0|   SAN RAMON RD|      DUBLIN BL|      20|        S|           N|\n",
      "|0100010104184400911|         2001| 20010416| 0100|      20010104|          1844|       911|                 0|          4|         4|         0198|        0|            0|FREDERICKSON LN|FREDERICKSON CT|       0|        -|           Y|\n",
      "|0100010111091500326|         2001| 20010416| 0100|      20010111|          0915|       326|                 0|          4|         4|         0198|        0|            0|       CEDAR LN|      SPRUCE LN|     122|        W|           N|\n",
      "|0100010112131002415|         2001| 20010416| 0100|      20010112|          1310|      2415|                 0|          5|         4|         0198|        0|            0|      DUBLIN BL|      DUBLIN CT|       0|        W|           N|\n",
      "|0100010112174300911|         2001| 20010713| 0100|      20010112|          1743|       911|                 0|          5|         4|         0198|        0|            0|    HACIENDA DR| RT 580 WBOFF/R|      92|        S|           N|\n",
      "|0100010114170000911|         2001| 20010412| 0100|      20010114|          1700|       911|                 0|          7|         4|         0198|        0|            0|   SAN RAMON RD|     ALCOSTA BL|      20|        S|           N|\n",
      "|0100010117152502415|         2001| 20010423| 0100|      20010117|          1525|      2415|                 0|          3|         4|         0198|        0|            0|   VILLAGE PKWY|  AMADOR VLY BL|       0|        -|           Y|\n",
      "+-------------------+-------------+---------+-----+--------------+--------------+----------+------------------+-----------+----------+-------------+---------+-------------+---------------+---------------+--------+---------+------------+\n",
      "only showing top 10 rows\n",
      "\n"
     ]
    }
   ],
   "source": [
    "from pyspark.sql import SparkSession\n",
    "from pyspark.sql.types import StructType, StructField, StringType, IntegerType, DoubleType\n",
    "from pyspark.sql.functions import col, length\n",
    "\n",
    "# Define data and schema\n",
    "CollisionRecords = [\n",
    "    \"20160924_CollisionRecords.txt\",\n",
    "    \"20170112_CollisionRecords.txt\",\n",
    "    \"20180925_CollisionRecords.txt\",\n",
    "    \"20201024_CollisionRecords.txt\"\n",
    "]\n",
    "\n",
    "collision_schema = StructType([\n",
    "    StructField(\"CASE_ID\", StringType(), True),\n",
    "    StructField(\"ACCIDENT_YEAR\", IntegerType(), True),\n",
    "    StructField(\"PROC_DATE\", StringType(), True),\n",
    "    StructField(\"JURIS\", StringType(), True),\n",
    "    StructField(\"COLLISION_DATE\", StringType(), True),\n",
    "    StructField(\"COLLISION_TIME\", StringType(), True),\n",
    "    StructField(\"OFFICER_ID\", StringType(), True),\n",
    "    StructField(\"REPORTING_DISTRICT\", StringType(), True),\n",
    "    StructField(\"DAY_OF_WEEK\", IntegerType(), True),\n",
    "    StructField(\"CHP_SHIFT\", StringType(), True),\n",
    "    StructField(\"POPULATION\", IntegerType(), True),\n",
    "    StructField(\"CNTY_CITY_LOC\", StringType(), True),\n",
    "    StructField(\"SPECIAL_COND\", StringType(), True),\n",
    "    StructField(\"BEAT_TYPE\", StringType(), True),\n",
    "    StructField(\"CHP_BEAT_TYPE\", StringType(), True),\n",
    "    StructField(\"CITY_DIVISION_LAPD\", StringType(), True),\n",
    "    StructField(\"CHP_BEAT_CLASS\", StringType(), True),\n",
    "    StructField(\"BEAT_NUMBER\", StringType(), True),\n",
    "    StructField(\"PRIMARY_RD\", StringType(), True),\n",
    "    StructField(\"SECONDARY_RD\", StringType(), True),\n",
    "    StructField(\"DISTANCE\", IntegerType(), True),\n",
    "    StructField(\"DIRECTION\", StringType(), True),\n",
    "    StructField(\"INTERSECTION\", StringType(), True),\n",
    "    StructField(\"LATITUDE\", DoubleType(), True),\n",
    "    StructField(\"LONGITUDE\", DoubleType(), True),\n",
    "])\n",
    "\n",
    "# Start Spark session\n",
    "spark = (SparkSession.builder\n",
    "         .config(\"spark.executor.memory\", \"4g\")  # Increase executor memory\n",
    "         .config(\"spark.executor.cores\", \"2\")  # Number of cores per executor\n",
    "         .config(\"spark.driver.memory\", \"4g\")  # Increase driver memory\n",
    "         .appName(\"CollisionRecords\").getOrCreate())\n",
    "\n",
    "# Load the data\n",
    "collision_df = spark.read.csv(CollisionRecords, schema=collision_schema, header=False).cache()\n",
    "\n",
    "# Drop rows where CASE_ID matches the header\n",
    "header = collision_df.first()\n",
    "collision_df = collision_df.filter(col(\"CASE_ID\") != header[\"CASE_ID\"])\n",
    "\n",
    "#### Debug: Reduce dataset for testing ####\n",
    "#collision_df = collision_df.limit(10)\n",
    "\n",
    "# Step 1: Display non-numerical columns to the user\n",
    "non_numerical_columns = [f.name for f in collision_schema.fields if isinstance(f.dataType, StringType)]\n",
    "print(\"Non-Numerical Columns: \", non_numerical_columns)\n",
    "\n",
    "# Step 2: Manually specify columns to drop (modify this list for your needs)\n",
    "columns_to_drop = [\"CHP_SHIFT\", \"CITY_DIVISION_LAPD\", \"SPECIAL_COND\", \"CITY_DIVISION_LAPD\", \"CHP_BEAT_CLASS\", \"BEAT_NUMBER\" ]  # Example input\n",
    "\n",
    "# Drop the specified columns\n",
    "collision_df = collision_df.drop(*columns_to_drop)\n",
    "\n",
    "# Step 3: Drop columns with all null values\n",
    "columns_with_all_nulls = [col_name for col_name in collision_df.columns if collision_df.filter(col(col_name).isNotNull()).count() == 0]\n",
    "collision_df = collision_df.drop(*columns_with_all_nulls)\n",
    "\n",
    "# Handle nulls in critical columns\n",
    "collision_df = collision_df.fillna({\n",
    "    \"ACCIDENT_YEAR\": 0,\n",
    "    \"DAY_OF_WEEK\": 0,\n",
    "    \"POPULATION\": 0,\n",
    "    \"DISTANCE\": 0\n",
    "})\n",
    "\n",
    "# Ensure DAY_OF_WEEK values are valid\n",
    "collision_df = collision_df.filter((col(\"DAY_OF_WEEK\") >= 1) & (col(\"DAY_OF_WEEK\") <= 7))\n",
    "\n",
    "#### Debug: Check for corrupted data ####\n",
    "collision_df.filter(col(\"CASE_ID\").rlike(\"[^a-zA-Z0-9]\")).show(5)\n",
    "collision_df.filter(length(col(\"CASE_ID\")) > 50).show(5)\n",
    "\n",
    "\n",
    "# Show cleaned data\n",
    "print(\"Cleaned Data Info:\")\n",
    "collision_df.printSchema()\n",
    "collision_df.show(10)\n"
   ]
  },
  {
   "cell_type": "code",
   "execution_count": 2,
   "id": "b02d919df7337af3",
   "metadata": {
    "ExecuteTime": {
     "end_time": "2024-12-16T07:09:19.501422Z",
     "start_time": "2024-12-16T07:07:46.048244Z"
    }
   },
   "outputs": [
    {
     "name": "stderr",
     "output_type": "stream",
     "text": [
      "24/12/16 16:23:46 WARN SparkStringUtils: Truncated the string representation of a plan since it was too large. This behavior can be adjusted by setting 'spark.sql.debug.maxToStringFields'.\n",
      "24/12/16 16:25:03 WARN MemoryStore: Not enough space to cache rdd_3_65 in memory! (computed 28.8 MiB so far)\n",
      "[Stage 72:=======================================================>(67 + 1) / 68]\r"
     ]
    },
    {
     "name": "stdout",
     "output_type": "stream",
     "text": [
      "+-------+--------------------+------------------+--------------------+-----------------+--------------------+------------------+----------+------------------+------------------+-----------------+------------------+------------------+------------------+--------------------+--------------------+------------------+---------+------------+\n",
      "|summary|             CASE_ID|     ACCIDENT_YEAR|           PROC_DATE|            JURIS|      COLLISION_DATE|    COLLISION_TIME|OFFICER_ID|REPORTING_DISTRICT|       DAY_OF_WEEK|       POPULATION|     CNTY_CITY_LOC|         BEAT_TYPE|     CHP_BEAT_TYPE|          PRIMARY_RD|        SECONDARY_RD|          DISTANCE|DIRECTION|INTERSECTION|\n",
      "+-------+--------------------+------------------+--------------------+-----------------+--------------------+------------------+----------+------------------+------------------+-----------------+------------------+------------------+------------------+--------------------+--------------------+------------------+---------+------------+\n",
      "|  count|            28539312|          28539312|            28539312|         28539312|            28539312|          28539312|  28463668|          11706556|          28539312|         28539312|          28539312|          28539312|          28539165|            28539219|            28539268|          28539312| 21874654|    28539312|\n",
      "|   mean|3.107947788359744...|2009.3814928685035|2.0100837403355308E7|5848.727550181885|2.0094483333560005E7|1347.4308407294473|  Infinity|          Infinity| 3.929660462732949|6.393593475554001| 2790.182467993622|0.6830892086420173|1.2188788665323464|                 NaN|                 NaN| 573.5824397588842|    155.0|        NULL|\n",
      "| stddev|1.521945111094274...| 5.157320952927444|   52428.74932451693|3500.675081921975|   51565.13827693034|  569.748767526771|       NaN|               NaN|1.9368642452473206|7.816594160075986|1328.0676177963082|0.9260437153087688|1.6788297539505155|                 NaN|                 NaN|17578.233603378132|      0.0|        NULL|\n",
      "|    min|              097293|              2001|            20010412|             0100|            20010101|              0000|        19|                  |                 1|                0|                 0|                 0|                 0|                 ...|                 ...|                 0|        -|           -|\n",
      "|    max| 9870011231152508671|              2020|            20201022|             9875|            20201022|              2500|   `SD6854|             ~ESPD|                 7|             5604|              5802|                 S|                 S|         `WESTERN AV|          `TUSTIN AV|           9757440|        Y|           Y|\n",
      "+-------+--------------------+------------------+--------------------+-----------------+--------------------+------------------+----------+------------------+------------------+-----------------+------------------+------------------+------------------+--------------------+--------------------+------------------+---------+------------+\n",
      "\n"
     ]
    },
    {
     "name": "stderr",
     "output_type": "stream",
     "text": [
      "                                                                                \r"
     ]
    }
   ],
   "source": [
    "\n",
    "\n",
    "# Fix negative distance values \n",
    "collision_df = collision_df.filter(col(\"DISTANCE\") >= 0)\n",
    "collision_df.describe().show()\n",
    "\n"
   ]
  },
  {
   "cell_type": "code",
   "execution_count": 3,
   "id": "e93b82a028eec849",
   "metadata": {
    "ExecuteTime": {
     "end_time": "2024-12-16T07:09:50.789966Z",
     "start_time": "2024-12-16T07:09:45.722713Z"
    }
   },
   "outputs": [
    {
     "name": "stderr",
     "output_type": "stream",
     "text": [
      "24/12/16 16:25:18 WARN MemoryStore: Not enough space to cache rdd_3_65 in memory! (computed 28.8 MiB so far)\n",
      "[Stage 78:================================================>       (37 + 6) / 43]\r"
     ]
    },
    {
     "name": "stdout",
     "output_type": "stream",
     "text": [
      "+-------+-------------+---------+-----+--------------+--------------+----------+------------------+-----------+----------+-------------+---------+-------------+----------+------------+--------+---------+------------+\n",
      "|CASE_ID|ACCIDENT_YEAR|PROC_DATE|JURIS|COLLISION_DATE|COLLISION_TIME|OFFICER_ID|REPORTING_DISTRICT|DAY_OF_WEEK|POPULATION|CNTY_CITY_LOC|BEAT_TYPE|CHP_BEAT_TYPE|PRIMARY_RD|SECONDARY_RD|DISTANCE|DIRECTION|INTERSECTION|\n",
      "+-------+-------------+---------+-----+--------------+--------------+----------+------------------+-----------+----------+-------------+---------+-------------+----------+------------+--------+---------+------------+\n",
      "+-------+-------------+---------+-----+--------------+--------------+----------+------------------+-----------+----------+-------------+---------+-------------+----------+------------+--------+---------+------------+\n",
      "\n"
     ]
    },
    {
     "name": "stderr",
     "output_type": "stream",
     "text": [
      "                                                                                \r"
     ]
    }
   ],
   "source": [
    "# Filter rows where PRIMARY_RD or SECONDARY_RD contains \"...\"\n",
    "invalid_rd_cases = collision_df.filter(\n",
    "    (col(\"PRIMARY_RD\").contains(\"...\")) | (col(\"SECONDARY_RD\").contains(\"...\"))\n",
    ")\n",
    "\n",
    "invalid_rd_cases.show(truncate=False)\n",
    "\n"
   ]
  },
  {
   "cell_type": "code",
   "execution_count": 4,
   "id": "6976489b",
   "metadata": {
    "ExecuteTime": {
     "end_time": "2024-12-16T07:11:18.016313Z",
     "start_time": "2024-12-16T07:11:17.703566Z"
    }
   },
   "outputs": [
    {
     "name": "stderr",
     "output_type": "stream",
     "text": [
      "24/12/16 16:25:19 WARN MemoryStore: Not enough space to cache rdd_3_65 in memory! (computed 28.8 MiB so far)\n",
      "                                                                                \r"
     ]
    },
    {
     "name": "stdout",
     "output_type": "stream",
     "text": [
      "Number of rows in collision_df:  28539312\n"
     ]
    },
    {
     "name": "stderr",
     "output_type": "stream",
     "text": [
      "24/12/16 16:25:23 WARN MemoryStore: Not enough space to cache rdd_3_65 in memory! (computed 28.8 MiB so far)\n",
      "[Stage 83:====================================================>   (64 + 4) / 68]\r"
     ]
    },
    {
     "name": "stdout",
     "output_type": "stream",
     "text": [
      "Number of rows in filtered_df:  7813108\n"
     ]
    },
    {
     "name": "stderr",
     "output_type": "stream",
     "text": [
      "                                                                                \r"
     ]
    }
   ],
   "source": [
    "#count number of rows in collision_df\n",
    "print(\"Number of rows in collision_df: \", collision_df.count())\n",
    "\n",
    "# remove all \"not stated\" values and null\n",
    "filtered_df = collision_df.dropna()\n",
    "\n",
    "filtered_df.take(5)\n",
    "\n",
    "#count number of rows in filtered_df\n",
    "print(\"Number of rows in filtered_df: \", filtered_df.count())"
   ]
  },
  {
   "cell_type": "code",
   "execution_count": 5,
   "id": "d7715b7e",
   "metadata": {
    "ExecuteTime": {
     "end_time": "2024-12-16T07:11:57.721097Z",
     "start_time": "2024-12-16T07:11:40.916205Z"
    }
   },
   "outputs": [
    {
     "name": "stderr",
     "output_type": "stream",
     "text": [
      "24/12/16 16:25:31 WARN MemoryStore: Not enough space to cache rdd_3_65 in memory! (computed 28.8 MiB so far)\n",
      "                                                                                \r"
     ]
    },
    {
     "name": "stdout",
     "output_type": "stream",
     "text": [
      "Collision Records saved successfully\n"
     ]
    }
   ],
   "source": [
    "# Save the cleaned Collision Records DataFrame as CSV\n",
    "filtered_df.write.csv(\"clean_collision_records.csv\", header=True, mode=\"overwrite\")\n",
    "print(\"Collision Records saved successfully\")\n",
    "\n",
    "#close spark session\n",
    "spark.stop()"
   ]
  }
 ],
 "metadata": {
  "kernelspec": {
   "display_name": "Python 3",
   "language": "python",
   "name": "python3"
  },
  "language_info": {
   "codemirror_mode": {
    "name": "ipython",
    "version": 3
   },
   "file_extension": ".py",
   "mimetype": "text/x-python",
   "name": "python",
   "nbconvert_exporter": "python",
   "pygments_lexer": "ipython3",
   "version": "3.11.5"
  }
 },
 "nbformat": 4,
 "nbformat_minor": 5
}
