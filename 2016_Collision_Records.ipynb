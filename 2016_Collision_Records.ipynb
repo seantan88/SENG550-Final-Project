{
 "cells": [
  {
   "cell_type": "code",
   "execution_count": 10,
   "id": "initial_id",
   "metadata": {
    "ExecuteTime": {
     "end_time": "2024-12-04T08:57:00.799764Z",
     "start_time": "2024-12-04T08:55:09.641004Z"
    },
    "collapsed": true
   },
   "outputs": [
    {
     "name": "stdout",
     "output_type": "stream",
     "text": [
      "Non-Numerical Columns:  ['CASE_ID', 'PROC_DATE', 'JURIS', 'COLLISION_DATE', 'COLLISION_TIME', 'OFFICER_ID', 'REPORTING_DISTRICT', 'CHP_SHIFT', 'CNTY_CITY_LOC', 'SPECIAL_COND', 'BEAT_TYPE', 'CHP_BEAT_TYPE', 'CITY_DIVISION_LAPD', 'CHP_BEAT_CLASS', 'BEAT_NUMBER', 'PRIMARY_RD', 'SECONDARY_RD', 'DIRECTION', 'INTERSECTION']\n"
     ]
    },
    {
     "name": "stderr",
     "output_type": "stream",
     "text": [
      "                                                                                \r"
     ]
    },
    {
     "name": "stdout",
     "output_type": "stream",
     "text": [
      "+-------+-------------+---------+-----+--------------+--------------+----------+------------------+-----------+---------+----------+-------------+------------+---------+-------------+------------------+--------------+-----------+----------+------------+--------+---------+------------+\n",
      "|CASE_ID|ACCIDENT_YEAR|PROC_DATE|JURIS|COLLISION_DATE|COLLISION_TIME|OFFICER_ID|REPORTING_DISTRICT|DAY_OF_WEEK|CHP_SHIFT|POPULATION|CNTY_CITY_LOC|SPECIAL_COND|BEAT_TYPE|CHP_BEAT_TYPE|CITY_DIVISION_LAPD|CHP_BEAT_CLASS|BEAT_NUMBER|PRIMARY_RD|SECONDARY_RD|DISTANCE|DIRECTION|INTERSECTION|\n",
      "+-------+-------------+---------+-----+--------------+--------------+----------+------------------+-----------+---------+----------+-------------+------------+---------+-------------+------------------+--------------+-----------+----------+------------+--------+---------+------------+\n",
      "| 449906|         2002| 20030206| 1942|      20021008|          1845|     21594|              1145|          2|        5|         7|         1942|           0|        0|            0|                 K|             0|     NOEDSK| GILROY ST|RIVERSIDE DR|       0|     NULL|           Y|\n",
      "| 097293|         2003| 20031223| 9435|      20031028|          1625|     15986|              NULL|          2|        2|         9|         1000|           0|        3|            5|              NULL|             2|        010|SHIELDS AV|     YUBA AV|     500|        E|           N|\n",
      "| 373108|         2004| 20040622| 3311|      20040411|          1426|     15147|              3311|          7|        5|         4|         3311|           0|        0|            0|              NULL|             0|        004|    RT 111|  MISSION AV|      96|        S|           N|\n",
      "| 965874|         2005| 20050620| 9855|      20050411|          1450|     15364|              NULL|          1|        2|         6|         3607|           0|        1|            1|              NULL|             2|        152|     RT 15|       RT 10|     528|        N|           N|\n",
      "| 449906|         2002| 20030206| 1942|      20021008|          1845|     21594|              1145|          2|        5|         7|         1942|           0|        0|            0|                 K|             0|     NOEDSK| GILROY ST|RIVERSIDE DR|       0|     NULL|           Y|\n",
      "+-------+-------------+---------+-----+--------------+--------------+----------+------------------+-----------+---------+----------+-------------+------------+---------+-------------+------------------+--------------+-----------+----------+------------+--------+---------+------------+\n",
      "only showing top 5 rows\n",
      "\n"
     ]
    },
    {
     "name": "stderr",
     "output_type": "stream",
     "text": [
      "                                                                                \r"
     ]
    },
    {
     "name": "stdout",
     "output_type": "stream",
     "text": [
      "+-------+-------------+---------+-----+--------------+--------------+----------+------------------+-----------+---------+----------+-------------+------------+---------+-------------+------------------+--------------+-----------+----------+------------+--------+---------+------------+\n",
      "|CASE_ID|ACCIDENT_YEAR|PROC_DATE|JURIS|COLLISION_DATE|COLLISION_TIME|OFFICER_ID|REPORTING_DISTRICT|DAY_OF_WEEK|CHP_SHIFT|POPULATION|CNTY_CITY_LOC|SPECIAL_COND|BEAT_TYPE|CHP_BEAT_TYPE|CITY_DIVISION_LAPD|CHP_BEAT_CLASS|BEAT_NUMBER|PRIMARY_RD|SECONDARY_RD|DISTANCE|DIRECTION|INTERSECTION|\n",
      "+-------+-------------+---------+-----+--------------+--------------+----------+------------------+-----------+---------+----------+-------------+------------+---------+-------------+------------------+--------------+-----------+----------+------------+--------+---------+------------+\n",
      "+-------+-------------+---------+-----+--------------+--------------+----------+------------------+-----------+---------+----------+-------------+------------+---------+-------------+------------------+--------------+-----------+----------+------------+--------+---------+------------+\n",
      "\n",
      "Cleaned Data Info:\n",
      "root\n",
      " |-- CASE_ID: string (nullable = true)\n",
      " |-- ACCIDENT_YEAR: integer (nullable = false)\n",
      " |-- PROC_DATE: string (nullable = true)\n",
      " |-- JURIS: string (nullable = true)\n",
      " |-- COLLISION_DATE: string (nullable = true)\n",
      " |-- COLLISION_TIME: string (nullable = true)\n",
      " |-- OFFICER_ID: string (nullable = true)\n",
      " |-- REPORTING_DISTRICT: string (nullable = true)\n",
      " |-- DAY_OF_WEEK: integer (nullable = false)\n",
      " |-- CHP_SHIFT: string (nullable = true)\n",
      " |-- POPULATION: integer (nullable = false)\n",
      " |-- CNTY_CITY_LOC: string (nullable = true)\n",
      " |-- SPECIAL_COND: string (nullable = true)\n",
      " |-- BEAT_TYPE: string (nullable = true)\n",
      " |-- CHP_BEAT_TYPE: string (nullable = true)\n",
      " |-- CITY_DIVISION_LAPD: string (nullable = true)\n",
      " |-- CHP_BEAT_CLASS: string (nullable = true)\n",
      " |-- BEAT_NUMBER: string (nullable = true)\n",
      " |-- PRIMARY_RD: string (nullable = true)\n",
      " |-- SECONDARY_RD: string (nullable = true)\n",
      " |-- DISTANCE: integer (nullable = false)\n",
      " |-- DIRECTION: string (nullable = true)\n",
      " |-- INTERSECTION: string (nullable = true)\n",
      "\n",
      "+-------------------+-------------+---------+-----+--------------+--------------+----------+------------------+-----------+---------+----------+-------------+------------+---------+-------------+------------------+--------------+-----------+---------------+---------------+--------+---------+------------+\n",
      "|            CASE_ID|ACCIDENT_YEAR|PROC_DATE|JURIS|COLLISION_DATE|COLLISION_TIME|OFFICER_ID|REPORTING_DISTRICT|DAY_OF_WEEK|CHP_SHIFT|POPULATION|CNTY_CITY_LOC|SPECIAL_COND|BEAT_TYPE|CHP_BEAT_TYPE|CITY_DIVISION_LAPD|CHP_BEAT_CLASS|BEAT_NUMBER|     PRIMARY_RD|   SECONDARY_RD|DISTANCE|DIRECTION|INTERSECTION|\n",
      "+-------------------+-------------+---------+-----+--------------+--------------+----------+------------------+-----------+---------+----------+-------------+------------+---------+-------------+------------------+--------------+-----------+---------------+---------------+--------+---------+------------+\n",
      "|0100010101011401155|         2001| 20010416| 0100|      20010101|          0114|      1155|                 0|          1|        5|         4|         0198|           -|        0|            0|                  |             0|        073|      DUBLIN BL|    SCARLETT CT|     267|        W|           N|\n",
      "|0100010103174503131|         2001| 20010416| 0100|      20010103|          1745|      3131|                10|          3|        5|         4|         0198|           -|        0|            0|                  |             0|        073|   DOUGHERTY RD|  AMADOR VLY BL|      80|        N|           N|\n",
      "|0100010104134002415|         2001| 20010608| 0100|      20010104|          1340|      2415|                 0|          4|        5|         4|         0198|           -|        0|            0|                  |             0|        073|   DOUGHERTY RD| RT 580 WBOFF/R|       0|        -|           Y|\n",
      "|0100010104170500911|         2001| 20010416| 0100|      20010104|          1705|       911|                 0|          4|        5|         4|         0198|           -|        0|            0|                  |             0|        076|   SAN RAMON RD|      DUBLIN BL|      20|        S|           N|\n",
      "|0100010104184400911|         2001| 20010416| 0100|      20010104|          1844|       911|                 0|          4|        5|         4|         0198|           -|        0|            0|                  |             0|        076|FREDERICKSON LN|FREDERICKSON CT|       0|        -|           Y|\n",
      "|0100010111091500326|         2001| 20010416| 0100|      20010111|          0915|       326|                 0|          4|        5|         4|         0198|           -|        0|            0|                  |             0|        074|       CEDAR LN|      SPRUCE LN|     122|        W|           N|\n",
      "|0100010112131002415|         2001| 20010416| 0100|      20010112|          1310|      2415|                 0|          5|        5|         4|         0198|           -|        0|            0|                  |             0|        073|      DUBLIN BL|      DUBLIN CT|       0|        W|           N|\n",
      "|0100010112174300911|         2001| 20010713| 0100|      20010112|          1743|       911|                 0|          5|        5|         4|         0198|           -|        0|            0|                  |             0|        076|    HACIENDA DR| RT 580 WBOFF/R|      92|        S|           N|\n",
      "|0100010114170000911|         2001| 20010412| 0100|      20010114|          1700|       911|                 0|          7|        5|         4|         0198|           -|        0|            0|                  |             0|        076|   SAN RAMON RD|     ALCOSTA BL|      20|        S|           N|\n",
      "|0100010117152502415|         2001| 20010423| 0100|      20010117|          1525|      2415|                 0|          3|        5|         4|         0198|           -|        0|            0|                  |             0|        072|   VILLAGE PKWY|  AMADOR VLY BL|       0|        -|           Y|\n",
      "+-------------------+-------------+---------+-----+--------------+--------------+----------+------------------+-----------+---------+----------+-------------+------------+---------+-------------+------------------+--------------+-----------+---------------+---------------+--------+---------+------------+\n",
      "only showing top 10 rows\n",
      "\n"
     ]
    }
   ],
   "source": [
    "from pyspark.sql import SparkSession\n",
    "from pyspark.sql.types import StructType, StructField, StringType, IntegerType, DoubleType\n",
    "from pyspark.sql.functions import col, length\n",
    "\n",
    "# Define data and schema\n",
    "CollisionRecords = [\n",
    "    \"20160924_CollisionRecords.txt\",\n",
    "    \"20170112_CollisionRecords.txt\",\n",
    "    \"20180925_CollisionRecords.txt\",\n",
    "    \"20201024_CollisionRecords.txt\"\n",
    "]\n",
    "\n",
    "collision_schema = StructType([\n",
    "    StructField(\"CASE_ID\", StringType(), True),\n",
    "    StructField(\"ACCIDENT_YEAR\", IntegerType(), True),\n",
    "    StructField(\"PROC_DATE\", StringType(), True),\n",
    "    StructField(\"JURIS\", StringType(), True),\n",
    "    StructField(\"COLLISION_DATE\", StringType(), True),\n",
    "    StructField(\"COLLISION_TIME\", StringType(), True),\n",
    "    StructField(\"OFFICER_ID\", StringType(), True),\n",
    "    StructField(\"REPORTING_DISTRICT\", StringType(), True),\n",
    "    StructField(\"DAY_OF_WEEK\", IntegerType(), True),\n",
    "    StructField(\"CHP_SHIFT\", StringType(), True),\n",
    "    StructField(\"POPULATION\", IntegerType(), True),\n",
    "    StructField(\"CNTY_CITY_LOC\", StringType(), True),\n",
    "    StructField(\"SPECIAL_COND\", StringType(), True),\n",
    "    StructField(\"BEAT_TYPE\", StringType(), True),\n",
    "    StructField(\"CHP_BEAT_TYPE\", StringType(), True),\n",
    "    StructField(\"CITY_DIVISION_LAPD\", StringType(), True),\n",
    "    StructField(\"CHP_BEAT_CLASS\", StringType(), True),\n",
    "    StructField(\"BEAT_NUMBER\", StringType(), True),\n",
    "    StructField(\"PRIMARY_RD\", StringType(), True),\n",
    "    StructField(\"SECONDARY_RD\", StringType(), True),\n",
    "    StructField(\"DISTANCE\", IntegerType(), True),\n",
    "    StructField(\"DIRECTION\", StringType(), True),\n",
    "    StructField(\"INTERSECTION\", StringType(), True),\n",
    "    StructField(\"LATITUDE\", DoubleType(), True),\n",
    "    StructField(\"LONGITUDE\", DoubleType(), True),\n",
    "])\n",
    "\n",
    "# Start Spark session\n",
    "spark = SparkSession.builder.appName(\"CollisionRecords\").getOrCreate()\n",
    "\n",
    "# Load the data\n",
    "collision_df = spark.read.csv(CollisionRecords, schema=collision_schema, header=False)\n",
    "\n",
    "# Drop rows where CASE_ID matches the header\n",
    "header = collision_df.first().asDict()\n",
    "collision_df = collision_df.filter(col(\"CASE_ID\") != header[\"CASE_ID\"])\n",
    "\n",
    "# Step 1: Display non-numerical columns to the user\n",
    "non_numerical_columns = [f.name for f in collision_schema.fields if isinstance(f.dataType, StringType)]\n",
    "print(\"Non-Numerical Columns: \", non_numerical_columns)\n",
    "\n",
    "\n",
    "\n",
    "# Step 3: Drop columns with all null values\n",
    "columns_with_all_nulls = [col_name for col_name in collision_df.columns if collision_df.filter(col(col_name).isNotNull()).count() == 0]\n",
    "collision_df = collision_df.drop(*columns_with_all_nulls)\n",
    "\n",
    "# Handle nulls in critical columns\n",
    "collision_df = collision_df.fillna({\n",
    "    \"ACCIDENT_YEAR\": 0,\n",
    "    \"DAY_OF_WEEK\": 0,\n",
    "    \"POPULATION\": 0,\n",
    "    \"DISTANCE\": 0\n",
    "})\n",
    "\n",
    "# Ensure DAY_OF_WEEK values are valid\n",
    "collision_df = collision_df.filter((col(\"DAY_OF_WEEK\") >= 1) & (col(\"DAY_OF_WEEK\") <= 7))\n",
    "\n",
    "# Debug: Check for corrupted data\n",
    "collision_df.filter(col(\"CASE_ID\").rlike(\"[^a-zA-Z0-9]\")).show(5)\n",
    "collision_df.filter(length(col(\"CASE_ID\")) > 50).show(5)\n",
    "\n",
    "\n",
    "\n",
    "# Show cleaned data\n",
    "print(\"Cleaned Data Info:\")\n",
    "collision_df.printSchema()\n",
    "collision_df.show(10)\n"
   ]
  },
  {
   "cell_type": "code",
   "execution_count": 11,
   "id": "b02d919df7337af3",
   "metadata": {
    "ExecuteTime": {
     "end_time": "2024-12-04T08:59:12.466488Z",
     "start_time": "2024-12-04T08:57:16.343064Z"
    }
   },
   "outputs": [
    {
     "name": "stderr",
     "output_type": "stream",
     "text": [
      "[Stage 223:======================================================>(67 + 1) / 68]\r"
     ]
    },
    {
     "name": "stdout",
     "output_type": "stream",
     "text": [
      "+-------+--------------------+------------------+--------------------+-----------------+--------------------+------------------+----------+------------------+------------------+------------------+-----------------+------------------+--------------------+------------------+------------------+-------------------+------------------+-----------+--------------------+--------------------+------------------+---------+------------+\n",
      "|summary|             CASE_ID|     ACCIDENT_YEAR|           PROC_DATE|            JURIS|      COLLISION_DATE|    COLLISION_TIME|OFFICER_ID|REPORTING_DISTRICT|       DAY_OF_WEEK|         CHP_SHIFT|       POPULATION|     CNTY_CITY_LOC|        SPECIAL_COND|         BEAT_TYPE|     CHP_BEAT_TYPE| CITY_DIVISION_LAPD|    CHP_BEAT_CLASS|BEAT_NUMBER|          PRIMARY_RD|        SECONDARY_RD|          DISTANCE|DIRECTION|INTERSECTION|\n",
      "+-------+--------------------+------------------+--------------------+-----------------+--------------------+------------------+----------+------------------+------------------+------------------+-----------------+------------------+--------------------+------------------+------------------+-------------------+------------------+-----------+--------------------+--------------------+------------------+---------+------------+\n",
      "|  count|            28539312|          28539312|            28539312|         28539312|            28539312|          28539312|  28463668|          11706556|          28539312|          28539312|         28539312|          28539312|            28539312|          28539312|          28539165|            3291705|          28531807|   26043563|            28539219|            28539268|          28539312| 21874654|    28539312|\n",
      "|   mean|3.107947788359744...|2009.3814928685035|2.0100837403355308E7|5848.727550181885|2.0094483333560005E7|1347.4308407294473|  Infinity|          Infinity| 3.929660462732949|3.5353689675490427|6.393593475554001| 2790.182467993622|0.004245295485413355|0.6830892086420173|1.2188788665323464|0.48366013071895425|0.8410933918739342|        NaN|                 NaN|                 NaN| 573.5824397588842|    155.0|        NULL|\n",
      "| stddev|1.521945111094274...| 5.157320952927444|   52428.74932451693|3500.675081921975|   51565.13827693034|  569.748767526771|       NaN|               NaN|1.9368642452473206| 1.671075068431263|7.816594160075986|1328.0676177963082| 0.06503629416488557|0.9260437153087688|1.6788297539505155| 0.7955846506566785| 1.062220610645251|        NaN|                 NaN|                 NaN|17578.233603378132|      0.0|        NULL|\n",
      "|    min|              097293|              2001|            20010412|             0100|            20010101|              0000|        19|                  |                 1|                 1|                0|                 0|                   -|                 0|                 0|                   |                 0|         YV|                 ...|                 ...|                 0|        -|           -|\n",
      "|    max| 9870011231152508671|              2020|            20201022|             9875|            20201022|              2500|   `SD6854|             ~ESPD|                 7|                 9|             5604|              5802|                   4|                 S|                 S|                  R|               WI1|      ~1024|         `WESTERN AV|          `TUSTIN AV|           9757440|        Y|           Y|\n",
      "+-------+--------------------+------------------+--------------------+-----------------+--------------------+------------------+----------+------------------+------------------+------------------+-----------------+------------------+--------------------+------------------+------------------+-------------------+------------------+-----------+--------------------+--------------------+------------------+---------+------------+\n",
      "\n"
     ]
    },
    {
     "name": "stderr",
     "output_type": "stream",
     "text": [
      "                                                                                \r"
     ]
    }
   ],
   "source": [
    "\n",
    "\n",
    "# Fix negative distance values \n",
    "collision_df = collision_df.filter(col(\"DISTANCE\") >= 0)\n",
    "collision_df.describe().show()\n",
    "\n"
   ]
  },
  {
   "cell_type": "code",
   "execution_count": 12,
   "id": "e93b82a028eec849",
   "metadata": {
    "ExecuteTime": {
     "end_time": "2024-12-04T09:10:04.422616Z",
     "start_time": "2024-12-04T09:10:00.528510Z"
    }
   },
   "outputs": [
    {
     "name": "stderr",
     "output_type": "stream",
     "text": [
      "[Stage 229:================================================>      (38 + 5) / 43]\r"
     ]
    },
    {
     "name": "stdout",
     "output_type": "stream",
     "text": [
      "+-------+-------------+---------+-----+--------------+--------------+----------+------------------+-----------+---------+----------+-------------+------------+---------+-------------+------------------+--------------+-----------+----------+------------+--------+---------+------------+\n",
      "|CASE_ID|ACCIDENT_YEAR|PROC_DATE|JURIS|COLLISION_DATE|COLLISION_TIME|OFFICER_ID|REPORTING_DISTRICT|DAY_OF_WEEK|CHP_SHIFT|POPULATION|CNTY_CITY_LOC|SPECIAL_COND|BEAT_TYPE|CHP_BEAT_TYPE|CITY_DIVISION_LAPD|CHP_BEAT_CLASS|BEAT_NUMBER|PRIMARY_RD|SECONDARY_RD|DISTANCE|DIRECTION|INTERSECTION|\n",
      "+-------+-------------+---------+-----+--------------+--------------+----------+------------------+-----------+---------+----------+-------------+------------+---------+-------------+------------------+--------------+-----------+----------+------------+--------+---------+------------+\n",
      "+-------+-------------+---------+-----+--------------+--------------+----------+------------------+-----------+---------+----------+-------------+------------+---------+-------------+------------------+--------------+-----------+----------+------------+--------+---------+------------+\n",
      "\n"
     ]
    },
    {
     "name": "stderr",
     "output_type": "stream",
     "text": [
      "                                                                                \r"
     ]
    }
   ],
   "source": [
    "# Filter rows where PRIMARY_RD or SECONDARY_RD contains \"...\"\n",
    "invalid_rd_cases = collision_df.filter(\n",
    "    (col(\"PRIMARY_RD\").contains(\"...\")) | (col(\"SECONDARY_RD\").contains(\"...\"))\n",
    ")\n",
    "\n",
    "invalid_rd_cases.show(truncate=False)\n",
    "\n"
   ]
  },
  {
   "cell_type": "code",
   "execution_count": 13,
   "id": "6976489b",
   "metadata": {},
   "outputs": [
    {
     "data": {
      "text/plain": [
       "[Row(CASE_ID='0100010101011401155', ACCIDENT_YEAR=2001, PROC_DATE='20010416', JURIS='0100', COLLISION_DATE='20010101', COLLISION_TIME='0114', OFFICER_ID='1155', REPORTING_DISTRICT='0', DAY_OF_WEEK=1, CHP_SHIFT='5', POPULATION=4, CNTY_CITY_LOC='0198', SPECIAL_COND='-', BEAT_TYPE='0', CHP_BEAT_TYPE='0', CITY_DIVISION_LAPD=' ', CHP_BEAT_CLASS='0', BEAT_NUMBER='073', PRIMARY_RD='DUBLIN BL', SECONDARY_RD='SCARLETT CT', DISTANCE=267, DIRECTION='W', INTERSECTION='N'),\n",
       " Row(CASE_ID='0100010103174503131', ACCIDENT_YEAR=2001, PROC_DATE='20010416', JURIS='0100', COLLISION_DATE='20010103', COLLISION_TIME='1745', OFFICER_ID='3131', REPORTING_DISTRICT='10', DAY_OF_WEEK=3, CHP_SHIFT='5', POPULATION=4, CNTY_CITY_LOC='0198', SPECIAL_COND='-', BEAT_TYPE='0', CHP_BEAT_TYPE='0', CITY_DIVISION_LAPD=' ', CHP_BEAT_CLASS='0', BEAT_NUMBER='073', PRIMARY_RD='DOUGHERTY RD', SECONDARY_RD='AMADOR VLY BL', DISTANCE=80, DIRECTION='N', INTERSECTION='N'),\n",
       " Row(CASE_ID='0100010104134002415', ACCIDENT_YEAR=2001, PROC_DATE='20010608', JURIS='0100', COLLISION_DATE='20010104', COLLISION_TIME='1340', OFFICER_ID='2415', REPORTING_DISTRICT='0', DAY_OF_WEEK=4, CHP_SHIFT='5', POPULATION=4, CNTY_CITY_LOC='0198', SPECIAL_COND='-', BEAT_TYPE='0', CHP_BEAT_TYPE='0', CITY_DIVISION_LAPD=' ', CHP_BEAT_CLASS='0', BEAT_NUMBER='073', PRIMARY_RD='DOUGHERTY RD', SECONDARY_RD='RT 580 WBOFF/R', DISTANCE=0, DIRECTION='-', INTERSECTION='Y'),\n",
       " Row(CASE_ID='0100010104170500911', ACCIDENT_YEAR=2001, PROC_DATE='20010416', JURIS='0100', COLLISION_DATE='20010104', COLLISION_TIME='1705', OFFICER_ID='911', REPORTING_DISTRICT='0', DAY_OF_WEEK=4, CHP_SHIFT='5', POPULATION=4, CNTY_CITY_LOC='0198', SPECIAL_COND='-', BEAT_TYPE='0', CHP_BEAT_TYPE='0', CITY_DIVISION_LAPD=' ', CHP_BEAT_CLASS='0', BEAT_NUMBER='076', PRIMARY_RD='SAN RAMON RD', SECONDARY_RD='DUBLIN BL', DISTANCE=20, DIRECTION='S', INTERSECTION='N'),\n",
       " Row(CASE_ID='0100010104184400911', ACCIDENT_YEAR=2001, PROC_DATE='20010416', JURIS='0100', COLLISION_DATE='20010104', COLLISION_TIME='1844', OFFICER_ID='911', REPORTING_DISTRICT='0', DAY_OF_WEEK=4, CHP_SHIFT='5', POPULATION=4, CNTY_CITY_LOC='0198', SPECIAL_COND='-', BEAT_TYPE='0', CHP_BEAT_TYPE='0', CITY_DIVISION_LAPD=' ', CHP_BEAT_CLASS='0', BEAT_NUMBER='076', PRIMARY_RD='FREDERICKSON LN', SECONDARY_RD='FREDERICKSON CT', DISTANCE=0, DIRECTION='-', INTERSECTION='Y')]"
      ]
     },
     "execution_count": 13,
     "metadata": {},
     "output_type": "execute_result"
    }
   ],
   "source": [
    "\n",
    "\n",
    "# remove all \"not stated - values\" and null\n",
    "filterCondition = (col(collision_df.columns[0]) != \"-\")\n",
    "filterCondition = filterCondition | (col(collision_df.columns[0]) != None)\n",
    "\n",
    "\n",
    "for c in collision_df.columns[1:]:\n",
    "    filterCondition = filterCondition | (col(c) != \"-\")\n",
    "    filterCondition = filterCondition | (col(c) != None)\n",
    "\n",
    "filtered_df = collision_df.filter(filterCondition)\n",
    "filtered_df.head(5)"
   ]
  },
  {
   "cell_type": "code",
   "execution_count": 14,
   "id": "dee4a167",
   "metadata": {},
   "outputs": [
    {
     "name": "stderr",
     "output_type": "stream",
     "text": [
      "                                                                                \r"
     ]
    },
    {
     "name": "stdout",
     "output_type": "stream",
     "text": [
      "+-------------------+-------------+---------+-----+--------------+--------------+----------+------------------+-----------+----------+-------------+---------------+---------------+--------+------------------+---------------+----------------+-------------+\n",
      "|CASE_ID            |ACCIDENT_YEAR|PROC_DATE|JURIS|COLLISION_DATE|COLLISION_TIME|OFFICER_ID|REPORTING_DISTRICT|DAY_OF_WEEK|POPULATION|CNTY_CITY_LOC|PRIMARY_RD     |SECONDARY_RD   |DISTANCE|INTERSECTION_index|DIRECTION_index|INTERSECTION_vec|DIRECTION_vec|\n",
      "+-------------------+-------------+---------+-----+--------------+--------------+----------+------------------+-----------+----------+-------------+---------------+---------------+--------+------------------+---------------+----------------+-------------+\n",
      "|0100010101011401155|2001         |20010416 |0100 |20010101      |0114          |1155      |0                 |1          |4         |0198         |DUBLIN BL      |SCARLETT CT    |267     |0.0               |3.0            |(6,[0],[1.0])   |(7,[3],[1.0])|\n",
      "|0100010103174503131|2001         |20010416 |0100 |20010103      |1745          |3131      |10                |3          |4         |0198         |DOUGHERTY RD   |AMADOR VLY BL  |80      |0.0               |1.0            |(6,[0],[1.0])   |(7,[1],[1.0])|\n",
      "|0100010104134002415|2001         |20010608 |0100 |20010104      |1340          |2415      |0                 |4          |4         |0198         |DOUGHERTY RD   |RT 580 WBOFF/R |0       |1.0               |4.0            |(6,[1],[1.0])   |(7,[4],[1.0])|\n",
      "|0100010104170500911|2001         |20010416 |0100 |20010104      |1705          |911       |0                 |4          |4         |0198         |SAN RAMON RD   |DUBLIN BL      |20      |0.0               |0.0            |(6,[0],[1.0])   |(7,[0],[1.0])|\n",
      "|0100010104184400911|2001         |20010416 |0100 |20010104      |1844          |911       |0                 |4          |4         |0198         |FREDERICKSON LN|FREDERICKSON CT|0       |1.0               |4.0            |(6,[1],[1.0])   |(7,[4],[1.0])|\n",
      "|0100010111091500326|2001         |20010416 |0100 |20010111      |0915          |326       |0                 |4          |4         |0198         |CEDAR LN       |SPRUCE LN      |122     |0.0               |3.0            |(6,[0],[1.0])   |(7,[3],[1.0])|\n",
      "|0100010112131002415|2001         |20010416 |0100 |20010112      |1310          |2415      |0                 |5          |4         |0198         |DUBLIN BL      |DUBLIN CT      |0       |0.0               |3.0            |(6,[0],[1.0])   |(7,[3],[1.0])|\n",
      "|0100010112174300911|2001         |20010713 |0100 |20010112      |1743          |911       |0                 |5          |4         |0198         |HACIENDA DR    |RT 580 WBOFF/R |92      |0.0               |0.0            |(6,[0],[1.0])   |(7,[0],[1.0])|\n",
      "|0100010114170000911|2001         |20010412 |0100 |20010114      |1700          |911       |0                 |7          |4         |0198         |SAN RAMON RD   |ALCOSTA BL     |20      |0.0               |0.0            |(6,[0],[1.0])   |(7,[0],[1.0])|\n",
      "|0100010117152502415|2001         |20010423 |0100 |20010117      |1525          |2415      |0                 |3          |4         |0198         |VILLAGE PKWY   |AMADOR VLY BL  |0       |1.0               |4.0            |(6,[1],[1.0])   |(7,[4],[1.0])|\n",
      "|0100010117153001155|2001         |20010423 |0100 |20010117      |1530          |1155      |0                 |3          |4         |0198         |DUBLIN BL      |SIERRA CT      |545     |0.0               |3.0            |(6,[0],[1.0])   |(7,[3],[1.0])|\n",
      "|0100010117171701108|2001         |20010423 |0100 |20010117      |1717          |1108      |0                 |3          |4         |0198         |SCARLETT CT    |SCARLETT DR    |0       |0.0               |2.0            |(6,[0],[1.0])   |(7,[2],[1.0])|\n",
      "|0100010117190502415|2001         |20010511 |0100 |20010117      |1905          |2415      |0                 |3          |4         |0198         |AMADOR VLY BL  |AMADOR PLAZA RD|0       |1.0               |4.0            |(6,[1],[1.0])   |(7,[4],[1.0])|\n",
      "|0100010123153002415|2001         |20010423 |0100 |20010123      |1530          |2415      |0                 |2          |4         |0198         |JUAREZ LN      |PEPPERTREE LN  |101     |0.0               |3.0            |(6,[0],[1.0])   |(7,[3],[1.0])|\n",
      "|0100010124164303513|2001         |20010423 |0100 |20010124      |1643          |3513      |0                 |3          |4         |0198         |AMADOR VLY BL  |VILLAGE PKWY   |25      |0.0               |3.0            |(6,[0],[1.0])   |(7,[3],[1.0])|\n",
      "|0100010125191300911|2001         |20010423 |0100 |20010125      |1913          |911       |0                 |4          |4         |0198         |HACIENDA CS    |HACIENDA DR    |239     |0.0               |2.0            |(6,[0],[1.0])   |(7,[2],[1.0])|\n",
      "|0100010126155900911|2001         |20010423 |0100 |20010126      |1559          |911       |0                 |5          |4         |0198         |DUBLIN BL      |SCARLETT DR    |1320    |0.0               |2.0            |(6,[0],[1.0])   |(7,[2],[1.0])|\n",
      "|0100010131164502415|2001         |20010423 |0100 |20010131      |1645          |2415      |0                 |3          |4         |0198         |TASSAJARA RD   |DUBLIN BL      |528     |0.0               |1.0            |(6,[0],[1.0])   |(7,[1],[1.0])|\n",
      "|0100010201082000326|2001         |20010423 |0100 |20010201      |0820          |326       |0                 |4          |4         |0198         |DOUGHERTY RD   |DUBLIN BL      |60      |0.0               |0.0            |(6,[0],[1.0])   |(7,[0],[1.0])|\n",
      "|0100010201101000326|2001         |20010423 |0100 |20010201      |1010          |326       |0                 |4          |4         |0198         |TASSAJARA RD   |S DUBLIN RCH DR|18      |0.0               |0.0            |(6,[0],[1.0])   |(7,[0],[1.0])|\n",
      "+-------------------+-------------+---------+-----+--------------+--------------+----------+------------------+-----------+----------+-------------+---------------+---------------+--------+------------------+---------------+----------------+-------------+\n",
      "only showing top 20 rows\n",
      "\n"
     ]
    }
   ],
   "source": [
    "from pyspark.ml.feature import StringIndexer, OneHotEncoder\n",
    "from pyspark.ml import Pipeline\n",
    "encoded_and_index = [\"INTERSECTION\",\"DIRECTION\"]\n",
    "\n",
    "indexers = [StringIndexer(inputCol=c, outputCol=c+\"_index\") for c in encoded_and_index]\n",
    "encoders = [OneHotEncoder(inputCol=c+\"_index\", outputCol=c+\"_vec\") for c in encoded_and_index]\n",
    "\n",
    "\n",
    "\n",
    "pipeline = Pipeline(stages=indexers + encoders)\n",
    "\n",
    "pipeline_model = pipeline.fit(filtered_df)\n",
    "encoded_df = pipeline_model.transform(filtered_df)\n",
    "\n",
    "\n",
    "\n",
    "columns_to_drop = [\"CHP_SHIFT\", \"CITY_DIVISION_LAPD\", \"SPECIAL_COND\", \"CITY_DIVISION_LAPD\", \"CHP_BEAT_CLASS\", \"BEAT_NUMBER\", 'BEAT_TYPE', 'CHP_BEAT_TYPE' ] \n",
    "\n",
    "encoded_df = encoded_df.drop(*columns_to_drop)\n",
    "encoded_df = encoded_df.drop(*encoded_and_index)\n",
    "\n",
    "\n",
    "encoded_df.show(truncate=False)"
   ]
  },
  {
   "cell_type": "code",
   "execution_count": null,
   "id": "d7715b7e",
   "metadata": {},
   "outputs": [],
   "source": []
  }
 ],
 "metadata": {
  "kernelspec": {
   "display_name": ".venv",
   "language": "python",
   "name": "python3"
  },
  "language_info": {
   "codemirror_mode": {
    "name": "ipython",
    "version": 3
   },
   "file_extension": ".py",
   "mimetype": "text/x-python",
   "name": "python",
   "nbconvert_exporter": "python",
   "pygments_lexer": "ipython3",
   "version": "3.11.5"
  }
 },
 "nbformat": 4,
 "nbformat_minor": 5
}
