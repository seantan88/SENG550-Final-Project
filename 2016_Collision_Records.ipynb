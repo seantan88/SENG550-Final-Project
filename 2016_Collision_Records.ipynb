{
 "cells": [
  {
   "cell_type": "code",
   "execution_count": 40,
   "id": "initial_id",
   "metadata": {
    "ExecuteTime": {
     "end_time": "2024-12-04T08:57:00.799764Z",
     "start_time": "2024-12-04T08:55:09.641004Z"
    },
    "collapsed": true
   },
   "outputs": [
    {
     "name": "stdout",
     "output_type": "stream",
     "text": [
      "+-------------------+-------------+---------+-----+--------------+--------------+----------+------------------+-----------+---------+----------+-------------+------------+---------+-------------+------------------+--------------+-----------+---------------+---------------+--------+---------+------------+--------+---------+\n",
      "|            CASE_ID|ACCIDENT_YEAR|PROC_DATE|JURIS|COLLISION_DATE|COLLISION_TIME|OFFICER_ID|REPORTING_DISTRICT|DAY_OF_WEEK|CHP_SHIFT|POPULATION|CNTY_CITY_LOC|SPECIAL_COND|BEAT_TYPE|CHP_BEAT_TYPE|CITY_DIVISION_LAPD|CHP_BEAT_CLASS|BEAT_NUMBER|     PRIMARY_RD|   SECONDARY_RD|DISTANCE|DIRECTION|INTERSECTION|LATITUDE|LONGITUDE|\n",
      "+-------------------+-------------+---------+-----+--------------+--------------+----------+------------------+-----------+---------+----------+-------------+------------+---------+-------------+------------------+--------------+-----------+---------------+---------------+--------+---------+------------+--------+---------+\n",
      "|0100010101011401155|         2001| 20010416| 0100|      20010101|          0114|      1155|                 0|          1|        5|         4|         0198|           -|        0|            0|                  |             0|        073|      DUBLIN BL|    SCARLETT CT|     267|        W|           N|    NULL|     NULL|\n",
      "|0100010103174503131|         2001| 20010416| 0100|      20010103|          1745|      3131|                10|          3|        5|         4|         0198|           -|        0|            0|                  |             0|        073|   DOUGHERTY RD|  AMADOR VLY BL|      80|        N|           N|    NULL|     NULL|\n",
      "|0100010104134002415|         2001| 20010608| 0100|      20010104|          1340|      2415|                 0|          4|        5|         4|         0198|           -|        0|            0|                  |             0|        073|   DOUGHERTY RD| RT 580 WBOFF/R|       0|        -|           Y|    NULL|     NULL|\n",
      "|0100010104170500911|         2001| 20010416| 0100|      20010104|          1705|       911|                 0|          4|        5|         4|         0198|           -|        0|            0|                  |             0|        076|   SAN RAMON RD|      DUBLIN BL|      20|        S|           N|    NULL|     NULL|\n",
      "|0100010104184400911|         2001| 20010416| 0100|      20010104|          1844|       911|                 0|          4|        5|         4|         0198|           -|        0|            0|                  |             0|        076|FREDERICKSON LN|FREDERICKSON CT|       0|        -|           Y|    NULL|     NULL|\n",
      "|0100010111091500326|         2001| 20010416| 0100|      20010111|          0915|       326|                 0|          4|        5|         4|         0198|           -|        0|            0|                  |             0|        074|       CEDAR LN|      SPRUCE LN|     122|        W|           N|    NULL|     NULL|\n",
      "|0100010112131002415|         2001| 20010416| 0100|      20010112|          1310|      2415|                 0|          5|        5|         4|         0198|           -|        0|            0|                  |             0|        073|      DUBLIN BL|      DUBLIN CT|       0|        W|           N|    NULL|     NULL|\n",
      "|0100010112174300911|         2001| 20010713| 0100|      20010112|          1743|       911|                 0|          5|        5|         4|         0198|           -|        0|            0|                  |             0|        076|    HACIENDA DR| RT 580 WBOFF/R|      92|        S|           N|    NULL|     NULL|\n",
      "|0100010114170000911|         2001| 20010412| 0100|      20010114|          1700|       911|                 0|          7|        5|         4|         0198|           -|        0|            0|                  |             0|        076|   SAN RAMON RD|     ALCOSTA BL|      20|        S|           N|    NULL|     NULL|\n",
      "|0100010117152502415|         2001| 20010423| 0100|      20010117|          1525|      2415|                 0|          3|        5|         4|         0198|           -|        0|            0|                  |             0|        072|   VILLAGE PKWY|  AMADOR VLY BL|       0|        -|           Y|    NULL|     NULL|\n",
      "+-------------------+-------------+---------+-----+--------------+--------------+----------+------------------+-----------+---------+----------+-------------+------------+---------+-------------+------------------+--------------+-----------+---------------+---------------+--------+---------+------------+--------+---------+\n",
      "only showing top 10 rows\n",
      "\n",
      "+-------+--------------------+------------------+-------------------+-----------------+--------------------+------------------+----------+------------------+------------------+------------------+-----------------+------------------+------------------+------------------+------------------+-------------------+------------------+-----------+--------------------+--------------------+------------------+---------+------------+--------+---------+\n",
      "|summary|             CASE_ID|     ACCIDENT_YEAR|          PROC_DATE|            JURIS|      COLLISION_DATE|    COLLISION_TIME|OFFICER_ID|REPORTING_DISTRICT|       DAY_OF_WEEK|         CHP_SHIFT|       POPULATION|     CNTY_CITY_LOC|      SPECIAL_COND|         BEAT_TYPE|     CHP_BEAT_TYPE| CITY_DIVISION_LAPD|    CHP_BEAT_CLASS|BEAT_NUMBER|          PRIMARY_RD|        SECONDARY_RD|          DISTANCE|DIRECTION|INTERSECTION|LATITUDE|LONGITUDE|\n",
      "+-------+--------------------+------------------+-------------------+-----------------+--------------------+------------------+----------+------------------+------------------+------------------+-----------------+------------------+------------------+------------------+------------------+-------------------+------------------+-----------+--------------------+--------------------+------------------+---------+------------+--------+---------+\n",
      "|  count|            28539326|          28539326|           28539326|         28539326|            28539326|          28539326|  28463682|          11706556|          28539326|          28539326|         28533770|          28539326|          28539326|          28539326|          28539179|            3291705|          28531821|   26043577|            28539233|            28539282|          23021789| 21874668|    28539326|       0|        0|\n",
      "|   mean|3.107946263752295E17|2009.3814939077397|2.010083741587233E7|5848.729288226083|2.0094483343998034E7|1347.4307725066808|  Infinity|          Infinity|3.9296605673168314|3.5353681793326164|6.394838151425486|  2790.18203986317|0.0042452932823439|0.6830896444179843|1.2188795677142183|0.48366013071895425|0.8410939605273123|        NaN|                 NaN|                 NaN| 710.9787485672812|    155.0|        NULL|    NULL|     NULL|\n",
      "| stddev|1.521944753365150...| 5.157320973173076|  52428.74949551429|3500.675101319806|   51565.13841511206| 569.7487769836014|       NaN|               NaN|1.9368643522580513|1.6710751101457813|7.816844205783836|1328.0678259745564|0.0650362773616979|0.9260439134047549| 1.678830048761578| 0.7955846506566785|1.0622206602462194|        NaN|                 NaN|                 NaN|19569.738035457056|      0.0|        NULL|    NULL|     NULL|\n",
      "|    min|              097293|              2001|           20010412|             0100|            20010101|              0000|        19|                  |                 1|                 1|                1|                 0|                 -|                 0|                 0|                   |                 0|         YV|                 ...|                 ...|           -396000|        -|           -|    NULL|     NULL|\n",
      "|    max| 9870011231152508671|              2020|           20201022|             9875|            20201022|              2500|   `SD6854|             ~ESPD|                 7|                 9|             5604|              5802|                 4|                 S|                 S|                  R|               WI1|      ~1024|         `WESTERN AV|          `TUSTIN AV|           9757440|        Y|           Y|    NULL|     NULL|\n",
      "+-------+--------------------+------------------+-------------------+-----------------+--------------------+------------------+----------+------------------+------------------+------------------+-----------------+------------------+------------------+------------------+------------------+-------------------+------------------+-----------+--------------------+--------------------+------------------+---------+------------+--------+---------+\n",
      "\n"
     ]
    }
   ],
   "source": [
    "from pyspark.sql import SparkSession\n",
    "from pyspark.sql.types import StructType, StructField, StringType, IntegerType, DoubleType\n",
    "from pyspark.sql.functions import col\n",
    "spark = SparkSession.builder.master(\"local[2]\").appName(\"CollisionRecords\").getOrCreate()\n",
    "\n",
    "CollisionRecords = [\"20160924_CollisionRecords.txt\",\"20170112_CollisionRecords.txt\",\"20180925_CollisionRecords.txt\",\"20201024_CollisionRecords.txt\"]\n",
    "#Define Schema\n",
    "collision_schema = StructType([\n",
    "    StructField(\"CASE_ID\", StringType(), True),\n",
    "    StructField(\"ACCIDENT_YEAR\", IntegerType(), True),\n",
    "    StructField(\"PROC_DATE\", StringType(), True),\n",
    "    StructField(\"JURIS\", StringType(), True),\n",
    "    StructField(\"COLLISION_DATE\", StringType(), True),\n",
    "    StructField(\"COLLISION_TIME\", StringType(), True),\n",
    "    StructField(\"OFFICER_ID\", StringType(), True),\n",
    "    StructField(\"REPORTING_DISTRICT\", StringType(), True),\n",
    "    StructField(\"DAY_OF_WEEK\", IntegerType(), True),\n",
    "    StructField(\"CHP_SHIFT\", StringType(), True),\n",
    "    StructField(\"POPULATION\", IntegerType(), True),\n",
    "    StructField(\"CNTY_CITY_LOC\", StringType(), True),\n",
    "    StructField(\"SPECIAL_COND\", StringType(), True),\n",
    "    StructField(\"BEAT_TYPE\", StringType(), True),\n",
    "    StructField(\"CHP_BEAT_TYPE\", StringType(), True),\n",
    "    StructField(\"CITY_DIVISION_LAPD\", StringType(), True),\n",
    "    StructField(\"CHP_BEAT_CLASS\", StringType(), True),\n",
    "    StructField(\"BEAT_NUMBER\", StringType(), True),\n",
    "    StructField(\"PRIMARY_RD\", StringType(), True),\n",
    "    StructField(\"SECONDARY_RD\", StringType(), True),\n",
    "    StructField(\"DISTANCE\", IntegerType(), True),\n",
    "    StructField(\"DIRECTION\", StringType(), True),\n",
    "    StructField(\"INTERSECTION\", StringType(), True),\n",
    "    StructField(\"LATITUDE\", DoubleType(), True),\n",
    "    StructField(\"LONGITUDE\", DoubleType(), True),\n",
    "])\n",
    "\n",
    "#Load the data\n",
    "collision_df = spark.read.csv(CollisionRecords, schema=collision_schema, header=False).cache()\n",
    "\n",
    "#Process data\n",
    "header = collision_df.first().asDict()\n",
    "collision_df = collision_df.filter(col(\"CASE_ID\") != header[\"CASE_ID\"])\n",
    "collision_df.show(10)\n",
    "collision_df.describe().show()\n",
    "\n"
   ]
  },
  {
   "cell_type": "code",
   "execution_count": 30,
   "id": "b02d919df7337af3",
   "metadata": {
    "ExecuteTime": {
     "end_time": "2024-12-04T08:59:12.466488Z",
     "start_time": "2024-12-04T08:57:16.343064Z"
    }
   },
   "outputs": [
    {
     "name": "stdout",
     "output_type": "stream",
     "text": [
      "+-------+--------------------+------------------+--------------------+------------------+--------------------+------------------+----------+------------------+------------------+------------------+------------------+------------------+--------------------+------------------+------------------+------------------+------------------+-----------+--------------------+--------------------+------------------+---------+------------+--------+---------+\n",
      "|summary|             CASE_ID|     ACCIDENT_YEAR|           PROC_DATE|             JURIS|      COLLISION_DATE|    COLLISION_TIME|OFFICER_ID|REPORTING_DISTRICT|       DAY_OF_WEEK|         CHP_SHIFT|        POPULATION|     CNTY_CITY_LOC|        SPECIAL_COND|         BEAT_TYPE|     CHP_BEAT_TYPE|CITY_DIVISION_LAPD|    CHP_BEAT_CLASS|BEAT_NUMBER|          PRIMARY_RD|        SECONDARY_RD|          DISTANCE|DIRECTION|INTERSECTION|LATITUDE|LONGITUDE|\n",
      "+-------+--------------------+------------------+--------------------+------------------+--------------------+------------------+----------+------------------+------------------+------------------+------------------+------------------+--------------------+------------------+------------------+------------------+------------------+-----------+--------------------+--------------------+------------------+---------+------------+--------+---------+\n",
      "|  count|            23021775|          23021775|            23021775|          23021775|            23021775|          23021775|  22959203|           9615737|          23021775|          23021775|          23016810|          23021775|            23021775|          23021775|          23021775|           2936329|          23014314|   20912631|            23021703|            23021739|          23021775| 17682217|    23021775|       0|        0|\n",
      "|   mean|3.852817239780599E17|2008.2929374472646|2.0089904740402337E7| 5814.093214515301|2.0083598273273237E7|1348.1739810244867|  Infinity|          Infinity| 3.930189005843381|3.5513983608996265| 6.370802252788288| 2793.567791188994|0.004346951672588757|0.6767012534871877|1.2076989974507188|              NULL|0.8299190234390649|        NaN|                 NaN|                 NaN| 711.0506555641344|     NULL|        NULL|    NULL|     NULL|\n",
      "| stddev|1.686048909165928...| 4.851561275864389|   50091.86425041244|3497.5840597536007|   48507.14927008889| 568.0591494687562|       NaN|               NaN|1.9370435295126678|1.6696398687402145|1.8553206963515265|1330.6723901715955|  0.0657879615539349|0.9256457863699249|1.6772259744457907|              NULL|0.9482642546102056|        NaN|                 NaN|                 NaN|19569.158993608507|     NULL|        NULL|    NULL|     NULL|\n",
      "|    min|              097293|              2001|            20010412|              0100|            20010101|              0000|        19|                 3|                 1|                 1|                 1|              0100|                   -|                 0|                 0|                  |                 0|         YV|                 ...|                 ...|                 0|        -|           -|    NULL|     NULL|\n",
      "|    max| 9870011231152508671|              2018|            20180924|              9875|            20180924|              2500|    `P1311|             ~ESPD|                 7|                 5|                 9|              5802|                   1|                 4|                 S|                 R|                 2|      ~1024|         `WESTERN AV|          `TUSTIN AV|           9757440|        W|           Y|    NULL|     NULL|\n",
      "+-------+--------------------+------------------+--------------------+------------------+--------------------+------------------+----------+------------------+------------------+------------------+------------------+------------------+--------------------+------------------+------------------+------------------+------------------+-----------+--------------------+--------------------+------------------+---------+------------+--------+---------+\n",
      "\n"
     ]
    }
   ],
   "source": [
    "\n",
    "\n",
    "# Fix negative distance values \n",
    "collision_df = collision_df.filter(col(\"DISTANCE\") >= 0)\n",
    "collision_df.describe().show()\n",
    "\n"
   ]
  },
  {
   "cell_type": "code",
   "execution_count": 31,
   "id": "e93b82a028eec849",
   "metadata": {
    "ExecuteTime": {
     "end_time": "2024-12-04T09:10:04.422616Z",
     "start_time": "2024-12-04T09:10:00.528510Z"
    }
   },
   "outputs": [
    {
     "name": "stdout",
     "output_type": "stream",
     "text": [
      "+-------+-------------+---------+-----+--------------+--------------+----------+------------------+-----------+---------+----------+-------------+------------+---------+-------------+------------------+--------------+-----------+----------+------------+--------+---------+------------+--------+---------+\n",
      "|CASE_ID|ACCIDENT_YEAR|PROC_DATE|JURIS|COLLISION_DATE|COLLISION_TIME|OFFICER_ID|REPORTING_DISTRICT|DAY_OF_WEEK|CHP_SHIFT|POPULATION|CNTY_CITY_LOC|SPECIAL_COND|BEAT_TYPE|CHP_BEAT_TYPE|CITY_DIVISION_LAPD|CHP_BEAT_CLASS|BEAT_NUMBER|PRIMARY_RD|SECONDARY_RD|DISTANCE|DIRECTION|INTERSECTION|LATITUDE|LONGITUDE|\n",
      "+-------+-------------+---------+-----+--------------+--------------+----------+------------------+-----------+---------+----------+-------------+------------+---------+-------------+------------------+--------------+-----------+----------+------------+--------+---------+------------+--------+---------+\n",
      "+-------+-------------+---------+-----+--------------+--------------+----------+------------------+-----------+---------+----------+-------------+------------+---------+-------------+------------------+--------------+-----------+----------+------------+--------+---------+------------+--------+---------+\n",
      "\n"
     ]
    }
   ],
   "source": [
    "# Filter rows where PRIMARY_RD or SECONDARY_RD contains \"...\"\n",
    "invalid_rd_cases = collision_df.filter(\n",
    "    (col(\"PRIMARY_RD\").contains(\"...\")) | (col(\"SECONDARY_RD\").contains(\"...\"))\n",
    ")\n",
    "\n",
    "invalid_rd_cases.show(truncate=False)\n",
    "\n"
   ]
  },
  {
   "cell_type": "code",
   "execution_count": 62,
   "id": "6976489b",
   "metadata": {},
   "outputs": [
    {
     "data": {
      "text/plain": [
       "[Row(CASE_ID='0100010101011401155', ACCIDENT_YEAR=2001, PROC_DATE='20010416', JURIS='0100', COLLISION_DATE='20010101', COLLISION_TIME='0114', OFFICER_ID='1155', REPORTING_DISTRICT='0', DAY_OF_WEEK=1, CHP_SHIFT='5', POPULATION=4, CNTY_CITY_LOC='0198', SPECIAL_COND='-', BEAT_TYPE='0', CHP_BEAT_TYPE='0', CITY_DIVISION_LAPD=' ', CHP_BEAT_CLASS='0', BEAT_NUMBER='073', PRIMARY_RD='DUBLIN BL', SECONDARY_RD='SCARLETT CT', DISTANCE=267, DIRECTION='W', INTERSECTION='N', LATITUDE=None, LONGITUDE=None),\n",
       " Row(CASE_ID='0100010103174503131', ACCIDENT_YEAR=2001, PROC_DATE='20010416', JURIS='0100', COLLISION_DATE='20010103', COLLISION_TIME='1745', OFFICER_ID='3131', REPORTING_DISTRICT='10', DAY_OF_WEEK=3, CHP_SHIFT='5', POPULATION=4, CNTY_CITY_LOC='0198', SPECIAL_COND='-', BEAT_TYPE='0', CHP_BEAT_TYPE='0', CITY_DIVISION_LAPD=' ', CHP_BEAT_CLASS='0', BEAT_NUMBER='073', PRIMARY_RD='DOUGHERTY RD', SECONDARY_RD='AMADOR VLY BL', DISTANCE=80, DIRECTION='N', INTERSECTION='N', LATITUDE=None, LONGITUDE=None),\n",
       " Row(CASE_ID='0100010104134002415', ACCIDENT_YEAR=2001, PROC_DATE='20010608', JURIS='0100', COLLISION_DATE='20010104', COLLISION_TIME='1340', OFFICER_ID='2415', REPORTING_DISTRICT='0', DAY_OF_WEEK=4, CHP_SHIFT='5', POPULATION=4, CNTY_CITY_LOC='0198', SPECIAL_COND='-', BEAT_TYPE='0', CHP_BEAT_TYPE='0', CITY_DIVISION_LAPD=' ', CHP_BEAT_CLASS='0', BEAT_NUMBER='073', PRIMARY_RD='DOUGHERTY RD', SECONDARY_RD='RT 580 WBOFF/R', DISTANCE=0, DIRECTION='-', INTERSECTION='Y', LATITUDE=None, LONGITUDE=None),\n",
       " Row(CASE_ID='0100010104170500911', ACCIDENT_YEAR=2001, PROC_DATE='20010416', JURIS='0100', COLLISION_DATE='20010104', COLLISION_TIME='1705', OFFICER_ID='911', REPORTING_DISTRICT='0', DAY_OF_WEEK=4, CHP_SHIFT='5', POPULATION=4, CNTY_CITY_LOC='0198', SPECIAL_COND='-', BEAT_TYPE='0', CHP_BEAT_TYPE='0', CITY_DIVISION_LAPD=' ', CHP_BEAT_CLASS='0', BEAT_NUMBER='076', PRIMARY_RD='SAN RAMON RD', SECONDARY_RD='DUBLIN BL', DISTANCE=20, DIRECTION='S', INTERSECTION='N', LATITUDE=None, LONGITUDE=None),\n",
       " Row(CASE_ID='0100010104184400911', ACCIDENT_YEAR=2001, PROC_DATE='20010416', JURIS='0100', COLLISION_DATE='20010104', COLLISION_TIME='1844', OFFICER_ID='911', REPORTING_DISTRICT='0', DAY_OF_WEEK=4, CHP_SHIFT='5', POPULATION=4, CNTY_CITY_LOC='0198', SPECIAL_COND='-', BEAT_TYPE='0', CHP_BEAT_TYPE='0', CITY_DIVISION_LAPD=' ', CHP_BEAT_CLASS='0', BEAT_NUMBER='076', PRIMARY_RD='FREDERICKSON LN', SECONDARY_RD='FREDERICKSON CT', DISTANCE=0, DIRECTION='-', INTERSECTION='Y', LATITUDE=None, LONGITUDE=None)]"
      ]
     },
     "execution_count": 62,
     "metadata": {},
     "output_type": "execute_result"
    }
   ],
   "source": [
    "\n",
    "\n",
    "# remove all \"not stated - values\" and null\n",
    "filterCondition = (col(collision_df.columns[0]) != \"-\")\n",
    "filterCondition = filterCondition | (col(collision_df.columns[0]) != None)\n",
    "\n",
    "\n",
    "for c in collision_df.columns[1:]:\n",
    "    filterCondition = filterCondition | (col(c) != \"-\")\n",
    "    filterCondition = filterCondition | (col(c) != None)\n",
    "\n",
    "filtered_df = collision_df.filter(filterCondition)\n",
    "filtered_df.head(5)"
   ]
  },
  {
   "cell_type": "code",
   "execution_count": 60,
   "id": "dee4a167",
   "metadata": {},
   "outputs": [
    {
     "name": "stdout",
     "output_type": "stream",
     "text": [
      "StringIndexer_2080717218f3\n",
      "INTERSECTION\n",
      "StringIndexer_9cb5eaec36f6\n",
      "SPECIAL_COND\n",
      "StringIndexer_c14f03c9a39c\n",
      "CHP_BEAT_TYPE\n",
      "StringIndexer_a0c7cc85c823\n",
      "BEAT_TYPE\n",
      "StringIndexer_6a78b229bc21\n",
      "DIRECTION\n",
      "StringIndexer_64dbcaa7de25\n",
      "CHP_BEAT_CLASS\n",
      "StringIndexer_018618e8c770\n",
      "CHP_SHIFT\n",
      "+-------------------+-------------+---------+-----+--------------+--------------+----------+------------------+-----------+---------+----------+-------------+------------+---------+-------------+------------------+--------------+-----------+---------------+---------------+--------+---------+------------+--------+---------+---------------+-------------+\n",
      "|CASE_ID            |ACCIDENT_YEAR|PROC_DATE|JURIS|COLLISION_DATE|COLLISION_TIME|OFFICER_ID|REPORTING_DISTRICT|DAY_OF_WEEK|CHP_SHIFT|POPULATION|CNTY_CITY_LOC|SPECIAL_COND|BEAT_TYPE|CHP_BEAT_TYPE|CITY_DIVISION_LAPD|CHP_BEAT_CLASS|BEAT_NUMBER|PRIMARY_RD     |SECONDARY_RD   |DISTANCE|DIRECTION|INTERSECTION|LATITUDE|LONGITUDE|CHP_SHIFT_index|CHP_SHIFT_vec|\n",
      "+-------------------+-------------+---------+-----+--------------+--------------+----------+------------------+-----------+---------+----------+-------------+------------+---------+-------------+------------------+--------------+-----------+---------------+---------------+--------+---------+------------+--------+---------+---------------+-------------+\n",
      "|0100010101011401155|2001         |20010416 |0100 |20010101      |0114          |1155      |0                 |1          |5        |4         |0198         |-           |0        |0            |                  |0             |073        |DUBLIN BL      |SCARLETT CT    |267     |W        |N           |NULL    |NULL     |0.0            |(7,[0],[1.0])|\n",
      "|0100010103174503131|2001         |20010416 |0100 |20010103      |1745          |3131      |10                |3          |5        |4         |0198         |-           |0        |0            |                  |0             |073        |DOUGHERTY RD   |AMADOR VLY BL  |80      |N        |N           |NULL    |NULL     |0.0            |(7,[0],[1.0])|\n",
      "|0100010104134002415|2001         |20010608 |0100 |20010104      |1340          |2415      |0                 |4          |5        |4         |0198         |-           |0        |0            |                  |0             |073        |DOUGHERTY RD   |RT 580 WBOFF/R |0       |-        |Y           |NULL    |NULL     |0.0            |(7,[0],[1.0])|\n",
      "|0100010104170500911|2001         |20010416 |0100 |20010104      |1705          |911       |0                 |4          |5        |4         |0198         |-           |0        |0            |                  |0             |076        |SAN RAMON RD   |DUBLIN BL      |20      |S        |N           |NULL    |NULL     |0.0            |(7,[0],[1.0])|\n",
      "|0100010104184400911|2001         |20010416 |0100 |20010104      |1844          |911       |0                 |4          |5        |4         |0198         |-           |0        |0            |                  |0             |076        |FREDERICKSON LN|FREDERICKSON CT|0       |-        |Y           |NULL    |NULL     |0.0            |(7,[0],[1.0])|\n",
      "|0100010111091500326|2001         |20010416 |0100 |20010111      |0915          |326       |0                 |4          |5        |4         |0198         |-           |0        |0            |                  |0             |074        |CEDAR LN       |SPRUCE LN      |122     |W        |N           |NULL    |NULL     |0.0            |(7,[0],[1.0])|\n",
      "|0100010112131002415|2001         |20010416 |0100 |20010112      |1310          |2415      |0                 |5          |5        |4         |0198         |-           |0        |0            |                  |0             |073        |DUBLIN BL      |DUBLIN CT      |0       |W        |N           |NULL    |NULL     |0.0            |(7,[0],[1.0])|\n",
      "|0100010112174300911|2001         |20010713 |0100 |20010112      |1743          |911       |0                 |5          |5        |4         |0198         |-           |0        |0            |                  |0             |076        |HACIENDA DR    |RT 580 WBOFF/R |92      |S        |N           |NULL    |NULL     |0.0            |(7,[0],[1.0])|\n",
      "|0100010114170000911|2001         |20010412 |0100 |20010114      |1700          |911       |0                 |7          |5        |4         |0198         |-           |0        |0            |                  |0             |076        |SAN RAMON RD   |ALCOSTA BL     |20      |S        |N           |NULL    |NULL     |0.0            |(7,[0],[1.0])|\n",
      "|0100010117152502415|2001         |20010423 |0100 |20010117      |1525          |2415      |0                 |3          |5        |4         |0198         |-           |0        |0            |                  |0             |072        |VILLAGE PKWY   |AMADOR VLY BL  |0       |-        |Y           |NULL    |NULL     |0.0            |(7,[0],[1.0])|\n",
      "|0100010117153001155|2001         |20010423 |0100 |20010117      |1530          |1155      |0                 |3          |5        |4         |0198         |-           |0        |0            |                  |0             |072        |DUBLIN BL      |SIERRA CT      |545     |W        |N           |NULL    |NULL     |0.0            |(7,[0],[1.0])|\n",
      "|0100010117171701108|2001         |20010423 |0100 |20010117      |1717          |1108      |0                 |3          |5        |4         |0198         |-           |0        |0            |                  |0             |NULL       |SCARLETT CT    |SCARLETT DR    |0       |E        |N           |NULL    |NULL     |0.0            |(7,[0],[1.0])|\n",
      "|0100010117190502415|2001         |20010511 |0100 |20010117      |1905          |2415      |0                 |3          |5        |4         |0198         |-           |0        |0            |                  |0             |071        |AMADOR VLY BL  |AMADOR PLAZA RD|0       |-        |Y           |NULL    |NULL     |0.0            |(7,[0],[1.0])|\n",
      "|0100010123153002415|2001         |20010423 |0100 |20010123      |1530          |2415      |0                 |2          |5        |4         |0198         |-           |0        |0            |                  |0             |071        |JUAREZ LN      |PEPPERTREE LN  |101     |W        |N           |NULL    |NULL     |0.0            |(7,[0],[1.0])|\n",
      "|0100010124164303513|2001         |20010423 |0100 |20010124      |1643          |3513      |0                 |3          |5        |4         |0198         |-           |0        |0            |                  |0             |072        |AMADOR VLY BL  |VILLAGE PKWY   |25      |W        |N           |NULL    |NULL     |0.0            |(7,[0],[1.0])|\n",
      "|0100010125191300911|2001         |20010423 |0100 |20010125      |1913          |911       |0                 |4          |5        |4         |0198         |-           |0        |0            |                  |0             |NULL       |HACIENDA CS    |HACIENDA DR    |239     |E        |N           |NULL    |NULL     |0.0            |(7,[0],[1.0])|\n",
      "|0100010126155900911|2001         |20010423 |0100 |20010126      |1559          |911       |0                 |5          |5        |4         |0198         |-           |0        |0            |                  |0             |NULL       |DUBLIN BL      |SCARLETT DR    |1320    |E        |N           |NULL    |NULL     |0.0            |(7,[0],[1.0])|\n",
      "|0100010131164502415|2001         |20010423 |0100 |20010131      |1645          |2415      |0                 |3          |5        |4         |0198         |-           |0        |0            |                  |0             |073        |TASSAJARA RD   |DUBLIN BL      |528     |N        |N           |NULL    |NULL     |0.0            |(7,[0],[1.0])|\n",
      "|0100010201082000326|2001         |20010423 |0100 |20010201      |0820          |326       |0                 |4          |5        |4         |0198         |-           |0        |0            |                  |0             |074        |DOUGHERTY RD   |DUBLIN BL      |60      |S        |N           |NULL    |NULL     |0.0            |(7,[0],[1.0])|\n",
      "|0100010201101000326|2001         |20010423 |0100 |20010201      |1010          |326       |0                 |4          |5        |4         |0198         |-           |0        |0            |                  |0             |074        |TASSAJARA RD   |S DUBLIN RCH DR|18      |S        |N           |NULL    |NULL     |0.0            |(7,[0],[1.0])|\n",
      "+-------------------+-------------+---------+-----+--------------+--------------+----------+------------------+-----------+---------+----------+-------------+------------+---------+-------------+------------------+--------------+-----------+---------------+---------------+--------+---------+------------+--------+---------+---------------+-------------+\n",
      "only showing top 20 rows\n",
      "\n"
     ]
    }
   ],
   "source": [
    "from pyspark.ml.feature import StringIndexer, OneHotEncoder\n",
    "from pyspark.ml import Pipeline\n",
    "encoded_and_index = [\"INTERSECTION\",\"SPECIAL_COND\",\"CHP_BEAT_TYPE\",\"BEAT_TYPE\",\"DIRECTION\",\"CHP_BEAT_CLASS\",\"CHP_SHIFT\"]\n",
    "\n",
    "indexers = [StringIndexer(inputCol=c, outputCol=c+\"_index\") for c in encoded_and_index]\n",
    "encoders = [OneHotEncoder(inputCol=c+\"_index\", outputCol=c+\"_vec\") for c in encoded_and_index]\n",
    "\n",
    "filtered_df2 = filtered_df\n",
    "\n",
    "for col_name in encoded_and_index:\n",
    "    \n",
    "    indexer = StringIndexer(inputCol=col_name, outputCol=col_name + \"_index\")\n",
    "    print(indexer)\n",
    "    print(col_name)\n",
    "    indexedDf = indexer.fit(filtered_df2).transform(filtered_df2)\n",
    "   \n",
    "    encoder = OneHotEncoder(inputCol=col_name + \"_index\", outputCol=col_name + \"_vec\")\n",
    "    encoded_df = encoder.fit(indexedDf).transform(indexedDf)\n",
    "\n",
    "encoded_df.show(truncate=False)"
   ]
  }
 ],
 "metadata": {
  "kernelspec": {
   "display_name": ".venv",
   "language": "python",
   "name": "python3"
  },
  "language_info": {
   "codemirror_mode": {
    "name": "ipython",
    "version": 3
   },
   "file_extension": ".py",
   "mimetype": "text/x-python",
   "name": "python",
   "nbconvert_exporter": "python",
   "pygments_lexer": "ipython3",
   "version": "3.13.1"
  }
 },
 "nbformat": 4,
 "nbformat_minor": 5
}
