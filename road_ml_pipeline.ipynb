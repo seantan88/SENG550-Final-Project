{
 "cells": [
  {
   "cell_type": "code",
   "execution_count": 1,
   "metadata": {},
   "outputs": [
    {
     "name": "stderr",
     "output_type": "stream",
     "text": [
      "24/12/19 00:40:48 WARN Utils: Your hostname, Victors-MacBook-Air.local resolves to a loopback address: 127.0.0.1; using 192.168.68.65 instead (on interface en0)\n",
      "24/12/19 00:40:48 WARN Utils: Set SPARK_LOCAL_IP if you need to bind to another address\n",
      "Setting default log level to \"WARN\".\n",
      "To adjust logging level use sc.setLogLevel(newLevel). For SparkR, use setLogLevel(newLevel).\n",
      "24/12/19 00:40:49 WARN NativeCodeLoader: Unable to load native-hadoop library for your platform... using builtin-java classes where applicable\n",
      "24/12/19 00:41:00 WARN GarbageCollectionMetrics: To enable non-built-in garbage collector(s) List(G1 Concurrent GC), users should configure it(them) to spark.eventLog.gcMetrics.youngGenerationGarbageCollectors or spark.eventLog.gcMetrics.oldGenerationGarbageCollectors\n",
      "                                                                                \r"
     ]
    },
    {
     "name": "stdout",
     "output_type": "stream",
     "text": [
      "+------------------+-------------+---------+-----+--------------+--------------+----------+------------------+-----------+----------+-------------+---------+-------------+---------------+---------------+--------+---------+------------+\n",
      "|           CASE_ID|ACCIDENT_YEAR|PROC_DATE|JURIS|COLLISION_DATE|COLLISION_TIME|OFFICER_ID|REPORTING_DISTRICT|DAY_OF_WEEK|POPULATION|CNTY_CITY_LOC|BEAT_TYPE|CHP_BEAT_TYPE|     PRIMARY_RD|   SECONDARY_RD|DISTANCE|DIRECTION|INTERSECTION|\n",
      "+------------------+-------------+---------+-----+--------------+--------------+----------+------------------+-----------+----------+-------------+---------+-------------+---------------+---------------+--------+---------+------------+\n",
      "|100010101011401155|         2001| 20010416| 0100|      20010101|           114|      1155|                 0|          1|         4|          198|        0|            0|      DUBLIN BL|    SCARLETT CT|     267|        W|           N|\n",
      "|100010103174503131|         2001| 20010416| 0100|      20010103|          1745|      3131|                10|          3|         4|          198|        0|            0|   DOUGHERTY RD|  AMADOR VLY BL|      80|        N|           N|\n",
      "|100010104134002415|         2001| 20010608| 0100|      20010104|          1340|      2415|                 0|          4|         4|          198|        0|            0|   DOUGHERTY RD| RT 580 WBOFF/R|       0|        -|           Y|\n",
      "|100010104170500911|         2001| 20010416| 0100|      20010104|          1705|       911|                 0|          4|         4|          198|        0|            0|   SAN RAMON RD|      DUBLIN BL|      20|        S|           N|\n",
      "|100010104184400911|         2001| 20010416| 0100|      20010104|          1844|       911|                 0|          4|         4|          198|        0|            0|FREDERICKSON LN|FREDERICKSON CT|       0|        -|           Y|\n",
      "+------------------+-------------+---------+-----+--------------+--------------+----------+------------------+-----------+----------+-------------+---------+-------------+---------------+---------------+--------+---------+------------+\n",
      "only showing top 5 rows\n",
      "\n",
      "+-------+------------+-----------+----------+----------+-----------------------+-----------------------+--------------------+--------------------+--------------+\n",
      "|CASE_ID|PARTY_NUMBER|VICTIM_ROLE|VICTIM_SEX|VICTIM_AGE|VICTIM_DEGREE_OF_INJURY|VICTIM_SEATING_POSITION|VICTIM_SAFETY_EQUIP1|VICTIM_SAFETY_EQUIP2|VICTIM_EJECTED|\n",
      "+-------+------------+-----------+----------+----------+-----------------------+-----------------------+--------------------+--------------------+--------------+\n",
      "|3495044|           2|          2|         M|        21|                      0|                      3|                   P|                   G|             0|\n",
      "|3495044|           2|          2|         M|        12|                      0|                      2|                   P|                   C|             0|\n",
      "|3507861|           2|          2|         M|        60|                      0|                      9|                   -|                   -|             3|\n",
      "|3511283|           1|          1|         F|        43|                      3|                      1|                   M|                   G|             0|\n",
      "|3511287|           1|          5|         M|        28|                      3|                      1|                   P|                   -|             0|\n",
      "+-------+------------+-----------+----------+----------+-----------------------+-----------------------+--------------------+--------------------+--------------+\n",
      "only showing top 5 rows\n",
      "\n"
     ]
    }
   ],
   "source": [
    "from pyspark.sql import SparkSession\n",
    "from pyspark.sql.functions import col, when, lit\n",
    "from pyspark.ml.feature import StringIndexer, OneHotEncoder, VectorAssembler\n",
    "from pyspark.ml.classification import LogisticRegression\n",
    "from pyspark.ml import Pipeline\n",
    "from pyspark.ml.evaluation import BinaryClassificationEvaluator\n",
    "from pyspark.ml.tuning import ParamGridBuilder, CrossValidator\n",
    "\n",
    "# Initialize Spark Session\n",
    "spark = (SparkSession.builder\n",
    "         .appName(\"Victim Ejection Analysis\")\n",
    "         .config(\"spark.executor.memory\", \"4g\")\n",
    "         .config(\"spark.executor.cores\", \"2\")\n",
    "         .config(\"spark.driver.memory\", \"4g\")\n",
    "         .getOrCreate())\n",
    "\n",
    "# Load cleaned data\n",
    "collision_df = spark.read.csv(\"clean_collision_records.csv\", header=True, inferSchema=True)\n",
    "victim_df = spark.read.csv(\"clean_victim_records.csv\", header=True, inferSchema=True)\n",
    "\n",
    "collision_df.show(5)\n",
    "victim_df.show(5)\n",
    "\n"
   ]
  },
  {
   "cell_type": "code",
   "execution_count": 2,
   "metadata": {},
   "outputs": [],
   "source": [
    "# Join collision and victim data on CASE_ID\n",
    "combined_df = collision_df.join(victim_df, \"CASE_ID\", \"inner\")\n",
    "\n",
    "# Target Variable: VICTIM_EJECTED (binary: 0 - Not Ejected, 1 - Fully/Partially Ejected)\n",
    "combined_df = combined_df.withColumn(\n",
    "    \"VICTIM_EJECTED_BINARY\",\n",
    "    when(col(\"VICTIM_EJECTED\").isin(1, 2), 1).otherwise(0)\n",
    ")\n",
    "\n",
    "# Drop unused or null-heavy rows\n",
    "cols_to_drop = ['REPORTING_DISTRICT']\n",
    "combined_df = combined_df.drop(*cols_to_drop).dropna()"
   ]
  },
  {
   "cell_type": "code",
   "execution_count": 3,
   "metadata": {},
   "outputs": [
    {
     "name": "stderr",
     "output_type": "stream",
     "text": [
      "24/12/19 00:41:05 WARN SparkStringUtils: Truncated the string representation of a plan since it was too large. This behavior can be adjusted by setting 'spark.sql.debug.maxToStringFields'.\n",
      "                                                                                \r"
     ]
    },
    {
     "data": {
      "text/plain": [
       "<seaborn.axisgrid.FacetGrid at 0x137e5b4a0>"
      ]
     },
     "execution_count": 3,
     "metadata": {},
     "output_type": "execute_result"
    },
    {
     "data": {
      "image/png": "[encoded data removed]",
      "text/plain": [
       "<Figure size 511.111x500 with 1 Axes>"
      ]
     },
     "metadata": {},
     "output_type": "display_data"
    }
   ],
   "source": [
    "import seaborn as sns\n",
    "\n",
    "sample_df = combined_df.sample(fraction=0.01, seed=6198)\n",
    "\n",
    "sns.catplot(x=\"VICTIM_EJECTED_BINARY\", kind=\"count\", data=sample_df.toPandas())"
   ]
  },
  {
   "cell_type": "code",
   "execution_count": 4,
   "metadata": {},
   "outputs": [
    {
     "name": "stderr",
     "output_type": "stream",
     "text": [
      "                                                                                \r"
     ]
    },
    {
     "name": "stdout",
     "output_type": "stream",
     "text": [
      "root\n",
      " |-- CASE_ID: decimal(20,0) (nullable = true)\n",
      " |-- ACCIDENT_YEAR: integer (nullable = true)\n",
      " |-- PROC_DATE: integer (nullable = true)\n",
      " |-- JURIS: string (nullable = true)\n",
      " |-- COLLISION_DATE: integer (nullable = true)\n",
      " |-- COLLISION_TIME: integer (nullable = true)\n",
      " |-- OFFICER_ID: string (nullable = true)\n",
      " |-- DAY_OF_WEEK: integer (nullable = true)\n",
      " |-- POPULATION: integer (nullable = true)\n",
      " |-- CNTY_CITY_LOC: integer (nullable = true)\n",
      " |-- BEAT_TYPE: integer (nullable = true)\n",
      " |-- CHP_BEAT_TYPE: string (nullable = true)\n",
      " |-- PRIMARY_RD: string (nullable = true)\n",
      " |-- SECONDARY_RD: string (nullable = true)\n",
      " |-- DISTANCE: integer (nullable = true)\n",
      " |-- DIRECTION: string (nullable = true)\n",
      " |-- INTERSECTION: string (nullable = true)\n",
      " |-- PARTY_NUMBER: integer (nullable = true)\n",
      " |-- VICTIM_ROLE: string (nullable = true)\n",
      " |-- VICTIM_SEX: string (nullable = true)\n",
      " |-- VICTIM_AGE: integer (nullable = true)\n",
      " |-- VICTIM_DEGREE_OF_INJURY: string (nullable = true)\n",
      " |-- VICTIM_SEATING_POSITION: string (nullable = true)\n",
      " |-- VICTIM_SAFETY_EQUIP1: string (nullable = true)\n",
      " |-- VICTIM_SAFETY_EQUIP2: string (nullable = true)\n",
      " |-- VICTIM_EJECTED: string (nullable = true)\n",
      " |-- VICTIM_EJECTED_BINARY: integer (nullable = false)\n",
      " |-- VICTIM_SEATING_POSITION_index: double (nullable = false)\n",
      " |-- VICTIM_SAFETY_EQUIP1_index: double (nullable = false)\n",
      " |-- VICTIM_SAFETY_EQUIP2_index: double (nullable = false)\n",
      " |-- CHP_BEAT_TYPE_index: double (nullable = false)\n",
      " |-- VICTIM_SEX_index: double (nullable = false)\n",
      " |-- VICTIM_SEATING_POSITION_vec: vector (nullable = true)\n",
      " |-- VICTIM_SAFETY_EQUIP1_vec: vector (nullable = true)\n",
      " |-- VICTIM_SAFETY_EQUIP2_vec: vector (nullable = true)\n",
      " |-- CHP_BEAT_TYPE_vec: vector (nullable = true)\n",
      " |-- VICTIM_SEX_vec: vector (nullable = true)\n",
      " |-- features: vector (nullable = true)\n",
      "\n"
     ]
    },
    {
     "name": "stderr",
     "output_type": "stream",
     "text": [
      "[Stage 58:===================================================>     (9 + 1) / 10]\r"
     ]
    },
    {
     "name": "stdout",
     "output_type": "stream",
     "text": [
      "+------------------------------------------+---------------------+\n",
      "|features                                  |VICTIM_EJECTED_BINARY|\n",
      "+------------------------------------------+---------------------+\n",
      "|(90,[1,30,49,74,84],[1.0,1.0,1.0,1.0,1.0])|0                    |\n",
      "|(90,[2,30,49,74,84],[1.0,1.0,1.0,1.0,1.0])|0                    |\n",
      "|(90,[0,20,49,74,84],[1.0,1.0,1.0,1.0,1.0])|0                    |\n",
      "|(90,[1,20,49,74,84],[1.0,1.0,1.0,1.0,1.0])|0                    |\n",
      "|(90,[1,30,49,74,84],[1.0,1.0,1.0,1.0,1.0])|0                    |\n",
      "+------------------------------------------+---------------------+\n",
      "only showing top 5 rows\n",
      "\n"
     ]
    },
    {
     "name": "stderr",
     "output_type": "stream",
     "text": [
      "                                                                                \r"
     ]
    }
   ],
   "source": [
    "\n",
    "# Features List\n",
    "categorical_columns = [\"VICTIM_SEATING_POSITION\", \"VICTIM_SAFETY_EQUIP1\", \"VICTIM_SAFETY_EQUIP2\", \"CHP_BEAT_TYPE\", \"VICTIM_SEX\"]\n",
    "\n",
    "# Index and encode categorical columns\n",
    "indexers = [StringIndexer(inputCol=col, outputCol=col + \"_index\", handleInvalid='keep') for col in categorical_columns]\n",
    "encoders = [OneHotEncoder(inputCol=col + \"_index\", outputCol=col + \"_vec\") for col in categorical_columns]\n",
    "\n",
    "# Combine categorical and numerical features\n",
    "assembler = VectorAssembler(\n",
    "    inputCols=[col + \"_vec\" for col in categorical_columns],\n",
    "    outputCol=\"features\"\n",
    ")\n",
    "\n",
    "# Pipeline for encoding\n",
    "pipeline = Pipeline(stages=indexers + encoders + [assembler])\n",
    "\n",
    "encoded_df = pipeline.fit(combined_df).transform(combined_df)\n",
    "encoded_df.printSchema()\n",
    "\n",
    "\n",
    "# Show results\n",
    "encoded_df.select(\"features\", \"VICTIM_EJECTED_BINARY\").show(5, truncate=False)\n"
   ]
  },
  {
   "cell_type": "code",
   "execution_count": 5,
   "metadata": {},
   "outputs": [
    {
     "name": "stdout",
     "output_type": "stream",
     "text": [
      "Columns in encoded_df: ['CASE_ID', 'ACCIDENT_YEAR', 'PROC_DATE', 'JURIS', 'COLLISION_DATE', 'COLLISION_TIME', 'OFFICER_ID', 'DAY_OF_WEEK', 'POPULATION', 'CNTY_CITY_LOC', 'BEAT_TYPE', 'CHP_BEAT_TYPE', 'PRIMARY_RD', 'SECONDARY_RD', 'DISTANCE', 'DIRECTION', 'INTERSECTION', 'PARTY_NUMBER', 'VICTIM_ROLE', 'VICTIM_SEX', 'VICTIM_AGE', 'VICTIM_DEGREE_OF_INJURY', 'VICTIM_SEATING_POSITION', 'VICTIM_SAFETY_EQUIP1', 'VICTIM_SAFETY_EQUIP2', 'VICTIM_EJECTED', 'VICTIM_EJECTED_BINARY', 'VICTIM_SEATING_POSITION_index', 'VICTIM_SAFETY_EQUIP1_index', 'VICTIM_SAFETY_EQUIP2_index', 'CHP_BEAT_TYPE_index', 'VICTIM_SEX_index', 'VICTIM_SEATING_POSITION_vec', 'VICTIM_SAFETY_EQUIP1_vec', 'VICTIM_SAFETY_EQUIP2_vec', 'CHP_BEAT_TYPE_vec', 'VICTIM_SEX_vec', 'features']\n"
     ]
    },
    {
     "name": "stderr",
     "output_type": "stream",
     "text": [
      "                                                                                \r"
     ]
    },
    {
     "name": "stdout",
     "output_type": "stream",
     "text": [
      "Class 1 Count (Ejected): 754554\n",
      "Class 0 Count (Not Ejected): 17956059\n",
      "Total Count: 18710613\n",
      "Weight for Class 1 (Minority): 12.39845855962595\n",
      "Weight for Class 0 (Majority): 0.5210111249912912\n"
     ]
    },
    {
     "name": "stderr",
     "output_type": "stream",
     "text": [
      "24/12/19 00:46:09 WARN InstanceBuilder: Failed to load implementation from:dev.ludovic.netlib.blas.JNIBLAS\n",
      "24/12/19 00:46:09 WARN InstanceBuilder: Failed to load implementation from:dev.ludovic.netlib.blas.VectorBLAS\n",
      "                                                                                \r"
     ]
    },
    {
     "name": "stdout",
     "output_type": "stream",
     "text": [
      "AUC Score: 0.9690579799227573\n"
     ]
    },
    {
     "name": "stderr",
     "output_type": "stream",
     "text": [
      "                                                                                \r"
     ]
    },
    {
     "name": "stdout",
     "output_type": "stream",
     "text": [
      "+---------------------+----------+----------------------------------------+\n",
      "|VICTIM_EJECTED_BINARY|prediction|probability                             |\n",
      "+---------------------+----------+----------------------------------------+\n",
      "|0                    |0.0       |[0.9744690512863117,0.02553094871368833]|\n",
      "|0                    |0.0       |[0.9744690512863117,0.02553094871368833]|\n",
      "|0                    |0.0       |[0.9744690512863117,0.02553094871368833]|\n",
      "|0                    |0.0       |[0.9744690512863117,0.02553094871368833]|\n",
      "|0                    |0.0       |[0.9744690512863117,0.02553094871368833]|\n",
      "+---------------------+----------+----------------------------------------+\n",
      "only showing top 5 rows\n",
      "\n"
     ]
    },
    {
     "name": "stderr",
     "output_type": "stream",
     "text": [
      "                                                                                \r"
     ]
    },
    {
     "name": "stdout",
     "output_type": "stream",
     "text": [
      "+--------------------+---------------------+------------------+--------------------+--------------------+----------+\n",
      "|            features|VICTIM_EJECTED_BINARY|            weight|       rawPrediction|         probability|prediction|\n",
      "+--------------------+---------------------+------------------+--------------------+--------------------+----------+\n",
      "|(90,[0,19,48,74,8...|                  0.0|0.5210111249912912|[3.64200136858361...|[0.97446905128631...|       0.0|\n",
      "|(90,[0,19,48,74,8...|                  0.0|0.5210111249912912|[3.64200136858361...|[0.97446905128631...|       0.0|\n",
      "|(90,[0,19,48,74,8...|                  0.0|0.5210111249912912|[3.64200136858361...|[0.97446905128631...|       0.0|\n",
      "|(90,[0,19,48,74,8...|                  0.0|0.5210111249912912|[3.64200136858361...|[0.97446905128631...|       0.0|\n",
      "|(90,[0,19,48,74,8...|                  0.0|0.5210111249912912|[3.64200136858361...|[0.97446905128631...|       0.0|\n",
      "+--------------------+---------------------+------------------+--------------------+--------------------+----------+\n",
      "only showing top 5 rows\n",
      "\n"
     ]
    },
    {
     "name": "stderr",
     "output_type": "stream",
     "text": [
      "[Stage 284:====================================================>  (24 + 1) / 25]\r"
     ]
    },
    {
     "name": "stdout",
     "output_type": "stream",
     "text": [
      "+-------+---------------------+------------------+-------------------+\n",
      "|summary|VICTIM_EJECTED_BINARY|            weight|         prediction|\n",
      "+-------+---------------------+------------------+-------------------+\n",
      "|  count|             13100117|          13100117|           13100117|\n",
      "|   mean|   0.0403388763627073|1.0001340085715253|0.11187358097641419|\n",
      "| stddev|  0.19675277474933583|  2.33692073970377| 0.3152108666280904|\n",
      "|    min|                  0.0|0.5210111249912912|                0.0|\n",
      "|    max|                  1.0| 12.39845855962595|                1.0|\n",
      "+-------+---------------------+------------------+-------------------+\n",
      "\n"
     ]
    },
    {
     "name": "stderr",
     "output_type": "stream",
     "text": [
      "                                                                                \r"
     ]
    }
   ],
   "source": [
    "from pyspark.sql.functions import col, lit, when\n",
    "\n",
    "# Use encoded_df from previou section\n",
    "print(f\"Columns in encoded_df: {encoded_df.columns}\")\n",
    "\n",
    "# Check for class imbalance\n",
    "total_count = encoded_df.count()\n",
    "class_1_count = encoded_df.filter(col(\"VICTIM_EJECTED_BINARY\") == 1).count()\n",
    "class_0_count = encoded_df.filter(col(\"VICTIM_EJECTED_BINARY\") == 0).count()\n",
    "\n",
    "print(f\"Class 1 Count (Ejected): {class_1_count}\")\n",
    "print(f\"Class 0 Count (Not Ejected): {class_0_count}\")\n",
    "print(f\"Total Count: {total_count}\")\n",
    "\n",
    "# Calculate weights if imbalance exists\n",
    "if class_1_count and class_0_count and abs(class_1_count - class_0_count) > 0.1 * total_count:\n",
    "    weight_1 = total_count / (2 * class_1_count)\n",
    "    weight_0 = total_count / (2 * class_0_count)\n",
    "\n",
    "    encoded_df = encoded_df.withColumn(\n",
    "        \"weight\",\n",
    "        when(col(\"VICTIM_EJECTED_BINARY\") == 1, lit(weight_1)).otherwise(lit(weight_0))\n",
    "    )\n",
    "    print(f\"Weight for Class 1 (Minority): {weight_1}\")\n",
    "    print(f\"Weight for Class 0 (Majority): {weight_0}\")\n",
    "else:\n",
    "    print(\"No significant imbalance detected; skipping weights.\")\n",
    "\n",
    "# Assemble features using columns generated in Section 3\n",
    "assembled_df = encoded_df.select('features', 'VICTIM_EJECTED_BINARY', 'weight')\n",
    "\n",
    "# Split the data into training and test sets\n",
    "train_df, test_df = assembled_df.randomSplit([0.7, 0.3], seed=7122)\n",
    "\n",
    "# Train a Logistic Regression model\n",
    "log_reg = LogisticRegression(featuresCol=\"features\", labelCol=\"VICTIM_EJECTED_BINARY\", weightCol=\"weight\")\n",
    "log_reg_model = log_reg.fit(train_df)\n",
    "\n",
    "# Evaluate the model\n",
    "evaluator = BinaryClassificationEvaluator(labelCol=\"VICTIM_EJECTED_BINARY\", metricName=\"areaUnderROC\")\n",
    "predictions = log_reg_model.transform(test_df)\n",
    "\n",
    "# Print evaluation metrics\n",
    "auc = evaluator.evaluate(predictions)\n",
    "print(f\"AUC Score: {auc}\")\n",
    "\n",
    "# Inspect predictions\n",
    "predictions.select(\"VICTIM_EJECTED_BINARY\", \"prediction\", \"probability\").show(5, truncate=False)\n",
    "\n",
    "# Print model summary for debugging\n",
    "summary = log_reg_model.summary\n",
    "summary.predictions.show(5)\n",
    "summary.predictions.describe().show()\n"
   ]
  },
  {
   "cell_type": "code",
   "execution_count": 6,
   "metadata": {},
   "outputs": [
    {
     "name": "stdout",
     "output_type": "stream",
     "text": [
      "AUC Score: 0.9690579799227573\n"
     ]
    },
    {
     "name": "stderr",
     "output_type": "stream",
     "text": [
      "[Stage 293:>                                                        (0 + 1) / 1]\r"
     ]
    },
    {
     "name": "stdout",
     "output_type": "stream",
     "text": [
      "+---------------------+----------+----------------------------------------+\n",
      "|VICTIM_EJECTED_BINARY|prediction|probability                             |\n",
      "+---------------------+----------+----------------------------------------+\n",
      "|0                    |0.0       |[0.9744690512863117,0.02553094871368833]|\n",
      "|0                    |0.0       |[0.9744690512863117,0.02553094871368833]|\n",
      "|0                    |0.0       |[0.9744690512863117,0.02553094871368833]|\n",
      "|0                    |0.0       |[0.9744690512863117,0.02553094871368833]|\n",
      "|0                    |0.0       |[0.9744690512863117,0.02553094871368833]|\n",
      "|0                    |0.0       |[0.9744690512863117,0.02553094871368833]|\n",
      "|0                    |0.0       |[0.9744690512863117,0.02553094871368833]|\n",
      "|0                    |0.0       |[0.9744690512863117,0.02553094871368833]|\n",
      "|0                    |0.0       |[0.9744690512863117,0.02553094871368833]|\n",
      "|0                    |0.0       |[0.9744690512863117,0.02553094871368833]|\n",
      "+---------------------+----------+----------------------------------------+\n",
      "only showing top 10 rows\n",
      "\n",
      "Feature Columns Vectorized:\n",
      "  - VICTIM_SEATING_POSITION_index -> VICTIM_SEATING_POSITION_vec\n",
      "  - VICTIM_SAFETY_EQUIP1_index -> VICTIM_SAFETY_EQUIP1_vec\n",
      "  - VICTIM_SAFETY_EQUIP2_index -> VICTIM_SAFETY_EQUIP2_vec\n",
      "  - CHP_BEAT_TYPE_index -> CHP_BEAT_TYPE_vec\n",
      "  - VICTIM_SEX_index -> VICTIM_SEX_vec\n"
     ]
    },
    {
     "name": "stderr",
     "output_type": "stream",
     "text": [
      "                                                                                \r"
     ]
    }
   ],
   "source": [
    "# Print AUC Score\n",
    "print(f\"AUC Score: {auc}\")\n",
    "\n",
    "# Inspect predictions\n",
    "predictions.select(\"VICTIM_EJECTED_BINARY\", \"prediction\", \"probability\").show(10, truncate=False)\n",
    "\n",
    "# Check encoded features (only if debugging encoding)\n",
    "print(\"Feature Columns Vectorized:\")\n",
    "for col_name in categorical_columns:\n",
    "    print(f\"  - {col_name}_index -> {col_name}_vec\")\n"
   ]
  },
  {
   "cell_type": "code",
   "execution_count": 7,
   "metadata": {},
   "outputs": [
    {
     "name": "stderr",
     "output_type": "stream",
     "text": [
      "                                                                                \r"
     ]
    },
    {
     "data": {
      "image/png": "[encoded data removed]",
      "text/plain": [
       "<Figure size 640x480 with 1 Axes>"
      ]
     },
     "metadata": {},
     "output_type": "display_data"
    },
    {
     "data": {
      "image/png": "[encoded data removed]",
      "text/plain": [
       "<Figure size 640x480 with 1 Axes>"
      ]
     },
     "metadata": {},
     "output_type": "display_data"
    },
    {
     "name": "stderr",
     "output_type": "stream",
     "text": [
      "[Stage 325:====================================================>  (24 + 1) / 25]\r"
     ]
    },
    {
     "name": "stdout",
     "output_type": "stream",
     "text": [
      "[0.9262398820415275, 0.9227170253364724]\n",
      "[0.922371747977462, 0.9265693242803114]\n"
     ]
    },
    {
     "name": "stderr",
     "output_type": "stream",
     "text": [
      "                                                                                \r"
     ]
    }
   ],
   "source": [
    "import matplotlib.pyplot as plt \n",
    "\n",
    "roc = summary.roc.toPandas()\n",
    "\n",
    "plt.plot(roc[\"FPR\"], roc[\"TPR\"])\n",
    "plt.xlabel(\"False Positive Rate\")\n",
    "plt.ylabel(\"True Positive Rate\")\n",
    "plt.title(\"ROC Curve\")\n",
    "plt.show()\n",
    "\n",
    "precision = summary.pr.toPandas()\n",
    "plt.plot(precision[\"recall\"], precision[\"precision\"])\n",
    "plt.xlabel(\"Recall\")\n",
    "plt.ylabel(\"Precision\")\n",
    "plt.title(\"Precision-Recall Curve\")\n",
    "plt.show()\n",
    "\n",
    "print(summary.precisionByLabel)\n",
    "print(summary.recallByLabel)"
   ]
  }
 ],
 "metadata": {
  "kernelspec": {
   "display_name": "Python 3",
   "language": "python",
   "name": "python3"
  },
  "language_info": {
   "codemirror_mode": {
    "name": "ipython",
    "version": 3
   },
   "file_extension": ".py",
   "mimetype": "text/x-python",
   "name": "python",
   "nbconvert_exporter": "python",
   "pygments_lexer": "ipython3",
   "version": "3.12.6"
  }
 },
 "nbformat": 4,
 "nbformat_minor": 2
}
