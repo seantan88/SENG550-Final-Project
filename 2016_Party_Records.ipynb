{
 "cells": [
  {
   "cell_type": "code",
   "execution_count": 1,
   "metadata": {},
   "outputs": [],
   "source": [
    "import os\n",
    "import sys\n",
    "import pandas as pd\n",
    "\n",
    "from pyspark import SparkConf, SparkContext\n",
    "from pyspark.sql import SparkSession, SQLContext\n",
    "\n",
    "from pyspark.sql.types import *\n",
    "import pyspark.sql.functions as F\n",
    "from pyspark.sql.functions import udf, col\n",
    "\n",
    "\n",
    "\n",
    "\n",
    "#temporary fix for running pyspark in jupyter notebook\n",
    "os.environ['PYSPARK_PYTHON'] = sys.executable\n",
    "os.environ['PYSPARK_DRIVER_PYTHON'] = sys.executable"
   ]
  },
  {
   "cell_type": "code",
   "execution_count": 2,
   "metadata": {},
   "outputs": [
    {
     "name": "stderr",
     "output_type": "stream",
     "text": [
      "Warning: Ignoring non-Spark config property: spark_executor_memory\n",
      "Setting default log level to \"WARN\".\n",
      "To adjust logging level use sc.setLogLevel(newLevel). For SparkR, use setLogLevel(newLevel).\n",
      "24/12/04 16:12:40 WARN NativeCodeLoader: Unable to load native-hadoop library for your platform... using builtin-java classes where applicable\n",
      "24/12/04 16:12:41 WARN Utils: Service 'SparkUI' could not bind on port 4040. Attempting port 4041.\n",
      "24/12/04 16:12:41 WARN Utils: Service 'SparkUI' could not bind on port 4041. Attempting port 4042.\n",
      "/Users/seantan88/anaconda3/lib/python3.11/site-packages/pyspark/sql/context.py:113: FutureWarning: Deprecated in 3.0.0. Use SparkSession.builder.getOrCreate() instead.\n",
      "  warnings.warn(\n"
     ]
    }
   ],
   "source": [
    "# initialize spark session\n",
    "spark = SparkSession.builder.master(\"local[2]\").appName(\"Party-Records\").config(\"spark.driver.memory\", \"4g\").config(\"spark_executor_memory\", \"4g\").getOrCreate()\n",
    "\n",
    "sc = spark.sparkContext\n",
    "\n",
    "sqlContext = SQLContext(sc)"
   ]
  },
  {
   "cell_type": "code",
   "execution_count": 3,
   "metadata": {},
   "outputs": [
    {
     "name": "stderr",
     "output_type": "stream",
     "text": [
      "24/12/04 16:12:42 WARN SparkStringUtils: Truncated the string representation of a plan since it was too large. This behavior can be adjusted by setting 'spark.sql.debug.maxToStringFields'.\n",
      "                                                                                \r"
     ]
    },
    {
     "data": {
      "text/plain": [
       "[Row(CASE_ID=' 097293', PARTY_NUMBER=1, PARTY_TYPE=1, AT_FAULT='Y', PARTY_SEX='-', PARTY_AGE=20, PARTY_SOBRIETY='A', PARTY_DRUG_PHYSICAL='-', DIR_OF_TRAVEL='E', PARTY_SAFETY_EQUIP_1='G', PARTY_SAFETY_EQUIP_2='-', FINAN_RESPONS='N', SP_INFO_1='-', SP_INFO_2='D', SP_INFO_3='-', OAF_VIOLATION_CODE='-', OAF_VIOL_CAT=None, OAF_VIOL_SECTION=None, OAF_VIOLATION_SUFFIX=None, OAF_1='N', OAF_2='-', PARTY_NUMBER_KILLED=0, PARTY_NUMBER_INJURED=0, MOVE_PRE_ACC='M', VEHICLE_YEAR=1996, VEHICLE_MAKE='FORD', STWD_VEHICLE_TYPE='A', CHP_VEH_TYPE_TOWING=8, CHP_VEH_TYPE_TOWED=0, RACE='W', INATTENTION=None, SPECIAL_INFO_F='-', SPECIAL_INFO_G='-', local_report_number=None),\n",
       " Row(CASE_ID=' 373108', PARTY_NUMBER=1, PARTY_TYPE=1, AT_FAULT='Y', PARTY_SEX='M', PARTY_AGE=18, PARTY_SOBRIETY='A', PARTY_DRUG_PHYSICAL='-', DIR_OF_TRAVEL='S', PARTY_SAFETY_EQUIP_1='N', PARTY_SAFETY_EQUIP_2='G', FINAN_RESPONS='Y', SP_INFO_1='-', SP_INFO_2='-', SP_INFO_3='-', OAF_VIOLATION_CODE='-', OAF_VIOL_CAT=None, OAF_VIOL_SECTION=None, OAF_VIOLATION_SUFFIX=None, OAF_1='J', OAF_2='-', PARTY_NUMBER_KILLED=0, PARTY_NUMBER_INJURED=0, MOVE_PRE_ACC='B', VEHICLE_YEAR=1991, VEHICLE_MAKE='HONDA', STWD_VEHICLE_TYPE='-', CHP_VEH_TYPE_TOWING=None, CHP_VEH_TYPE_TOWED=0, RACE='H', INATTENTION=None, SPECIAL_INFO_F='-', SPECIAL_INFO_G='-', local_report_number=None),\n",
       " Row(CASE_ID=' 373108', PARTY_NUMBER=2, PARTY_TYPE=1, AT_FAULT='N', PARTY_SEX='F', PARTY_AGE=53, PARTY_SOBRIETY='A', PARTY_DRUG_PHYSICAL='-', DIR_OF_TRAVEL='S', PARTY_SAFETY_EQUIP_1='M', PARTY_SAFETY_EQUIP_2='G', FINAN_RESPONS='Y', SP_INFO_1='-', SP_INFO_2='-', SP_INFO_3='-', OAF_VIOLATION_CODE='-', OAF_VIOL_CAT=None, OAF_VIOL_SECTION=None, OAF_VIOLATION_SUFFIX=None, OAF_1='N', OAF_2='-', PARTY_NUMBER_KILLED=0, PARTY_NUMBER_INJURED=0, MOVE_PRE_ACC='B', VEHICLE_YEAR=2000, VEHICLE_MAKE='HONDA', STWD_VEHICLE_TYPE='-', CHP_VEH_TYPE_TOWING=None, CHP_VEH_TYPE_TOWED=0, RACE='A', INATTENTION=None, SPECIAL_INFO_F='-', SPECIAL_INFO_G='-', local_report_number=None),\n",
       " Row(CASE_ID=' 449906', PARTY_NUMBER=1, PARTY_TYPE=1, AT_FAULT='N', PARTY_SEX='-', PARTY_AGE=998, PARTY_SOBRIETY='H', PARTY_DRUG_PHYSICAL='H', DIR_OF_TRAVEL='S', PARTY_SAFETY_EQUIP_1='-', PARTY_SAFETY_EQUIP_2='-', FINAN_RESPONS=None, SP_INFO_1='-', SP_INFO_2='D', SP_INFO_3='-', OAF_VIOLATION_CODE='-', OAF_VIOL_CAT=None, OAF_VIOL_SECTION=None, OAF_VIOLATION_SUFFIX=None, OAF_1='N', OAF_2='-', PARTY_NUMBER_KILLED=0, PARTY_NUMBER_INJURED=0, MOVE_PRE_ACC='E', VEHICLE_YEAR=None, VEHICLE_MAKE='-', STWD_VEHICLE_TYPE='A', CHP_VEH_TYPE_TOWING=None, CHP_VEH_TYPE_TOWED=None, RACE=None, INATTENTION=None, SPECIAL_INFO_F='-', SPECIAL_INFO_G='-', local_report_number=None),\n",
       " Row(CASE_ID=' 449906', PARTY_NUMBER=2, PARTY_TYPE=1, AT_FAULT='N', PARTY_SEX='M', PARTY_AGE=57, PARTY_SOBRIETY='H', PARTY_DRUG_PHYSICAL='H', DIR_OF_TRAVEL='W', PARTY_SAFETY_EQUIP_1='Y', PARTY_SAFETY_EQUIP_2='-', FINAN_RESPONS='Y', SP_INFO_1='-', SP_INFO_2='D', SP_INFO_3='-', OAF_VIOLATION_CODE='-', OAF_VIOL_CAT=None, OAF_VIOL_SECTION=None, OAF_VIOLATION_SUFFIX=None, OAF_1='N', OAF_2='-', PARTY_NUMBER_KILLED=0, PARTY_NUMBER_INJURED=0, MOVE_PRE_ACC='B', VEHICLE_YEAR=1995, VEHICLE_MAKE='FORD', STWD_VEHICLE_TYPE='A', CHP_VEH_TYPE_TOWING=None, CHP_VEH_TYPE_TOWED=None, RACE='H', INATTENTION=None, SPECIAL_INFO_F='-', SPECIAL_INFO_G='-', local_report_number=None)]"
      ]
     },
     "execution_count": 3,
     "metadata": {},
     "output_type": "execute_result"
    }
   ],
   "source": [
    "# define the path to the data\n",
    "\n",
    "PartyRecords = '20160924_PartyRecords.txt'\n",
    "\n",
    "# define the schema\n",
    "schema = StructType([\n",
    "    StructField('CASE_ID', StringType(), True),\n",
    "    StructField('PARTY_NUMBER', IntegerType(), True),\n",
    "    StructField('PARTY_TYPE', IntegerType(), True),\n",
    "    StructField('AT_FAULT', StringType(), True),\n",
    "    StructField('PARTY_SEX', StringType(), True),\n",
    "    StructField('PARTY_AGE', IntegerType(), True),\n",
    "    StructField('PARTY_SOBRIETY', StringType(), True),\n",
    "    StructField('PARTY_DRUG_PHYSICAL', StringType(), True),\n",
    "    StructField('DIR_OF_TRAVEL', StringType(), True),\n",
    "    StructField('PARTY_SAFETY_EQUIP_1', StringType(), True),\n",
    "    StructField('PARTY_SAFETY_EQUIP_2', StringType(), True),\n",
    "    StructField('FINAN_RESPONS', StringType(), True),\n",
    "    StructField('SP_INFO_1', StringType(), True),\n",
    "    # MIGHT NEED TO ADJUST THIS - HAS BOTH STRING AND INTEGER TYPES\n",
    "    StructField('SP_INFO_2', StringType(), True),\n",
    "    StructField('SP_INFO_3', StringType(), True),\n",
    "    StructField('OAF_VIOLATION_CODE', StringType(), True),\n",
    "    StructField('OAF_VIOL_CAT', IntegerType(), True),\n",
    "    StructField('OAF_VIOL_SECTION', IntegerType(), True),\n",
    "    StructField('OAF_VIOLATION_SUFFIX', StringType(), True),\n",
    "    StructField('OAF_1', StringType(), True),\n",
    "    StructField('OAF_2', StringType(), True),\n",
    "    StructField('PARTY_NUMBER_KILLED', IntegerType(), True),\n",
    "    StructField('PARTY_NUMBER_INJURED', IntegerType(), True),\n",
    "    StructField('MOVE_PRE_ACC', StringType(), True),\n",
    "    StructField('VEHICLE_YEAR', IntegerType(), True),\n",
    "    StructField('VEHICLE_MAKE', StringType(), True),\n",
    "    StructField('STWD_VEHICLE_TYPE', StringType(), True),\n",
    "    StructField('CHP_VEH_TYPE_TOWING', IntegerType(), True),\n",
    "    StructField('CHP_VEH_TYPE_TOWED', IntegerType(), True),\n",
    "    StructField('RACE', StringType(), True),\n",
    "    StructField('INATTENTION', StringType(), True),\n",
    "    StructField('SPECIAL_INFO_F', StringType(), True),\n",
    "    StructField('SPECIAL_INFO_G', StringType(), True),\n",
    "    StructField('local_report_number', IntegerType(), True),\n",
    "])\n",
    "\n",
    "# load the data, skip header\n",
    "party_df = spark.read.csv(path = PartyRecords, schema = schema).cache()\n",
    "header = party_df.first()\n",
    "party_df = party_df.filter(col(\"CASE_ID\") != header[\"CASE_ID\"])\n",
    "party_df.take(5)"
   ]
  },
  {
   "cell_type": "code",
   "execution_count": 7,
   "metadata": {},
   "outputs": [
    {
     "name": "stderr",
     "output_type": "stream",
     "text": [
      "[Stage 11:>                                                         (0 + 1) / 1]\r"
     ]
    },
    {
     "name": "stdout",
     "output_type": "stream",
     "text": [
      "+-------+--------------------+------------------+------------------+--------+---------+------------------+--------------+-------------------+-------------+--------------------+--------------------+-------------+---------+-------------------+---------+------------------+------------------+------------------+--------------------+--------+--------+--------------------+--------------------+------------+-----------------+------------+-----------------+-------------------+------------------+--------+-----------+--------------+--------------+-------------------+\n",
      "|summary|             CASE_ID|      PARTY_NUMBER|        PARTY_TYPE|AT_FAULT|PARTY_SEX|         PARTY_AGE|PARTY_SOBRIETY|PARTY_DRUG_PHYSICAL|DIR_OF_TRAVEL|PARTY_SAFETY_EQUIP_1|PARTY_SAFETY_EQUIP_2|FINAN_RESPONS|SP_INFO_1|          SP_INFO_2|SP_INFO_3|OAF_VIOLATION_CODE|      OAF_VIOL_CAT|  OAF_VIOL_SECTION|OAF_VIOLATION_SUFFIX|   OAF_1|   OAF_2| PARTY_NUMBER_KILLED|PARTY_NUMBER_INJURED|MOVE_PRE_ACC|     VEHICLE_YEAR|VEHICLE_MAKE|STWD_VEHICLE_TYPE|CHP_VEH_TYPE_TOWING|CHP_VEH_TYPE_TOWED|    RACE|INATTENTION|SPECIAL_INFO_F|SPECIAL_INFO_G|local_report_number|\n",
      "+-------+--------------------+------------------+------------------+--------+---------+------------------+--------------+-------------------+-------------+--------------------+--------------------+-------------+---------+-------------------+---------+------------------+------------------+------------------+--------------------+--------+--------+--------------------+--------------------+------------+-----------------+------------+-----------------+-------------------+------------------+--------+-----------+--------------+--------------+-------------------+\n",
      "|  count|            14470293|          14470293|          14429606|14470293| 14470293|          14470293|      14470293|           14400585|     14470293|            14470293|            13433067|     13218830| 14470293|           14470293| 14470293|          13532058|           1977781|           1977781|             1297982|14470293|14470293|            14470293|            14470293|    14470293|         13208608|    14470293|         14470293|           10693644|           9492393|10860764|     530960|      14470293|      14470293|                  0|\n",
      "|   mean|3.996765488189995...|1.6041650296922114|1.1987111775609118|    NULL|     NULL| 183.4000290802681|          NULL|               NULL|         NULL|                NULL|                NULL|         NULL|     NULL| 2.9726263265826853|     NULL|1.8333333333333333|14.876641043674704|11195.187789244614|  0.4435217404017661|    NULL|    NULL|0.003804207696416375|  0.2831179023119988|        NULL|2053.150130581512|    Infinity|             NULL|  9.450601871541638|1.1196720363347787|    NULL|       NULL|          NULL|          NULL|               NULL|\n",
      "| stddev|1.708551472691754...|0.7506874483963515| 0.641936899525375|    NULL|     NULL|344.26986209692745|          NULL|               NULL|         NULL|                NULL|                NULL|         NULL|     NULL|0.20245336331338154|     NULL| 0.408248290463863|15.282721724764976| 10967.00268649716|  1.1933391934732134|    NULL|    NULL|  0.0673628330397817|  0.5881329822736852|        NULL|653.1809995936405|         NaN|             NULL| 17.958510768881094|6.4241813129124905|    NULL|       NULL|          NULL|          NULL|               NULL|\n",
      "|    min|              097293|                 1|                 1|       N|        -|                 0|             -|                  -|            -|                   -|                   -|            E|        -|                  -|        -|                 -|                 0|                 0|                    |       -|       -|                   0|                   0|           -|             1901|           /|                -|                  0|                 0|       A|          -|             -|             -|               NULL|\n",
      "|    max| 9870011231152508671|                92|                 5|       Y|        M|               998|             H|                  I|            W|                   Y|                   Y|            Y|        A|                  D|        E|                 `|                63|             90210|                   S|       Y|       Y|                   9|                  55|           R|             9999|    ________|                O|                 99|                99|       W|          P|             F|             G|               NULL|\n",
      "+-------+--------------------+------------------+------------------+--------+---------+------------------+--------------+-------------------+-------------+--------------------+--------------------+-------------+---------+-------------------+---------+------------------+------------------+------------------+--------------------+--------+--------+--------------------+--------------------+------------+-----------------+------------+-----------------+-------------------+------------------+--------+-----------+--------------+--------------+-------------------+\n",
      "\n"
     ]
    },
    {
     "name": "stderr",
     "output_type": "stream",
     "text": [
      "                                                                                \r"
     ]
    }
   ],
   "source": [
    "party_df.describe().show()"
   ]
  }
 ],
 "metadata": {
  "kernelspec": {
   "display_name": "base",
   "language": "python",
   "name": "python3"
  },
  "language_info": {
   "codemirror_mode": {
    "name": "ipython",
    "version": 3
   },
   "file_extension": ".py",
   "mimetype": "text/x-python",
   "name": "python",
   "nbconvert_exporter": "python",
   "pygments_lexer": "ipython3",
   "version": "3.11.5"
  }
 },
 "nbformat": 4,
 "nbformat_minor": 2
}
