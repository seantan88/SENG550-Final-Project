{
 "cells": [
  {
   "cell_type": "code",
   "metadata": {
    "ExecuteTime": {
     "end_time": "2024-12-16T06:47:24.475063Z",
     "start_time": "2024-12-16T06:47:24.471550Z"
    }
   },
   "source": [
    "import os\n",
    "import sys\n",
    "import pandas as pd\n",
    "from pyspark import SparkConf, SparkContext\n",
    "from pyspark.sql import SparkSession, SQLContext\n",
    "\n",
    "from pyspark.sql.types import *\n",
    "import pyspark.sql.functions as F\n",
    "from pyspark.sql.functions import udf, col\n",
    "\n",
    "from pyspark.ml.feature import StringIndexer, OneHotEncoder\n",
    "from pyspark.ml import Pipeline\n",
    "\n",
    "\n",
    "#temporary fix for running pyspark in jupyter notebook\n",
    "os.environ['PYSPARK_PYTHON'] = sys.executable\n",
    "os.environ['PYSPARK_DRIVER_PYTHON'] = sys.executable"
   ],
   "outputs": [],
   "execution_count": 26
  },
  {
   "cell_type": "code",
   "metadata": {
    "ExecuteTime": {
     "end_time": "2024-12-16T06:47:26.429921Z",
     "start_time": "2024-12-16T06:47:26.391362Z"
    }
   },
   "source": [
    "# initialize spark session\n",
    "spark = SparkSession.builder.master(\"local[2]\").appName(\"Victim-Records\").getOrCreate()\n",
    "\n",
    "sc = spark.sparkContext\n",
    "\n",
    "sqlContext = SQLContext(sc)\n"
   ],
   "outputs": [],
   "execution_count": 27
  },
  {
   "cell_type": "code",
   "metadata": {
    "ExecuteTime": {
     "end_time": "2024-12-16T06:47:31.407331Z",
     "start_time": "2024-12-16T06:47:30.840249Z"
    }
   },
   "source": [
    "# define the path to the data\n",
    "\n",
    "VictimRecords = ['20160924_VictimRecords.txt','20170112_VictimRecords.txt','20180925_VictimRecords.txt', '20201024_VictimRecords.txt']\n",
    "# define the schema\n",
    "schema = StructType([\n",
    "    StructField('CASE_ID', StringType(), True),\n",
    "    StructField('PARTY_NUMBER', IntegerType(), True),\n",
    "    StructField('VICTIM_ROLE', StringType(), True),\n",
    "    StructField('VICTIM_SEX', StringType(), True),\n",
    "    StructField('VICTIM_AGE', IntegerType(), True),\n",
    "    StructField('VICTIM_DEGREE_OF_INJURY', StringType(), True),\n",
    "    StructField('VICTIM_SEATING_POSITION', StringType(), True),\n",
    "    StructField('VICTIM_SAFETY_EQUIP1', StringType(), True),\n",
    "    StructField('VICTIM_SAFETY_EQUIP2', StringType(), True),\n",
    "    StructField('VICTIM_EJECTED', StringType(), True),\n",
    "])\n",
    "\n",
    "\n",
    "# load the data, skip header\n",
    "victim_df = spark.read.csv(path = VictimRecords, schema = schema).cache()\n",
    "header = victim_df.first()\n",
    "victim_df = victim_df.filter(col(\"CASE_ID\") != header[\"CASE_ID\"])\n",
    "victim_df.take(5)\n",
    "\n",
    "\n"
   ],
   "outputs": [
    {
     "name": "stderr",
     "output_type": "stream",
     "text": [
      "24/12/15 23:47:31 WARN CacheManager: Asked to cache already cached data.\n"
     ]
    },
    {
     "data": {
      "text/plain": [
       "[Row(CASE_ID=' 097293', PARTY_NUMBER=1, VICTIM_ROLE='2', VICTIM_SEX='M', VICTIM_AGE=20, VICTIM_DEGREE_OF_INJURY='0', VICTIM_SEATING_POSITION='3', VICTIM_SAFETY_EQUIP1='G', VICTIM_SAFETY_EQUIP2='-', VICTIM_EJECTED='0'),\n",
       " Row(CASE_ID=' 965874', PARTY_NUMBER=2, VICTIM_ROLE='2', VICTIM_SEX='M', VICTIM_AGE=19, VICTIM_DEGREE_OF_INJURY='0', VICTIM_SEATING_POSITION='3', VICTIM_SAFETY_EQUIP1='M', VICTIM_SAFETY_EQUIP2='G', VICTIM_EJECTED='0'),\n",
       " Row(CASE_ID='0000003', PARTY_NUMBER=1, VICTIM_ROLE='2', VICTIM_SEX='M', VICTIM_AGE=21, VICTIM_DEGREE_OF_INJURY='0', VICTIM_SEATING_POSITION='3', VICTIM_SAFETY_EQUIP1='G', VICTIM_SAFETY_EQUIP2='-', VICTIM_EJECTED='0'),\n",
       " Row(CASE_ID='0000005', PARTY_NUMBER=1, VICTIM_ROLE='1', VICTIM_SEX='M', VICTIM_AGE=44, VICTIM_DEGREE_OF_INJURY='2', VICTIM_SEATING_POSITION='1', VICTIM_SAFETY_EQUIP1='G', VICTIM_SAFETY_EQUIP2='-', VICTIM_EJECTED='0'),\n",
       " Row(CASE_ID='0000008', PARTY_NUMBER=1, VICTIM_ROLE='2', VICTIM_SEX='F', VICTIM_AGE=59, VICTIM_DEGREE_OF_INJURY='0', VICTIM_SEATING_POSITION='3', VICTIM_SAFETY_EQUIP1='G', VICTIM_SAFETY_EQUIP2='-', VICTIM_EJECTED='0')]"
      ]
     },
     "execution_count": 28,
     "metadata": {},
     "output_type": "execute_result"
    }
   ],
   "execution_count": 28
  },
  {
   "cell_type": "code",
   "metadata": {
    "ExecuteTime": {
     "end_time": "2024-12-16T06:47:42.632345Z",
     "start_time": "2024-12-16T06:47:42.628802Z"
    }
   },
   "source": [
    "victim_df.columns\n"
   ],
   "outputs": [
    {
     "data": {
      "text/plain": [
       "['CASE_ID',\n",
       " 'PARTY_NUMBER',\n",
       " 'VICTIM_ROLE',\n",
       " 'VICTIM_SEX',\n",
       " 'VICTIM_AGE',\n",
       " 'VICTIM_DEGREE_OF_INJURY',\n",
       " 'VICTIM_SEATING_POSITION',\n",
       " 'VICTIM_SAFETY_EQUIP1',\n",
       " 'VICTIM_SAFETY_EQUIP2',\n",
       " 'VICTIM_EJECTED']"
      ]
     },
     "execution_count": 29,
     "metadata": {},
     "output_type": "execute_result"
    }
   ],
   "execution_count": 29
  },
  {
   "cell_type": "code",
   "metadata": {
    "ExecuteTime": {
     "end_time": "2024-12-16T06:47:45.167501Z",
     "start_time": "2024-12-16T06:47:45.164097Z"
    }
   },
   "source": [
    "victim_df.printSchema()"
   ],
   "outputs": [
    {
     "name": "stdout",
     "output_type": "stream",
     "text": [
      "root\n",
      " |-- CASE_ID: string (nullable = true)\n",
      " |-- PARTY_NUMBER: integer (nullable = true)\n",
      " |-- VICTIM_ROLE: string (nullable = true)\n",
      " |-- VICTIM_SEX: string (nullable = true)\n",
      " |-- VICTIM_AGE: integer (nullable = true)\n",
      " |-- VICTIM_DEGREE_OF_INJURY: string (nullable = true)\n",
      " |-- VICTIM_SEATING_POSITION: string (nullable = true)\n",
      " |-- VICTIM_SAFETY_EQUIP1: string (nullable = true)\n",
      " |-- VICTIM_SAFETY_EQUIP2: string (nullable = true)\n",
      " |-- VICTIM_EJECTED: string (nullable = true)\n",
      "\n"
     ]
    }
   ],
   "execution_count": 30
  },
  {
   "cell_type": "code",
   "metadata": {
    "ExecuteTime": {
     "end_time": "2024-12-16T06:48:34.882669Z",
     "start_time": "2024-12-16T06:47:46.924192Z"
    }
   },
   "source": [
    "victim_df.describe().show()"
   ],
   "outputs": [
    {
     "name": "stderr",
     "output_type": "stream",
     "text": [
      "[Stage 51:==================================================>     (10 + 1) / 11]\r"
     ]
    },
    {
     "name": "stdout",
     "output_type": "stream",
     "text": [
      "+-------+--------------------+------------------+------------------+------------------+------------------+-----------------------+-----------------------+--------------------+--------------------+------------------+\n",
      "|summary|             CASE_ID|      PARTY_NUMBER|       VICTIM_ROLE|        VICTIM_SEX|        VICTIM_AGE|VICTIM_DEGREE_OF_INJURY|VICTIM_SEATING_POSITION|VICTIM_SAFETY_EQUIP1|VICTIM_SAFETY_EQUIP2|    VICTIM_EJECTED|\n",
      "+-------+--------------------+------------------+------------------+------------------+------------------+-----------------------+-----------------------+--------------------+--------------------+------------------+\n",
      "|  count|            29762885|          29762884|          29762884|          29762884|          29762884|               29762884|               29762884|            29762884|            28217735|          29762884|\n",
      "|   mean|2.742974575002428E17|1.6307193214205988|1.8504580321204922|3.5555555555555554| 64.01018705042159|     1.9812569803843159|     3.1412959117404706|  1.3076923076923077|                 0.0|0.2601835294506094|\n",
      "| stddev|1.401349273111421...|0.7163943488277367|0.9132768600295229|0.7893370379638581|177.15337176513754|     1.9378674253173982|     2.2609675066631443|  1.4366984945013914|                 0.0|0.8020477056595892|\n",
      "|    min|              097293|                 1|                  |                  |                 0|                       |                       |                    |                    |                  |\n",
      "|    max| 9870011231152508671|                89|                 m|                 X|               999|                      M|                      p|                   Z|                   Z|                 y|\n",
      "+-------+--------------------+------------------+------------------+------------------+------------------+-----------------------+-----------------------+--------------------+--------------------+------------------+\n",
      "\n"
     ]
    },
    {
     "name": "stderr",
     "output_type": "stream",
     "text": [
      "                                                                                \r"
     ]
    }
   ],
   "execution_count": 31
  },
  {
   "cell_type": "code",
   "metadata": {
    "ExecuteTime": {
     "end_time": "2024-12-16T06:48:38.246896Z",
     "start_time": "2024-12-16T06:48:36.558649Z"
    }
   },
   "source": [
    "victim_df.filter(victim_df.VICTIM_AGE == 0).count()"
   ],
   "outputs": [
    {
     "name": "stderr",
     "output_type": "stream",
     "text": [
      "                                                                                \r"
     ]
    },
    {
     "data": {
      "text/plain": [
       "216868"
      ]
     },
     "execution_count": 32,
     "metadata": {},
     "output_type": "execute_result"
    }
   ],
   "execution_count": 32
  },
  {
   "cell_type": "code",
   "metadata": {
    "ExecuteTime": {
     "end_time": "2024-12-16T06:49:33.660850Z",
     "start_time": "2024-12-16T06:48:47.862512Z"
    }
   },
   "source": [
    "\n",
    "# filter out unknown ages (998)\n",
    "victim_df = victim_df.filter(victim_df.VICTIM_AGE != 998)\n",
    "\n",
    "# change all 999 age instances to 0\n",
    "victim_df = victim_df.withColumn('VICTIM_AGE', F.when(victim_df.VICTIM_AGE == 999, 0).otherwise(victim_df.VICTIM_AGE))\n",
    "\n",
    "\n",
    "victim_df.describe().show()\n",
    "\n",
    "\n",
    "\n",
    "\n",
    "\n",
    "\n"
   ],
   "outputs": [
    {
     "name": "stderr",
     "output_type": "stream",
     "text": [
      "[Stage 57:==================================================>     (10 + 1) / 11]\r"
     ]
    },
    {
     "name": "stdout",
     "output_type": "stream",
     "text": [
      "+-------+--------------------+------------------+------------------+------------------+------------------+-----------------------+-----------------------+--------------------+--------------------+------------------+\n",
      "|summary|             CASE_ID|      PARTY_NUMBER|       VICTIM_ROLE|        VICTIM_SEX|        VICTIM_AGE|VICTIM_DEGREE_OF_INJURY|VICTIM_SEATING_POSITION|VICTIM_SAFETY_EQUIP1|VICTIM_SAFETY_EQUIP2|    VICTIM_EJECTED|\n",
      "+-------+--------------------+------------------+------------------+------------------+------------------+-----------------------+-----------------------+--------------------+--------------------+------------------+\n",
      "|  count|            28741430|          28741430|          28741430|          28741430|          28741430|               28741430|               28741430|            28741430|            27232538|          28741430|\n",
      "|   mean|2.782413247152407...| 1.630560414008628| 1.840998056602361|3.5619047619047617|30.798822292418993|      2.018807286238596|      3.094007554726857|  1.3076923076923077|                 0.0|0.2531758540237648|\n",
      "| stddev|1.412527371907603...|0.7161930467140076|0.9185454453309317|0.7835300976474446|19.434968806293405|     1.9367157899100091|      2.243368787488718|  1.4366984945013914|                 0.0|0.7898033490361648|\n",
      "|    min|              097293|                 1|                  |                  |                 0|                       |                       |                    |                    |                  |\n",
      "|    max| 9870011231152508671|                89|                 m|                 X|               125|                      M|                      p|                   Z|                   Z|                 y|\n",
      "+-------+--------------------+------------------+------------------+------------------+------------------+-----------------------+-----------------------+--------------------+--------------------+------------------+\n",
      "\n"
     ]
    },
    {
     "name": "stderr",
     "output_type": "stream",
     "text": [
      "                                                                                \r"
     ]
    }
   ],
   "execution_count": 33
  },
  {
   "cell_type": "code",
   "metadata": {
    "ExecuteTime": {
     "end_time": "2024-12-16T06:49:57.786901Z",
     "start_time": "2024-12-16T06:49:57.179958Z"
    }
   },
   "source": [
    "victim_df.filter(victim_df.VICTIM_AGE == 0).count()"
   ],
   "outputs": [
    {
     "data": {
      "text/plain": [
       "217383"
      ]
     },
     "execution_count": 34,
     "metadata": {},
     "output_type": "execute_result"
    }
   ],
   "execution_count": 34
  },
  {
   "cell_type": "code",
   "metadata": {
    "ExecuteTime": {
     "end_time": "2024-12-16T06:50:47.452166Z",
     "start_time": "2024-12-16T06:50:47.350177Z"
    }
   },
   "source": [
    "# remove all \"not stated - values\" and null\n",
    "filterCondition = (col(victim_df.columns[0]) != \"-\")\n",
    "filterCondition = filterCondition | (col(victim_df.columns[0]) != None)\n",
    "\n",
    "\n",
    "for c in victim_df.columns[1:]:\n",
    "    filterCondition = filterCondition | (col(c) != \"-\")\n",
    "    filterCondition = filterCondition | (col(c) != None)\n",
    "\n",
    "filtered_df = victim_df.filter(filterCondition)\n",
    "filtered_df.head(5)"
   ],
   "outputs": [
    {
     "data": {
      "text/plain": [
       "[Row(CASE_ID=' 097293', PARTY_NUMBER=1, VICTIM_ROLE='2', VICTIM_SEX='M', VICTIM_AGE=20, VICTIM_DEGREE_OF_INJURY='0', VICTIM_SEATING_POSITION='3', VICTIM_SAFETY_EQUIP1='G', VICTIM_SAFETY_EQUIP2='-', VICTIM_EJECTED='0'),\n",
       " Row(CASE_ID=' 965874', PARTY_NUMBER=2, VICTIM_ROLE='2', VICTIM_SEX='M', VICTIM_AGE=19, VICTIM_DEGREE_OF_INJURY='0', VICTIM_SEATING_POSITION='3', VICTIM_SAFETY_EQUIP1='M', VICTIM_SAFETY_EQUIP2='G', VICTIM_EJECTED='0'),\n",
       " Row(CASE_ID='0000003', PARTY_NUMBER=1, VICTIM_ROLE='2', VICTIM_SEX='M', VICTIM_AGE=21, VICTIM_DEGREE_OF_INJURY='0', VICTIM_SEATING_POSITION='3', VICTIM_SAFETY_EQUIP1='G', VICTIM_SAFETY_EQUIP2='-', VICTIM_EJECTED='0'),\n",
       " Row(CASE_ID='0000005', PARTY_NUMBER=1, VICTIM_ROLE='1', VICTIM_SEX='M', VICTIM_AGE=44, VICTIM_DEGREE_OF_INJURY='2', VICTIM_SEATING_POSITION='1', VICTIM_SAFETY_EQUIP1='G', VICTIM_SAFETY_EQUIP2='-', VICTIM_EJECTED='0'),\n",
       " Row(CASE_ID='0000008', PARTY_NUMBER=1, VICTIM_ROLE='2', VICTIM_SEX='F', VICTIM_AGE=59, VICTIM_DEGREE_OF_INJURY='0', VICTIM_SEATING_POSITION='3', VICTIM_SAFETY_EQUIP1='G', VICTIM_SAFETY_EQUIP2='-', VICTIM_EJECTED='0')]"
      ]
     },
     "execution_count": 36,
     "metadata": {},
     "output_type": "execute_result"
    }
   ],
   "execution_count": 36
  },
  {
   "cell_type": "code",
   "metadata": {
    "ExecuteTime": {
     "end_time": "2024-12-16T06:50:58.548635Z",
     "start_time": "2024-12-16T06:50:49.849075Z"
    }
   },
   "source": [
    "\n",
    "encoded_and_index = [\"VICTIM_SEX\",\"VICTIM_DEGREE_OF_INJURY\",\"VICTIM_SEATING_POSITION\",\"VICTIM_SAFETY_EQUIP2\",\"VICTIM_EJECTED\"]\n",
    "\n",
    "indexers = [StringIndexer(inputCol=c, outputCol=c+\"_index\") for c in encoded_and_index]\n",
    "encoders = [OneHotEncoder(inputCol=c+\"_index\", outputCol=c+\"_vec\") for c in encoded_and_index]\n",
    "\n",
    "filtered_df2 = filtered_df\n",
    "\n",
    "for col_name in encoded_and_index:\n",
    "    \n",
    "    indexer = StringIndexer(inputCol=col_name, outputCol=col_name + \"_index\")\n",
    "    print(indexer)\n",
    "    indexedDf = indexer.fit(victim_df).transform(victim_df)\n",
    "   \n",
    "    encoder = OneHotEncoder(inputCol=col_name + \"_index\", outputCol=col_name + \"_vec\")\n",
    "    encoded_df = encoder.fit(indexedDf).transform(indexedDf)\n",
    "\n",
    "encoded_df.show(truncate=False)"
   ],
   "outputs": [
    {
     "name": "stdout",
     "output_type": "stream",
     "text": [
      "StringIndexer_f389cceae3c6\n"
     ]
    },
    {
     "name": "stderr",
     "output_type": "stream",
     "text": [
      "                                                                                \r"
     ]
    },
    {
     "name": "stdout",
     "output_type": "stream",
     "text": [
      "StringIndexer_91a8f9d634e7\n"
     ]
    },
    {
     "name": "stderr",
     "output_type": "stream",
     "text": [
      "                                                                                \r"
     ]
    },
    {
     "name": "stdout",
     "output_type": "stream",
     "text": [
      "StringIndexer_76963fd99a17\n"
     ]
    },
    {
     "name": "stderr",
     "output_type": "stream",
     "text": [
      "                                                                                \r"
     ]
    },
    {
     "name": "stdout",
     "output_type": "stream",
     "text": [
      "StringIndexer_1fa46d76adb4\n"
     ]
    },
    {
     "name": "stderr",
     "output_type": "stream",
     "text": [
      "                                                                                \r"
     ]
    },
    {
     "name": "stdout",
     "output_type": "stream",
     "text": [
      "StringIndexer_aa3018a10c03\n"
     ]
    },
    {
     "name": "stderr",
     "output_type": "stream",
     "text": [
      "                                                                                \r"
     ]
    },
    {
     "name": "stdout",
     "output_type": "stream",
     "text": [
      "+-------+------------+-----------+----------+----------+-----------------------+-----------------------+--------------------+--------------------+--------------+--------------------+------------------+\n",
      "|CASE_ID|PARTY_NUMBER|VICTIM_ROLE|VICTIM_SEX|VICTIM_AGE|VICTIM_DEGREE_OF_INJURY|VICTIM_SEATING_POSITION|VICTIM_SAFETY_EQUIP1|VICTIM_SAFETY_EQUIP2|VICTIM_EJECTED|VICTIM_EJECTED_index|VICTIM_EJECTED_vec|\n",
      "+-------+------------+-----------+----------+----------+-----------------------+-----------------------+--------------------+--------------------+--------------+--------------------+------------------+\n",
      "| 097293|1           |2          |M         |20        |0                      |3                      |G                   |-                   |0             |0.0                 |(15,[0],[1.0])    |\n",
      "| 965874|2           |2          |M         |19        |0                      |3                      |M                   |G                   |0             |0.0                 |(15,[0],[1.0])    |\n",
      "|0000003|1           |2          |M         |21        |0                      |3                      |G                   |-                   |0             |0.0                 |(15,[0],[1.0])    |\n",
      "|0000005|1           |1          |M         |44        |2                      |1                      |G                   |-                   |0             |0.0                 |(15,[0],[1.0])    |\n",
      "|0000008|1           |2          |F         |59        |0                      |3                      |G                   |-                   |0             |0.0                 |(15,[0],[1.0])    |\n",
      "|0000008|2           |2          |M         |31        |0                      |3                      |G                   |-                   |0             |0.0                 |(15,[0],[1.0])    |\n",
      "|0000009|2           |2          |F         |14        |4                      |6                      |C                   |-                   |0             |0.0                 |(15,[0],[1.0])    |\n",
      "|0000009|2           |2          |F         |39        |0                      |3                      |G                   |-                   |0             |0.0                 |(15,[0],[1.0])    |\n",
      "|0000013|1           |4          |M         |47        |3                      |1                      |V                   |-                   |1             |2.0                 |(15,[2],[1.0])    |\n",
      "|0000014|2           |1          |F         |26        |3                      |1                      |G                   |-                   |0             |0.0                 |(15,[0],[1.0])    |\n",
      "|0000014|3           |1          |M         |40        |4                      |1                      |G                   |-                   |0             |0.0                 |(15,[0],[1.0])    |\n",
      "|0000015|1           |2          |F         |8         |0                      |3                      |G                   |-                   |0             |0.0                 |(15,[0],[1.0])    |\n",
      "|0000015|2           |2          |F         |59        |0                      |3                      |G                   |-                   |0             |0.0                 |(15,[0],[1.0])    |\n",
      "|0000016|1           |1          |F         |20        |4                      |1                      |L                   |-                   |0             |0.0                 |(15,[0],[1.0])    |\n",
      "|0000017|1           |2          |F         |38        |0                      |3                      |G                   |-                   |0             |0.0                 |(15,[0],[1.0])    |\n",
      "|0000017|2           |2          |F         |17        |0                      |2                      |C                   |-                   |0             |0.0                 |(15,[0],[1.0])    |\n",
      "|0000020|1           |2          |M         |21        |0                      |3                      |G                   |-                   |0             |0.0                 |(15,[0],[1.0])    |\n",
      "|0000020|1           |1          |F         |19        |4                      |1                      |G                   |-                   |0             |0.0                 |(15,[0],[1.0])    |\n",
      "|0000023|1           |2          |M         |16        |0                      |3                      |G                   |-                   |0             |0.0                 |(15,[0],[1.0])    |\n",
      "|0000023|1           |2          |M         |13        |4                      |0                      |N                   |-                   |1             |2.0                 |(15,[2],[1.0])    |\n",
      "+-------+------------+-----------+----------+----------+-----------------------+-----------------------+--------------------+--------------------+--------------+--------------------+------------------+\n",
      "only showing top 20 rows\n",
      "\n"
     ]
    }
   ],
   "execution_count": 37
  },
  {
   "metadata": {
    "ExecuteTime": {
     "end_time": "2024-12-16T06:55:19.179226Z",
     "start_time": "2024-12-16T06:55:11.954631Z"
    }
   },
   "cell_type": "code",
   "source": [
    "# Save the cleaned Victim Records DataFrame as CSV\n",
    "filtered_df2.write.csv(\"clean_victim_records.csv\", header=True, mode=\"overwrite\")\n",
    "print(\"Victim Records saved successfully\")"
   ],
   "outputs": [
    {
     "name": "stderr",
     "output_type": "stream",
     "text": [
      "[Stage 82:==================================================>     (10 + 1) / 11]\r"
     ]
    },
    {
     "name": "stdout",
     "output_type": "stream",
     "text": [
      "Victim Records saved successfully\n"
     ]
    },
    {
     "name": "stderr",
     "output_type": "stream",
     "text": [
      "                                                                                \r"
     ]
    }
   ],
   "execution_count": 39
  }
 ],
 "metadata": {
  "kernelspec": {
   "display_name": "Python 3",
   "language": "python",
   "name": "python3"
  },
  "language_info": {
   "codemirror_mode": {
    "name": "ipython",
    "version": 3
   },
   "file_extension": ".py",
   "mimetype": "text/x-python",
   "name": "python",
   "nbconvert_exporter": "python",
   "pygments_lexer": "ipython3",
   "version": "3.13.0"
  }
 },
 "nbformat": 4,
 "nbformat_minor": 2
}
