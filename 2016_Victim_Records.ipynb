{
 "cells": [
  {
   "cell_type": "code",
   "execution_count": 1,
   "metadata": {
    "ExecuteTime": {
     "end_time": "2024-12-16T06:47:24.475063Z",
     "start_time": "2024-12-16T06:47:24.471550Z"
    }
   },
   "outputs": [],
   "source": [
    "import os\n",
    "import sys\n",
    "import pandas as pd\n",
    "from pyspark import SparkConf, SparkContext\n",
    "from pyspark.sql import SparkSession, SQLContext\n",
    "\n",
    "from pyspark.sql.types import *\n",
    "import pyspark.sql.functions as F\n",
    "from pyspark.sql.functions import udf, col\n",
    "\n",
    "from pyspark.ml.feature import StringIndexer, OneHotEncoder\n",
    "from pyspark.ml import Pipeline\n",
    "\n",
    "\n",
    "#temporary fix for running pyspark in jupyter notebook\n",
    "os.environ['PYSPARK_PYTHON'] = sys.executable\n",
    "os.environ['PYSPARK_DRIVER_PYTHON'] = sys.executable"
   ]
  },
  {
   "cell_type": "code",
   "execution_count": 2,
   "metadata": {
    "ExecuteTime": {
     "end_time": "2024-12-16T06:47:26.429921Z",
     "start_time": "2024-12-16T06:47:26.391362Z"
    }
   },
   "outputs": [
    {
     "name": "stderr",
     "output_type": "stream",
     "text": [
      "24/12/16 11:49:06 WARN Utils: Your hostname, Seans-MacBook-Pro.local resolves to a loopback address: 127.0.0.1; using 10.0.0.158 instead (on interface en0)\n",
      "24/12/16 11:49:06 WARN Utils: Set SPARK_LOCAL_IP if you need to bind to another address\n",
      "Setting default log level to \"WARN\".\n",
      "To adjust logging level use sc.setLogLevel(newLevel). For SparkR, use setLogLevel(newLevel).\n",
      "24/12/16 11:49:07 WARN NativeCodeLoader: Unable to load native-hadoop library for your platform... using builtin-java classes where applicable\n",
      "24/12/16 11:49:08 WARN Utils: Service 'SparkUI' could not bind on port 4040. Attempting port 4041.\n",
      "/Users/seantan88/anaconda3/lib/python3.11/site-packages/pyspark/sql/context.py:113: FutureWarning: Deprecated in 3.0.0. Use SparkSession.builder.getOrCreate() instead.\n",
      "  warnings.warn(\n"
     ]
    }
   ],
   "source": [
    "# initialize spark session\n",
    "spark = SparkSession.builder.master(\"local[2]\").appName(\"Victim-Records\").getOrCreate()\n",
    "\n",
    "sc = spark.sparkContext\n",
    "\n",
    "sqlContext = SQLContext(sc)\n"
   ]
  },
  {
   "cell_type": "code",
   "execution_count": 3,
   "metadata": {
    "ExecuteTime": {
     "end_time": "2024-12-16T06:47:31.407331Z",
     "start_time": "2024-12-16T06:47:30.840249Z"
    }
   },
   "outputs": [
    {
     "name": "stderr",
     "output_type": "stream",
     "text": [
      "24/12/16 11:49:50 WARN MemoryStore: Not enough space to cache rdd_3_5 in memory! (computed 59.3 MiB so far)\n",
      "24/12/16 11:49:50 WARN BlockManager: Persisting block rdd_3_5 to disk instead.\n",
      "24/12/16 11:49:53 WARN MemoryStore: Not enough space to cache rdd_3_6 in memory! (computed 14.7 MiB so far)\n",
      "24/12/16 11:49:53 WARN BlockManager: Persisting block rdd_3_6 to disk instead.\n",
      "24/12/16 11:49:55 WARN MemoryStore: Not enough space to cache rdd_3_7 in memory! (computed 25.4 MiB so far)\n",
      "24/12/16 11:49:55 WARN BlockManager: Persisting block rdd_3_7 to disk instead.\n",
      "24/12/16 11:50:00 WARN MemoryStore: Not enough space to cache rdd_3_7 in memory! (computed 25.4 MiB so far)\n",
      "24/12/16 11:50:00 WARN MemoryStore: Not enough space to cache rdd_3_6 in memory! (computed 25.4 MiB so far)\n",
      "24/12/16 11:50:02 WARN MemoryStore: Not enough space to cache rdd_3_9 in memory! (computed 14.7 MiB so far)\n",
      "24/12/16 11:50:02 WARN MemoryStore: Not enough space to cache rdd_3_8 in memory! (computed 14.9 MiB so far)\n",
      "24/12/16 11:50:02 WARN BlockManager: Persisting block rdd_3_9 to disk instead.\n",
      "24/12/16 11:50:02 WARN BlockManager: Persisting block rdd_3_8 to disk instead.\n",
      "24/12/16 11:50:07 WARN MemoryStore: Not enough space to cache rdd_3_9 in memory! (computed 25.4 MiB so far)\n",
      "24/12/16 11:50:07 WARN MemoryStore: Not enough space to cache rdd_3_8 in memory! (computed 14.9 MiB so far)\n",
      "24/12/16 11:50:10 WARN MemoryStore: Not enough space to cache rdd_3_10 in memory! (computed 25.4 MiB so far)\n",
      "24/12/16 11:50:10 WARN BlockManager: Persisting block rdd_3_10 to disk instead.\n",
      "24/12/16 11:50:12 WARN MemoryStore: Not enough space to cache rdd_3_10 in memory! (computed 25.4 MiB so far)\n",
      "                                                                                \r"
     ]
    },
    {
     "data": {
      "text/plain": [
       "[Row(CASE_ID=' 097293', PARTY_NUMBER=1, VICTIM_ROLE='2', VICTIM_SEX='M', VICTIM_AGE=20, VICTIM_DEGREE_OF_INJURY='0', VICTIM_SEATING_POSITION='3', VICTIM_SAFETY_EQUIP1='G', VICTIM_SAFETY_EQUIP2='-', VICTIM_EJECTED='0'),\n",
       " Row(CASE_ID=' 965874', PARTY_NUMBER=2, VICTIM_ROLE='2', VICTIM_SEX='M', VICTIM_AGE=19, VICTIM_DEGREE_OF_INJURY='0', VICTIM_SEATING_POSITION='3', VICTIM_SAFETY_EQUIP1='M', VICTIM_SAFETY_EQUIP2='G', VICTIM_EJECTED='0'),\n",
       " Row(CASE_ID='0000003', PARTY_NUMBER=1, VICTIM_ROLE='2', VICTIM_SEX='M', VICTIM_AGE=21, VICTIM_DEGREE_OF_INJURY='0', VICTIM_SEATING_POSITION='3', VICTIM_SAFETY_EQUIP1='G', VICTIM_SAFETY_EQUIP2='-', VICTIM_EJECTED='0'),\n",
       " Row(CASE_ID='0000005', PARTY_NUMBER=1, VICTIM_ROLE='1', VICTIM_SEX='M', VICTIM_AGE=44, VICTIM_DEGREE_OF_INJURY='2', VICTIM_SEATING_POSITION='1', VICTIM_SAFETY_EQUIP1='G', VICTIM_SAFETY_EQUIP2='-', VICTIM_EJECTED='0'),\n",
       " Row(CASE_ID='0000008', PARTY_NUMBER=1, VICTIM_ROLE='2', VICTIM_SEX='F', VICTIM_AGE=59, VICTIM_DEGREE_OF_INJURY='0', VICTIM_SEATING_POSITION='3', VICTIM_SAFETY_EQUIP1='G', VICTIM_SAFETY_EQUIP2='-', VICTIM_EJECTED='0')]"
      ]
     },
     "execution_count": 3,
     "metadata": {},
     "output_type": "execute_result"
    }
   ],
   "source": [
    "# define the path to the data\n",
    "\n",
    "VictimRecords = ['20160924_VictimRecords.txt','20170112_VictimRecords.txt','20180925_VictimRecords.txt', '20201024_VictimRecords.txt']\n",
    "# define the schema\n",
    "schema = StructType([\n",
    "    StructField('CASE_ID', StringType(), True),\n",
    "    StructField('PARTY_NUMBER', IntegerType(), True),\n",
    "    StructField('VICTIM_ROLE', StringType(), True),\n",
    "    StructField('VICTIM_SEX', StringType(), True),\n",
    "    StructField('VICTIM_AGE', IntegerType(), True),\n",
    "    StructField('VICTIM_DEGREE_OF_INJURY', StringType(), True),\n",
    "    StructField('VICTIM_SEATING_POSITION', StringType(), True),\n",
    "    StructField('VICTIM_SAFETY_EQUIP1', StringType(), True),\n",
    "    StructField('VICTIM_SAFETY_EQUIP2', StringType(), True),\n",
    "    StructField('VICTIM_EJECTED', StringType(), True),\n",
    "])\n",
    "\n",
    "\n",
    "# load the data, skip header\n",
    "victim_df = spark.read.csv(path = VictimRecords, schema = schema).cache()\n",
    "header = victim_df.first()\n",
    "victim_df = victim_df.filter(col(\"CASE_ID\") != header[\"CASE_ID\"])\n",
    "victim_df.take(5)\n",
    "\n",
    "#### Debug: Reduce dataset for testing ####\n",
    "#victim_df = victim_df.limit(10)\n",
    "\n",
    "\n"
   ]
  },
  {
   "cell_type": "code",
   "execution_count": 4,
   "metadata": {
    "ExecuteTime": {
     "end_time": "2024-12-16T06:47:42.632345Z",
     "start_time": "2024-12-16T06:47:42.628802Z"
    }
   },
   "outputs": [
    {
     "data": {
      "text/plain": [
       "['CASE_ID',\n",
       " 'PARTY_NUMBER',\n",
       " 'VICTIM_ROLE',\n",
       " 'VICTIM_SEX',\n",
       " 'VICTIM_AGE',\n",
       " 'VICTIM_DEGREE_OF_INJURY',\n",
       " 'VICTIM_SEATING_POSITION',\n",
       " 'VICTIM_SAFETY_EQUIP1',\n",
       " 'VICTIM_SAFETY_EQUIP2',\n",
       " 'VICTIM_EJECTED']"
      ]
     },
     "execution_count": 4,
     "metadata": {},
     "output_type": "execute_result"
    }
   ],
   "source": [
    "victim_df.columns\n"
   ]
  },
  {
   "cell_type": "code",
   "execution_count": 5,
   "metadata": {
    "ExecuteTime": {
     "end_time": "2024-12-16T06:47:45.167501Z",
     "start_time": "2024-12-16T06:47:45.164097Z"
    }
   },
   "outputs": [
    {
     "name": "stdout",
     "output_type": "stream",
     "text": [
      "root\n",
      " |-- CASE_ID: string (nullable = true)\n",
      " |-- PARTY_NUMBER: integer (nullable = true)\n",
      " |-- VICTIM_ROLE: string (nullable = true)\n",
      " |-- VICTIM_SEX: string (nullable = true)\n",
      " |-- VICTIM_AGE: integer (nullable = true)\n",
      " |-- VICTIM_DEGREE_OF_INJURY: string (nullable = true)\n",
      " |-- VICTIM_SEATING_POSITION: string (nullable = true)\n",
      " |-- VICTIM_SAFETY_EQUIP1: string (nullable = true)\n",
      " |-- VICTIM_SAFETY_EQUIP2: string (nullable = true)\n",
      " |-- VICTIM_EJECTED: string (nullable = true)\n",
      "\n"
     ]
    }
   ],
   "source": [
    "victim_df.printSchema()"
   ]
  },
  {
   "cell_type": "code",
   "execution_count": 6,
   "metadata": {
    "ExecuteTime": {
     "end_time": "2024-12-16T06:48:34.882669Z",
     "start_time": "2024-12-16T06:47:46.924192Z"
    }
   },
   "outputs": [
    {
     "name": "stderr",
     "output_type": "stream",
     "text": [
      "24/12/16 11:50:14 WARN SparkStringUtils: Truncated the string representation of a plan since it was too large. This behavior can be adjusted by setting 'spark.sql.debug.maxToStringFields'.\n",
      "24/12/16 11:51:45 WARN MemoryStore: Not enough space to cache rdd_3_6 in memory! (computed 25.4 MiB so far)\n",
      "24/12/16 11:51:47 WARN MemoryStore: Not enough space to cache rdd_3_7 in memory! (computed 7.5 MiB so far)\n",
      "24/12/16 11:52:12 WARN MemoryStore: Not enough space to cache rdd_3_8 in memory! (computed 22.3 MiB so far)\n",
      "24/12/16 11:52:13 WARN MemoryStore: Not enough space to cache rdd_3_9 in memory! (computed 3.9 MiB so far)\n",
      "24/12/16 11:52:33 WARN MemoryStore: Not enough space to cache rdd_3_10 in memory! (computed 25.4 MiB so far)\n",
      "                                                                                \r"
     ]
    },
    {
     "name": "stdout",
     "output_type": "stream",
     "text": [
      "+-------+--------------------+------------------+------------------+------------------+------------------+-----------------------+-----------------------+--------------------+--------------------+------------------+\n",
      "|summary|             CASE_ID|      PARTY_NUMBER|       VICTIM_ROLE|        VICTIM_SEX|        VICTIM_AGE|VICTIM_DEGREE_OF_INJURY|VICTIM_SEATING_POSITION|VICTIM_SAFETY_EQUIP1|VICTIM_SAFETY_EQUIP2|    VICTIM_EJECTED|\n",
      "+-------+--------------------+------------------+------------------+------------------+------------------+-----------------------+-----------------------+--------------------+--------------------+------------------+\n",
      "|  count|            30396065|          30396065|          30396065|          30396065|          30396065|               30396065|               30396065|            30396065|            28568078|          30396065|\n",
      "|   mean|3.570956518533931...|1.6305697464457982|1.8703510818017473|3.5555555555555554| 63.75028152492765|     1.9722526757425833|      3.141793446268731|  1.3076923076923077|                 0.0|0.2567279775842339|\n",
      "| stddev|1.646611424882074...|0.7167247345735308| 0.957572373373312|0.7893370379638581|176.53926843148997|     1.9364098389238502|      2.257020307901175|  1.4366984945013914|                 0.0|0.7967817088310342|\n",
      "|    min|              097293|                 1|                  |                  |                 0|                       |                       |                    |                    |                  |\n",
      "|    max| 9870011231152508671|                89|                 m|                 X|               999|                      M|                      p|                   Z|                   Z|                 y|\n",
      "+-------+--------------------+------------------+------------------+------------------+------------------+-----------------------+-----------------------+--------------------+--------------------+------------------+\n",
      "\n"
     ]
    }
   ],
   "source": [
    "victim_df.describe().show()"
   ]
  },
  {
   "cell_type": "code",
   "execution_count": 7,
   "metadata": {
    "ExecuteTime": {
     "end_time": "2024-12-16T06:48:38.246896Z",
     "start_time": "2024-12-16T06:48:36.558649Z"
    }
   },
   "outputs": [
    {
     "name": "stderr",
     "output_type": "stream",
     "text": [
      "24/12/16 11:52:54 WARN MemoryStore: Not enough space to cache rdd_3_7 in memory! (computed 14.7 MiB so far)\n",
      "24/12/16 11:52:54 WARN MemoryStore: Not enough space to cache rdd_3_6 in memory! (computed 14.7 MiB so far)\n",
      "24/12/16 11:52:54 WARN MemoryStore: Not enough space to cache rdd_3_9 in memory! (computed 3.9 MiB so far)\n",
      "24/12/16 11:52:54 WARN MemoryStore: Not enough space to cache rdd_3_8 in memory! (computed 22.3 MiB so far)\n",
      "24/12/16 11:52:54 WARN MemoryStore: Not enough space to cache rdd_3_10 in memory! (computed 25.4 MiB so far)\n",
      "                                                                                \r"
     ]
    },
    {
     "data": {
      "text/plain": [
       "217309"
      ]
     },
     "execution_count": 7,
     "metadata": {},
     "output_type": "execute_result"
    }
   ],
   "source": [
    "victim_df.filter(victim_df.VICTIM_AGE == 0).count()"
   ]
  },
  {
   "cell_type": "code",
   "execution_count": 8,
   "metadata": {
    "ExecuteTime": {
     "end_time": "2024-12-16T06:49:33.660850Z",
     "start_time": "2024-12-16T06:48:47.862512Z"
    }
   },
   "outputs": [
    {
     "name": "stderr",
     "output_type": "stream",
     "text": [
      "24/12/16 11:54:19 WARN MemoryStore: Not enough space to cache rdd_3_6 in memory! (computed 25.4 MiB so far)\n",
      "24/12/16 11:54:21 WARN MemoryStore: Not enough space to cache rdd_3_7 in memory! (computed 7.5 MiB so far)\n",
      "24/12/16 11:54:43 WARN MemoryStore: Not enough space to cache rdd_3_8 in memory! (computed 22.3 MiB so far)\n",
      "24/12/16 11:54:44 WARN MemoryStore: Not enough space to cache rdd_3_9 in memory! (computed 3.9 MiB so far)\n",
      "24/12/16 11:55:02 WARN MemoryStore: Not enough space to cache rdd_3_10 in memory! (computed 25.4 MiB so far)\n",
      "[Stage 9:===================================================>     (10 + 1) / 11]\r"
     ]
    },
    {
     "name": "stdout",
     "output_type": "stream",
     "text": [
      "+-------+--------------------+------------------+------------------+------------------+------------------+-----------------------+-----------------------+--------------------+--------------------+-------------------+\n",
      "|summary|             CASE_ID|      PARTY_NUMBER|       VICTIM_ROLE|        VICTIM_SEX|        VICTIM_AGE|VICTIM_DEGREE_OF_INJURY|VICTIM_SEATING_POSITION|VICTIM_SAFETY_EQUIP1|VICTIM_SAFETY_EQUIP2|     VICTIM_EJECTED|\n",
      "+-------+--------------------+------------------+------------------+------------------+------------------+-----------------------+-----------------------+--------------------+--------------------+-------------------+\n",
      "|  count|            29360479|          29360479|          29360479|          29360479|          29360479|               29360479|               29360479|            29360479|            27573502|           29360479|\n",
      "|   mean|3.624734272311125...|1.6304027260590674|1.8611631661828245|3.5619047619047617|30.780437471745607|      2.009398080677406|     3.0948206606187068|  1.3076923076923077|                 0.0|0.24980133333251373|\n",
      "| stddev|1.659821578431923...|0.7165255248660448|0.9631595201207545|0.7835300976474446| 19.42696535247053|      1.935397714389524|     2.2393563185620704|  1.4366984945013914|                 0.0|  0.784566839594071|\n",
      "|    min|              097293|                 1|                  |                  |                 0|                       |                       |                    |                    |                   |\n",
      "|    max| 9870011231152508671|                89|                 m|                 X|               125|                      M|                      p|                   Z|                   Z|                  y|\n",
      "+-------+--------------------+------------------+------------------+------------------+------------------+-----------------------+-----------------------+--------------------+--------------------+-------------------+\n",
      "\n"
     ]
    },
    {
     "name": "stderr",
     "output_type": "stream",
     "text": [
      "                                                                                \r"
     ]
    }
   ],
   "source": [
    "\n",
    "# filter out unknown ages (998)\n",
    "victim_df = victim_df.filter(victim_df.VICTIM_AGE != 998)\n",
    "\n",
    "# change all 999 age instances to 0\n",
    "victim_df = victim_df.withColumn('VICTIM_AGE', F.when(victim_df.VICTIM_AGE == 999, 0).otherwise(victim_df.VICTIM_AGE))\n",
    "\n",
    "\n",
    "victim_df.describe().show()\n",
    "\n",
    "\n",
    "\n",
    "\n",
    "\n",
    "\n"
   ]
  },
  {
   "cell_type": "code",
   "execution_count": 9,
   "metadata": {
    "ExecuteTime": {
     "end_time": "2024-12-16T06:49:57.786901Z",
     "start_time": "2024-12-16T06:49:57.179958Z"
    }
   },
   "outputs": [
    {
     "name": "stderr",
     "output_type": "stream",
     "text": [
      "24/12/16 11:55:21 WARN MemoryStore: Not enough space to cache rdd_3_6 in memory! (computed 14.7 MiB so far)\n",
      "24/12/16 11:55:21 WARN MemoryStore: Not enough space to cache rdd_3_7 in memory! (computed 14.7 MiB so far)\n",
      "24/12/16 11:55:21 WARN MemoryStore: Not enough space to cache rdd_3_8 in memory! (computed 14.9 MiB so far)\n",
      "24/12/16 11:55:21 WARN MemoryStore: Not enough space to cache rdd_3_9 in memory! (computed 14.7 MiB so far)\n",
      "24/12/16 11:55:22 WARN MemoryStore: Not enough space to cache rdd_3_10 in memory! (computed 25.4 MiB so far)\n",
      "                                                                                \r"
     ]
    },
    {
     "data": {
      "text/plain": [
       "217824"
      ]
     },
     "execution_count": 9,
     "metadata": {},
     "output_type": "execute_result"
    }
   ],
   "source": [
    "victim_df.filter(victim_df.VICTIM_AGE == 0).count()"
   ]
  },
  {
   "cell_type": "code",
   "execution_count": 10,
   "metadata": {
    "ExecuteTime": {
     "end_time": "2024-12-16T06:50:47.452166Z",
     "start_time": "2024-12-16T06:50:47.350177Z"
    }
   },
   "outputs": [
    {
     "data": {
      "text/plain": [
       "[Row(CASE_ID=' 097293', PARTY_NUMBER=1, VICTIM_ROLE='2', VICTIM_SEX='M', VICTIM_AGE=20, VICTIM_DEGREE_OF_INJURY='0', VICTIM_SEATING_POSITION='3', VICTIM_SAFETY_EQUIP1='G', VICTIM_SAFETY_EQUIP2='-', VICTIM_EJECTED='0'),\n",
       " Row(CASE_ID=' 965874', PARTY_NUMBER=2, VICTIM_ROLE='2', VICTIM_SEX='M', VICTIM_AGE=19, VICTIM_DEGREE_OF_INJURY='0', VICTIM_SEATING_POSITION='3', VICTIM_SAFETY_EQUIP1='M', VICTIM_SAFETY_EQUIP2='G', VICTIM_EJECTED='0'),\n",
       " Row(CASE_ID='0000003', PARTY_NUMBER=1, VICTIM_ROLE='2', VICTIM_SEX='M', VICTIM_AGE=21, VICTIM_DEGREE_OF_INJURY='0', VICTIM_SEATING_POSITION='3', VICTIM_SAFETY_EQUIP1='G', VICTIM_SAFETY_EQUIP2='-', VICTIM_EJECTED='0'),\n",
       " Row(CASE_ID='0000005', PARTY_NUMBER=1, VICTIM_ROLE='1', VICTIM_SEX='M', VICTIM_AGE=44, VICTIM_DEGREE_OF_INJURY='2', VICTIM_SEATING_POSITION='1', VICTIM_SAFETY_EQUIP1='G', VICTIM_SAFETY_EQUIP2='-', VICTIM_EJECTED='0'),\n",
       " Row(CASE_ID='0000008', PARTY_NUMBER=1, VICTIM_ROLE='2', VICTIM_SEX='F', VICTIM_AGE=59, VICTIM_DEGREE_OF_INJURY='0', VICTIM_SEATING_POSITION='3', VICTIM_SAFETY_EQUIP1='G', VICTIM_SAFETY_EQUIP2='-', VICTIM_EJECTED='0')]"
      ]
     },
     "execution_count": 10,
     "metadata": {},
     "output_type": "execute_result"
    }
   ],
   "source": [
    "# remove all \"not stated - values\" and null\n",
    "filterCondition = (col(victim_df.columns[0]) != \"-\")\n",
    "filterCondition = filterCondition | (col(victim_df.columns[0]) != None)\n",
    "\n",
    "\n",
    "for c in victim_df.columns[1:]:\n",
    "    filterCondition = filterCondition | (col(c) != \"-\")\n",
    "    filterCondition = filterCondition | (col(c) != None)\n",
    "\n",
    "filtered_df = victim_df.filter(filterCondition)\n",
    "filtered_df.head(5)"
   ]
  },
  {
   "cell_type": "code",
   "execution_count": 11,
   "metadata": {
    "ExecuteTime": {
     "end_time": "2024-12-16T06:50:58.548635Z",
     "start_time": "2024-12-16T06:50:49.849075Z"
    }
   },
   "outputs": [
    {
     "name": "stdout",
     "output_type": "stream",
     "text": [
      "StringIndexer_98d23f3e6c97\n"
     ]
    },
    {
     "name": "stderr",
     "output_type": "stream",
     "text": [
      "24/12/16 11:55:25 WARN MemoryStore: Not enough space to cache rdd_3_6 in memory! (computed 14.7 MiB so far)\n",
      "24/12/16 11:55:25 WARN MemoryStore: Not enough space to cache rdd_3_7 in memory! (computed 14.7 MiB so far)\n",
      "24/12/16 11:55:25 WARN MemoryStore: Not enough space to cache rdd_3_8 in memory! (computed 14.9 MiB so far)\n",
      "24/12/16 11:55:25 WARN MemoryStore: Not enough space to cache rdd_3_9 in memory! (computed 14.7 MiB so far)\n",
      "24/12/16 11:55:26 WARN MemoryStore: Not enough space to cache rdd_3_10 in memory! (computed 25.4 MiB so far)\n",
      "                                                                                \r"
     ]
    },
    {
     "name": "stdout",
     "output_type": "stream",
     "text": [
      "StringIndexer_bd76f85846bf\n"
     ]
    },
    {
     "name": "stderr",
     "output_type": "stream",
     "text": [
      "24/12/16 11:55:29 WARN MemoryStore: Not enough space to cache rdd_3_7 in memory! (computed 14.7 MiB so far)\n",
      "24/12/16 11:55:29 WARN MemoryStore: Not enough space to cache rdd_3_6 in memory! (computed 14.7 MiB so far)\n",
      "24/12/16 11:55:30 WARN MemoryStore: Not enough space to cache rdd_3_8 in memory! (computed 14.9 MiB so far)\n",
      "24/12/16 11:55:30 WARN MemoryStore: Not enough space to cache rdd_3_9 in memory! (computed 14.7 MiB so far)\n",
      "24/12/16 11:55:30 WARN MemoryStore: Not enough space to cache rdd_3_10 in memory! (computed 25.4 MiB so far)\n",
      "                                                                                \r"
     ]
    },
    {
     "name": "stdout",
     "output_type": "stream",
     "text": [
      "StringIndexer_654df9678172\n"
     ]
    },
    {
     "name": "stderr",
     "output_type": "stream",
     "text": [
      "24/12/16 11:55:32 WARN MemoryStore: Not enough space to cache rdd_3_6 in memory! (computed 14.7 MiB so far)\n",
      "24/12/16 11:55:32 WARN MemoryStore: Not enough space to cache rdd_3_7 in memory! (computed 14.7 MiB so far)\n",
      "24/12/16 11:55:33 WARN MemoryStore: Not enough space to cache rdd_3_8 in memory! (computed 14.9 MiB so far)\n",
      "24/12/16 11:55:33 WARN MemoryStore: Not enough space to cache rdd_3_9 in memory! (computed 14.7 MiB so far)\n",
      "24/12/16 11:55:33 WARN MemoryStore: Not enough space to cache rdd_3_10 in memory! (computed 25.4 MiB so far)\n",
      "                                                                                \r"
     ]
    },
    {
     "name": "stdout",
     "output_type": "stream",
     "text": [
      "StringIndexer_3b7610c86801\n"
     ]
    },
    {
     "name": "stderr",
     "output_type": "stream",
     "text": [
      "24/12/16 11:55:36 WARN MemoryStore: Not enough space to cache rdd_3_7 in memory! (computed 14.7 MiB so far)\n",
      "24/12/16 11:55:36 WARN MemoryStore: Not enough space to cache rdd_3_6 in memory! (computed 14.7 MiB so far)\n",
      "24/12/16 11:55:37 WARN MemoryStore: Not enough space to cache rdd_3_8 in memory! (computed 22.3 MiB so far)\n",
      "24/12/16 11:55:37 WARN MemoryStore: Not enough space to cache rdd_3_9 in memory! (computed 3.9 MiB so far)\n",
      "24/12/16 11:55:37 WARN MemoryStore: Not enough space to cache rdd_3_10 in memory! (computed 25.4 MiB so far)\n",
      "                                                                                \r"
     ]
    },
    {
     "name": "stdout",
     "output_type": "stream",
     "text": [
      "StringIndexer_e3c10dab6dd1\n"
     ]
    },
    {
     "name": "stderr",
     "output_type": "stream",
     "text": [
      "24/12/16 11:55:40 WARN MemoryStore: Not enough space to cache rdd_3_6 in memory! (computed 14.7 MiB so far)\n",
      "24/12/16 11:55:40 WARN MemoryStore: Not enough space to cache rdd_3_7 in memory! (computed 14.7 MiB so far)\n",
      "24/12/16 11:55:40 WARN MemoryStore: Not enough space to cache rdd_3_8 in memory! (computed 22.3 MiB so far)\n",
      "24/12/16 11:55:40 WARN MemoryStore: Not enough space to cache rdd_3_9 in memory! (computed 3.9 MiB so far)\n",
      "24/12/16 11:55:41 WARN MemoryStore: Not enough space to cache rdd_3_10 in memory! (computed 25.4 MiB so far)\n",
      "                                                                                \r"
     ]
    },
    {
     "name": "stdout",
     "output_type": "stream",
     "text": [
      "+-------+------------+-----------+----------+----------+-----------------------+-----------------------+--------------------+--------------------+--------------+--------------------+------------------+\n",
      "|CASE_ID|PARTY_NUMBER|VICTIM_ROLE|VICTIM_SEX|VICTIM_AGE|VICTIM_DEGREE_OF_INJURY|VICTIM_SEATING_POSITION|VICTIM_SAFETY_EQUIP1|VICTIM_SAFETY_EQUIP2|VICTIM_EJECTED|VICTIM_EJECTED_index|VICTIM_EJECTED_vec|\n",
      "+-------+------------+-----------+----------+----------+-----------------------+-----------------------+--------------------+--------------------+--------------+--------------------+------------------+\n",
      "| 097293|1           |2          |M         |20        |0                      |3                      |G                   |-                   |0             |0.0                 |(15,[0],[1.0])    |\n",
      "| 965874|2           |2          |M         |19        |0                      |3                      |M                   |G                   |0             |0.0                 |(15,[0],[1.0])    |\n",
      "|0000003|1           |2          |M         |21        |0                      |3                      |G                   |-                   |0             |0.0                 |(15,[0],[1.0])    |\n",
      "|0000005|1           |1          |M         |44        |2                      |1                      |G                   |-                   |0             |0.0                 |(15,[0],[1.0])    |\n",
      "|0000008|1           |2          |F         |59        |0                      |3                      |G                   |-                   |0             |0.0                 |(15,[0],[1.0])    |\n",
      "|0000008|2           |2          |M         |31        |0                      |3                      |G                   |-                   |0             |0.0                 |(15,[0],[1.0])    |\n",
      "|0000009|2           |2          |F         |14        |4                      |6                      |C                   |-                   |0             |0.0                 |(15,[0],[1.0])    |\n",
      "|0000009|2           |2          |F         |39        |0                      |3                      |G                   |-                   |0             |0.0                 |(15,[0],[1.0])    |\n",
      "|0000013|1           |4          |M         |47        |3                      |1                      |V                   |-                   |1             |2.0                 |(15,[2],[1.0])    |\n",
      "|0000014|2           |1          |F         |26        |3                      |1                      |G                   |-                   |0             |0.0                 |(15,[0],[1.0])    |\n",
      "|0000014|3           |1          |M         |40        |4                      |1                      |G                   |-                   |0             |0.0                 |(15,[0],[1.0])    |\n",
      "|0000015|1           |2          |F         |8         |0                      |3                      |G                   |-                   |0             |0.0                 |(15,[0],[1.0])    |\n",
      "|0000015|2           |2          |F         |59        |0                      |3                      |G                   |-                   |0             |0.0                 |(15,[0],[1.0])    |\n",
      "|0000016|1           |1          |F         |20        |4                      |1                      |L                   |-                   |0             |0.0                 |(15,[0],[1.0])    |\n",
      "|0000017|1           |2          |F         |38        |0                      |3                      |G                   |-                   |0             |0.0                 |(15,[0],[1.0])    |\n",
      "|0000017|2           |2          |F         |17        |0                      |2                      |C                   |-                   |0             |0.0                 |(15,[0],[1.0])    |\n",
      "|0000020|1           |2          |M         |21        |0                      |3                      |G                   |-                   |0             |0.0                 |(15,[0],[1.0])    |\n",
      "|0000020|1           |1          |F         |19        |4                      |1                      |G                   |-                   |0             |0.0                 |(15,[0],[1.0])    |\n",
      "|0000023|1           |2          |M         |16        |0                      |3                      |G                   |-                   |0             |0.0                 |(15,[0],[1.0])    |\n",
      "|0000023|1           |2          |M         |13        |4                      |0                      |N                   |-                   |1             |2.0                 |(15,[2],[1.0])    |\n",
      "+-------+------------+-----------+----------+----------+-----------------------+-----------------------+--------------------+--------------------+--------------+--------------------+------------------+\n",
      "only showing top 20 rows\n",
      "\n"
     ]
    }
   ],
   "source": [
    "\n",
    "encoded_and_index = [\"VICTIM_SEX\",\"VICTIM_DEGREE_OF_INJURY\",\"VICTIM_SEATING_POSITION\",\"VICTIM_SAFETY_EQUIP2\",\"VICTIM_EJECTED\"]\n",
    "\n",
    "indexers = [StringIndexer(inputCol=c, outputCol=c+\"_index\") for c in encoded_and_index]\n",
    "encoders = [OneHotEncoder(inputCol=c+\"_index\", outputCol=c+\"_vec\") for c in encoded_and_index]\n",
    "\n",
    "filtered_df2 = filtered_df\n",
    "\n",
    "for col_name in encoded_and_index:\n",
    "    \n",
    "    indexer = StringIndexer(inputCol=col_name, outputCol=col_name + \"_index\")\n",
    "    print(indexer)\n",
    "    indexedDf = indexer.fit(victim_df).transform(victim_df)\n",
    "   \n",
    "    encoder = OneHotEncoder(inputCol=col_name + \"_index\", outputCol=col_name + \"_vec\")\n",
    "    encoded_df = encoder.fit(indexedDf).transform(indexedDf)\n",
    "\n",
    "encoded_df.show(truncate=False)"
   ]
  },
  {
   "cell_type": "code",
   "execution_count": 12,
   "metadata": {
    "ExecuteTime": {
     "end_time": "2024-12-16T06:55:19.179226Z",
     "start_time": "2024-12-16T06:55:11.954631Z"
    }
   },
   "outputs": [
    {
     "name": "stderr",
     "output_type": "stream",
     "text": [
      "24/12/16 11:55:53 WARN MemoryStore: Not enough space to cache rdd_3_7 in memory! (computed 14.7 MiB so far)\n",
      "24/12/16 11:55:53 WARN MemoryStore: Not enough space to cache rdd_3_6 in memory! (computed 14.7 MiB so far)\n",
      "24/12/16 11:55:56 WARN MemoryStore: Not enough space to cache rdd_3_8 in memory! (computed 22.3 MiB so far)\n",
      "24/12/16 11:55:56 WARN MemoryStore: Not enough space to cache rdd_3_9 in memory! (computed 3.9 MiB so far)\n",
      "24/12/16 11:55:59 WARN MemoryStore: Not enough space to cache rdd_3_10 in memory! (computed 25.4 MiB so far)\n",
      "[Stage 32:==================================================>     (10 + 1) / 11]\r"
     ]
    },
    {
     "name": "stdout",
     "output_type": "stream",
     "text": [
      "Victim Records saved successfully\n"
     ]
    },
    {
     "name": "stderr",
     "output_type": "stream",
     "text": [
      "                                                                                \r"
     ]
    }
   ],
   "source": [
    "# Save the cleaned Victim Records DataFrame as CSV\n",
    "filtered_df2.write.csv(\"clean_victim_records.csv\", header=True, mode=\"overwrite\")\n",
    "print(\"Victim Records saved successfully\")"
   ]
  }
 ],
 "metadata": {
  "kernelspec": {
   "display_name": "Python 3",
   "language": "python",
   "name": "python3"
  },
  "language_info": {
   "codemirror_mode": {
    "name": "ipython",
    "version": 3
   },
   "file_extension": ".py",
   "mimetype": "text/x-python",
   "name": "python",
   "nbconvert_exporter": "python",
   "pygments_lexer": "ipython3",
   "version": "3.11.5"
  }
 },
 "nbformat": 4,
 "nbformat_minor": 2
}
