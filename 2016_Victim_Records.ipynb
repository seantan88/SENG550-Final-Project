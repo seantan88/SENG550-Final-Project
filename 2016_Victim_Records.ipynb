{
 "cells": [
  {
   "cell_type": "code",
   "execution_count": 1,
   "metadata": {},
   "outputs": [],
   "source": [
    "import os\n",
    "import sys\n",
    "import pandas as pd\n",
    "from pyspark import SparkConf, SparkContext\n",
    "from pyspark.sql import SparkSession, SQLContext\n",
    "\n",
    "from pyspark.sql.types import *\n",
    "import pyspark.sql.functions as F\n",
    "from pyspark.sql.functions import udf, col\n",
    "\n",
    "from pyspark.ml.feature import StringIndexer, OneHotEncoder\n",
    "from pyspark.ml import Pipeline\n",
    "\n",
    "\n",
    "#temporary fix for running pyspark in jupyter notebook\n",
    "os.environ['PYSPARK_PYTHON'] = sys.executable\n",
    "os.environ['PYSPARK_DRIVER_PYTHON'] = sys.executable"
   ]
  },
  {
   "cell_type": "code",
   "execution_count": 2,
   "metadata": {},
   "outputs": [
    {
     "name": "stderr",
     "output_type": "stream",
     "text": [
      "Setting default log level to \"WARN\".\n",
      "To adjust logging level use sc.setLogLevel(newLevel). For SparkR, use setLogLevel(newLevel).\n",
      "24/12/15 22:28:48 WARN NativeCodeLoader: Unable to load native-hadoop library for your platform... using builtin-java classes where applicable\n",
      "24/12/15 22:28:49 WARN Utils: Service 'SparkUI' could not bind on port 4040. Attempting port 4041.\n",
      "/Users/seantan88/anaconda3/lib/python3.11/site-packages/pyspark/sql/context.py:113: FutureWarning: Deprecated in 3.0.0. Use SparkSession.builder.getOrCreate() instead.\n",
      "  warnings.warn(\n"
     ]
    }
   ],
   "source": [
    "# initialize spark session\n",
    "spark = SparkSession.builder.master(\"local[2]\").appName(\"Victim-Records\").getOrCreate()\n",
    "\n",
    "sc = spark.sparkContext\n",
    "\n",
    "sqlContext = SQLContext(sc)\n"
   ]
  },
  {
   "cell_type": "code",
   "execution_count": 3,
   "metadata": {},
   "outputs": [
    {
     "name": "stderr",
     "output_type": "stream",
     "text": [
      "24/12/15 22:29:16 WARN MemoryStore: Not enough space to cache rdd_3_5 in memory! (computed 59.3 MiB so far)\n",
      "24/12/15 22:29:16 WARN BlockManager: Persisting block rdd_3_5 to disk instead.\n",
      "24/12/15 22:29:18 WARN MemoryStore: Not enough space to cache rdd_3_6 in memory! (computed 14.7 MiB so far)\n",
      "24/12/15 22:29:18 WARN BlockManager: Persisting block rdd_3_6 to disk instead.\n",
      "24/12/15 22:29:19 WARN MemoryStore: Not enough space to cache rdd_3_7 in memory! (computed 25.4 MiB so far)\n",
      "24/12/15 22:29:19 WARN BlockManager: Persisting block rdd_3_7 to disk instead.\n",
      "24/12/15 22:29:24 WARN MemoryStore: Not enough space to cache rdd_3_7 in memory! (computed 25.4 MiB so far)\n",
      "24/12/15 22:29:24 WARN MemoryStore: Not enough space to cache rdd_3_6 in memory! (computed 25.4 MiB so far)\n",
      "24/12/15 22:29:26 WARN MemoryStore: Not enough space to cache rdd_3_8 in memory! (computed 14.9 MiB so far)\n",
      "24/12/15 22:29:26 WARN BlockManager: Persisting block rdd_3_8 to disk instead.\n",
      "24/12/15 22:29:27 WARN MemoryStore: Not enough space to cache rdd_3_9 in memory! (computed 25.4 MiB so far)\n",
      "24/12/15 22:29:27 WARN BlockManager: Persisting block rdd_3_9 to disk instead.\n",
      "24/12/15 22:29:30 WARN MemoryStore: Not enough space to cache rdd_3_9 in memory! (computed 25.4 MiB so far)\n",
      "24/12/15 22:29:30 WARN MemoryStore: Not enough space to cache rdd_3_8 in memory! (computed 22.3 MiB so far)\n",
      "24/12/15 22:29:33 WARN MemoryStore: Not enough space to cache rdd_3_10 in memory! (computed 25.4 MiB so far)\n",
      "24/12/15 22:29:33 WARN BlockManager: Persisting block rdd_3_10 to disk instead.\n",
      "24/12/15 22:29:35 WARN MemoryStore: Not enough space to cache rdd_3_10 in memory! (computed 25.4 MiB so far)\n",
      "                                                                                \r"
     ]
    },
    {
     "data": {
      "text/plain": [
       "[Row(CASE_ID=' 097293', PARTY_NUMBER=1, VICTIM_ROLE='2', VICTIM_SEX='M', VICTIM_AGE=20, VICTIM_DEGREE_OF_INJURY='0', VICTIM_SEATING_POSITION='3', VICTIM_SAFETY_EQUIP1='G', VICTIM_SAFETY_EQUIP2='-', VICTIM_EJECTED='0'),\n",
       " Row(CASE_ID=' 965874', PARTY_NUMBER=2, VICTIM_ROLE='2', VICTIM_SEX='M', VICTIM_AGE=19, VICTIM_DEGREE_OF_INJURY='0', VICTIM_SEATING_POSITION='3', VICTIM_SAFETY_EQUIP1='M', VICTIM_SAFETY_EQUIP2='G', VICTIM_EJECTED='0'),\n",
       " Row(CASE_ID='0000003', PARTY_NUMBER=1, VICTIM_ROLE='2', VICTIM_SEX='M', VICTIM_AGE=21, VICTIM_DEGREE_OF_INJURY='0', VICTIM_SEATING_POSITION='3', VICTIM_SAFETY_EQUIP1='G', VICTIM_SAFETY_EQUIP2='-', VICTIM_EJECTED='0'),\n",
       " Row(CASE_ID='0000005', PARTY_NUMBER=1, VICTIM_ROLE='1', VICTIM_SEX='M', VICTIM_AGE=44, VICTIM_DEGREE_OF_INJURY='2', VICTIM_SEATING_POSITION='1', VICTIM_SAFETY_EQUIP1='G', VICTIM_SAFETY_EQUIP2='-', VICTIM_EJECTED='0'),\n",
       " Row(CASE_ID='0000008', PARTY_NUMBER=1, VICTIM_ROLE='2', VICTIM_SEX='F', VICTIM_AGE=59, VICTIM_DEGREE_OF_INJURY='0', VICTIM_SEATING_POSITION='3', VICTIM_SAFETY_EQUIP1='G', VICTIM_SAFETY_EQUIP2='-', VICTIM_EJECTED='0')]"
      ]
     },
     "execution_count": 3,
     "metadata": {},
     "output_type": "execute_result"
    }
   ],
   "source": [
    "# define the path to the data\n",
    "\n",
    "VictimRecords = ['20160924_VictimRecords.txt','20170112_VictimRecords.txt','20180925_VictimRecords.txt', '20201024_VictimRecords.txt']\n",
    "# define the schema\n",
    "schema = StructType([\n",
    "    StructField('CASE_ID', StringType(), True),\n",
    "    StructField('PARTY_NUMBER', IntegerType(), True),\n",
    "    StructField('VICTIM_ROLE', StringType(), True),\n",
    "    StructField('VICTIM_SEX', StringType(), True),\n",
    "    StructField('VICTIM_AGE', IntegerType(), True),\n",
    "    StructField('VICTIM_DEGREE_OF_INJURY', StringType(), True),\n",
    "    StructField('VICTIM_SEATING_POSITION', StringType(), True),\n",
    "    StructField('VICTIM_SAFETY_EQUIP1', StringType(), True),\n",
    "    StructField('VICTIM_SAFETY_EQUIP2', StringType(), True),\n",
    "    StructField('VICTIM_EJECTED', StringType(), True),\n",
    "])\n",
    "\n",
    "\n",
    "# load the data, skip header\n",
    "victim_df = spark.read.csv(path = VictimRecords, schema = schema).cache()\n",
    "header = victim_df.first()\n",
    "victim_df = victim_df.filter(col(\"CASE_ID\") != header[\"CASE_ID\"])\n",
    "victim_df.take(5)\n",
    "\n",
    "\n"
   ]
  },
  {
   "cell_type": "code",
   "execution_count": 4,
   "metadata": {},
   "outputs": [
    {
     "data": {
      "text/plain": [
       "['CASE_ID',\n",
       " 'PARTY_NUMBER',\n",
       " 'VICTIM_ROLE',\n",
       " 'VICTIM_SEX',\n",
       " 'VICTIM_AGE',\n",
       " 'VICTIM_DEGREE_OF_INJURY',\n",
       " 'VICTIM_SEATING_POSITION',\n",
       " 'VICTIM_SAFETY_EQUIP1',\n",
       " 'VICTIM_SAFETY_EQUIP2',\n",
       " 'VICTIM_EJECTED']"
      ]
     },
     "execution_count": 4,
     "metadata": {},
     "output_type": "execute_result"
    }
   ],
   "source": [
    "victim_df.columns\n"
   ]
  },
  {
   "cell_type": "code",
   "execution_count": 5,
   "metadata": {},
   "outputs": [
    {
     "name": "stdout",
     "output_type": "stream",
     "text": [
      "root\n",
      " |-- CASE_ID: string (nullable = true)\n",
      " |-- PARTY_NUMBER: integer (nullable = true)\n",
      " |-- VICTIM_ROLE: string (nullable = true)\n",
      " |-- VICTIM_SEX: string (nullable = true)\n",
      " |-- VICTIM_AGE: integer (nullable = true)\n",
      " |-- VICTIM_DEGREE_OF_INJURY: string (nullable = true)\n",
      " |-- VICTIM_SEATING_POSITION: string (nullable = true)\n",
      " |-- VICTIM_SAFETY_EQUIP1: string (nullable = true)\n",
      " |-- VICTIM_SAFETY_EQUIP2: string (nullable = true)\n",
      " |-- VICTIM_EJECTED: string (nullable = true)\n",
      "\n"
     ]
    }
   ],
   "source": [
    "victim_df.printSchema()"
   ]
  },
  {
   "cell_type": "code",
   "execution_count": 6,
   "metadata": {},
   "outputs": [
    {
     "name": "stderr",
     "output_type": "stream",
     "text": [
      "24/12/15 22:29:36 WARN SparkStringUtils: Truncated the string representation of a plan since it was too large. This behavior can be adjusted by setting 'spark.sql.debug.maxToStringFields'.\n",
      "24/12/15 22:30:45 WARN MemoryStore: Not enough space to cache rdd_3_6 in memory! (computed 25.4 MiB so far)\n",
      "24/12/15 22:30:47 WARN MemoryStore: Not enough space to cache rdd_3_7 in memory! (computed 7.5 MiB so far)\n",
      "24/12/15 22:31:06 WARN MemoryStore: Not enough space to cache rdd_3_8 in memory! (computed 22.3 MiB so far)\n",
      "24/12/15 22:31:08 WARN MemoryStore: Not enough space to cache rdd_3_9 in memory! (computed 3.9 MiB so far)\n",
      "24/12/15 22:31:24 WARN MemoryStore: Not enough space to cache rdd_3_10 in memory! (computed 25.4 MiB so far)\n",
      "                                                                                \r"
     ]
    },
    {
     "name": "stdout",
     "output_type": "stream",
     "text": [
      "+-------+--------------------+------------------+------------------+------------------+------------------+-----------------------+-----------------------+--------------------+--------------------+------------------+\n",
      "|summary|             CASE_ID|      PARTY_NUMBER|       VICTIM_ROLE|        VICTIM_SEX|        VICTIM_AGE|VICTIM_DEGREE_OF_INJURY|VICTIM_SEATING_POSITION|VICTIM_SAFETY_EQUIP1|VICTIM_SAFETY_EQUIP2|    VICTIM_EJECTED|\n",
      "+-------+--------------------+------------------+------------------+------------------+------------------+-----------------------+-----------------------+--------------------+--------------------+------------------+\n",
      "|  count|            30396065|          30396065|          30396065|          30396065|          30396065|               30396065|               30396065|            30396065|            28568078|          30396065|\n",
      "|   mean|3.570956518533931...|1.6305697464457982|1.8703510818017473|3.5555555555555554| 63.75028152492765|     1.9722526757425833|      3.141793446268731|  1.3076923076923077|                 0.0|0.2567279775842339|\n",
      "| stddev|1.646611424882074...|0.7167247345735308| 0.957572373373312|0.7893370379638581|176.53926843148997|     1.9364098389238502|      2.257020307901175|  1.4366984945013914|                 0.0|0.7967817088310342|\n",
      "|    min|              097293|                 1|                  |                  |                 0|                       |                       |                    |                    |                  |\n",
      "|    max| 9870011231152508671|                89|                 m|                 X|               999|                      M|                      p|                   Z|                   Z|                 y|\n",
      "+-------+--------------------+------------------+------------------+------------------+------------------+-----------------------+-----------------------+--------------------+--------------------+------------------+\n",
      "\n"
     ]
    }
   ],
   "source": [
    "victim_df.describe().show()"
   ]
  },
  {
   "cell_type": "code",
   "execution_count": 7,
   "metadata": {},
   "outputs": [
    {
     "name": "stderr",
     "output_type": "stream",
     "text": [
      "24/12/15 22:31:41 WARN MemoryStore: Not enough space to cache rdd_3_7 in memory! (computed 14.7 MiB so far)\n",
      "24/12/15 22:31:41 WARN MemoryStore: Not enough space to cache rdd_3_6 in memory! (computed 14.7 MiB so far)\n",
      "24/12/15 22:31:41 WARN MemoryStore: Not enough space to cache rdd_3_9 in memory! (computed 3.9 MiB so far)\n",
      "24/12/15 22:31:41 WARN MemoryStore: Not enough space to cache rdd_3_8 in memory! (computed 22.3 MiB so far)\n",
      "24/12/15 22:31:41 WARN MemoryStore: Not enough space to cache rdd_3_10 in memory! (computed 25.4 MiB so far)\n",
      "                                                                                \r"
     ]
    },
    {
     "data": {
      "text/plain": [
       "217309"
      ]
     },
     "execution_count": 7,
     "metadata": {},
     "output_type": "execute_result"
    }
   ],
   "source": [
    "victim_df.filter(victim_df.VICTIM_AGE == 0).count()"
   ]
  },
  {
   "cell_type": "code",
   "execution_count": 8,
   "metadata": {},
   "outputs": [
    {
     "name": "stderr",
     "output_type": "stream",
     "text": [
      "24/12/15 22:32:51 WARN MemoryStore: Not enough space to cache rdd_3_6 in memory! (computed 25.4 MiB so far)\n",
      "24/12/15 22:32:52 WARN MemoryStore: Not enough space to cache rdd_3_7 in memory! (computed 7.5 MiB so far)\n",
      "24/12/15 22:33:13 WARN MemoryStore: Not enough space to cache rdd_3_8 in memory! (computed 22.3 MiB so far)\n",
      "24/12/15 22:33:14 WARN MemoryStore: Not enough space to cache rdd_3_9 in memory! (computed 3.9 MiB so far)\n",
      "24/12/15 22:33:29 WARN MemoryStore: Not enough space to cache rdd_3_10 in memory! (computed 25.4 MiB so far)\n",
      "[Stage 9:===================================================>     (10 + 1) / 11]\r"
     ]
    },
    {
     "name": "stdout",
     "output_type": "stream",
     "text": [
      "+-------+--------------------+------------------+------------------+------------------+------------------+-----------------------+-----------------------+--------------------+--------------------+-------------------+\n",
      "|summary|             CASE_ID|      PARTY_NUMBER|       VICTIM_ROLE|        VICTIM_SEX|        VICTIM_AGE|VICTIM_DEGREE_OF_INJURY|VICTIM_SEATING_POSITION|VICTIM_SAFETY_EQUIP1|VICTIM_SAFETY_EQUIP2|     VICTIM_EJECTED|\n",
      "+-------+--------------------+------------------+------------------+------------------+------------------+-----------------------+-----------------------+--------------------+--------------------+-------------------+\n",
      "|  count|            29360479|          29360479|          29360479|          29360479|          29360479|               29360479|               29360479|            29360479|            27573502|           29360479|\n",
      "|   mean|3.624734272311125...|1.6304027260590674|1.8611631661828245|3.5619047619047617|30.780437471745607|      2.009398080677406|     3.0948206606187068|  1.3076923076923077|                 0.0|0.24980133333251373|\n",
      "| stddev|1.659821578431923...|0.7165255248660448|0.9631595201207545|0.7835300976474446| 19.42696535247053|      1.935397714389524|     2.2393563185620704|  1.4366984945013914|                 0.0|  0.784566839594071|\n",
      "|    min|              097293|                 1|                  |                  |                 0|                       |                       |                    |                    |                   |\n",
      "|    max| 9870011231152508671|                89|                 m|                 X|               125|                      M|                      p|                   Z|                   Z|                  y|\n",
      "+-------+--------------------+------------------+------------------+------------------+------------------+-----------------------+-----------------------+--------------------+--------------------+-------------------+\n",
      "\n"
     ]
    },
    {
     "name": "stderr",
     "output_type": "stream",
     "text": [
      "                                                                                \r"
     ]
    }
   ],
   "source": [
    "\n",
    "# filter out unknown ages (998)\n",
    "victim_df = victim_df.filter(victim_df.VICTIM_AGE != 998)\n",
    "\n",
    "# change all 999 age instances to 0\n",
    "victim_df = victim_df.withColumn('VICTIM_AGE', F.when(victim_df.VICTIM_AGE == 999, 0).otherwise(victim_df.VICTIM_AGE))\n",
    "\n",
    "\n",
    "victim_df.describe().show()\n",
    "\n",
    "\n",
    "\n",
    "\n",
    "\n",
    "\n"
   ]
  },
  {
   "cell_type": "code",
   "execution_count": 9,
   "metadata": {},
   "outputs": [
    {
     "name": "stderr",
     "output_type": "stream",
     "text": [
      "24/12/15 22:33:45 WARN MemoryStore: Not enough space to cache rdd_3_6 in memory! (computed 14.7 MiB so far)\n",
      "24/12/15 22:33:45 WARN MemoryStore: Not enough space to cache rdd_3_7 in memory! (computed 14.7 MiB so far)\n",
      "24/12/15 22:33:45 WARN MemoryStore: Not enough space to cache rdd_3_8 in memory! (computed 14.9 MiB so far)\n",
      "24/12/15 22:33:45 WARN MemoryStore: Not enough space to cache rdd_3_9 in memory! (computed 14.7 MiB so far)\n",
      "24/12/15 22:33:45 WARN MemoryStore: Not enough space to cache rdd_3_10 in memory! (computed 25.4 MiB so far)\n",
      "                                                                                \r"
     ]
    },
    {
     "data": {
      "text/plain": [
       "217824"
      ]
     },
     "execution_count": 9,
     "metadata": {},
     "output_type": "execute_result"
    }
   ],
   "source": [
    "victim_df.filter(victim_df.VICTIM_AGE == 0).count()"
   ]
  },
  {
   "cell_type": "code",
   "execution_count": 10,
   "metadata": {},
   "outputs": [
    {
     "data": {
      "text/plain": [
       "[Row(CASE_ID=' 097293', PARTY_NUMBER=1, VICTIM_ROLE='2', VICTIM_SEX='M', VICTIM_AGE=20, VICTIM_DEGREE_OF_INJURY='0', VICTIM_SEATING_POSITION='3', VICTIM_SAFETY_EQUIP1='G', VICTIM_SAFETY_EQUIP2='-', VICTIM_EJECTED='0'),\n",
       " Row(CASE_ID=' 965874', PARTY_NUMBER=2, VICTIM_ROLE='2', VICTIM_SEX='M', VICTIM_AGE=19, VICTIM_DEGREE_OF_INJURY='0', VICTIM_SEATING_POSITION='3', VICTIM_SAFETY_EQUIP1='M', VICTIM_SAFETY_EQUIP2='G', VICTIM_EJECTED='0'),\n",
       " Row(CASE_ID='0000003', PARTY_NUMBER=1, VICTIM_ROLE='2', VICTIM_SEX='M', VICTIM_AGE=21, VICTIM_DEGREE_OF_INJURY='0', VICTIM_SEATING_POSITION='3', VICTIM_SAFETY_EQUIP1='G', VICTIM_SAFETY_EQUIP2='-', VICTIM_EJECTED='0'),\n",
       " Row(CASE_ID='0000005', PARTY_NUMBER=1, VICTIM_ROLE='1', VICTIM_SEX='M', VICTIM_AGE=44, VICTIM_DEGREE_OF_INJURY='2', VICTIM_SEATING_POSITION='1', VICTIM_SAFETY_EQUIP1='G', VICTIM_SAFETY_EQUIP2='-', VICTIM_EJECTED='0'),\n",
       " Row(CASE_ID='0000008', PARTY_NUMBER=1, VICTIM_ROLE='2', VICTIM_SEX='F', VICTIM_AGE=59, VICTIM_DEGREE_OF_INJURY='0', VICTIM_SEATING_POSITION='3', VICTIM_SAFETY_EQUIP1='G', VICTIM_SAFETY_EQUIP2='-', VICTIM_EJECTED='0')]"
      ]
     },
     "execution_count": 10,
     "metadata": {},
     "output_type": "execute_result"
    }
   ],
   "source": [
    "# remove all \"not stated - values\" and null\n",
    "filterCondition = (col(victim_df.columns[0]) != \"-\")\n",
    "filterCondition = filterCondition | (col(victim_df.columns[0]) != None)\n",
    "\n",
    "\n",
    "for c in victim_df.columns[1:]:\n",
    "    filterCondition = filterCondition | (col(c) != \"-\")\n",
    "    filterCondition = filterCondition | (col(c) != None)\n",
    "\n",
    "filtered_df = victim_df.filter(filterCondition)\n",
    "filtered_df.head(5)"
   ]
  },
  {
   "cell_type": "code",
   "execution_count": 14,
   "metadata": {},
   "outputs": [
    {
     "name": "stderr",
     "output_type": "stream",
     "text": [
      "24/12/15 22:57:14 WARN MemoryStore: Not enough space to cache rdd_3_7 in memory! (computed 14.7 MiB so far)\n",
      "24/12/15 22:57:14 WARN MemoryStore: Not enough space to cache rdd_3_6 in memory! (computed 14.7 MiB so far)\n",
      "24/12/15 22:57:15 WARN MemoryStore: Not enough space to cache rdd_3_9 in memory! (computed 3.9 MiB so far)\n",
      "24/12/15 22:57:15 WARN MemoryStore: Not enough space to cache rdd_3_8 in memory! (computed 22.3 MiB so far)\n",
      "24/12/15 22:57:16 WARN MemoryStore: Not enough space to cache rdd_3_10 in memory! (computed 25.4 MiB so far)\n",
      "24/12/15 22:57:20 WARN MemoryStore: Not enough space to cache rdd_3_7 in memory! (computed 14.7 MiB so far)\n",
      "24/12/15 22:57:20 WARN MemoryStore: Not enough space to cache rdd_3_6 in memory! (computed 14.7 MiB so far)\n",
      "24/12/15 22:57:22 WARN MemoryStore: Not enough space to cache rdd_3_9 in memory! (computed 3.9 MiB so far)\n",
      "24/12/15 22:57:22 WARN MemoryStore: Not enough space to cache rdd_3_8 in memory! (computed 22.3 MiB so far)\n",
      "24/12/15 22:57:22 WARN MemoryStore: Not enough space to cache rdd_3_10 in memory! (computed 25.4 MiB so far)\n",
      "24/12/15 22:57:27 WARN MemoryStore: Not enough space to cache rdd_3_6 in memory! (computed 14.7 MiB so far)\n",
      "24/12/15 22:57:27 WARN MemoryStore: Not enough space to cache rdd_3_7 in memory! (computed 14.7 MiB so far)\n",
      "24/12/15 22:57:28 WARN MemoryStore: Not enough space to cache rdd_3_9 in memory! (computed 3.9 MiB so far)\n",
      "24/12/15 22:57:28 WARN MemoryStore: Not enough space to cache rdd_3_8 in memory! (computed 22.3 MiB so far)\n",
      "24/12/15 22:57:28 WARN MemoryStore: Not enough space to cache rdd_3_10 in memory! (computed 25.4 MiB so far)\n",
      "24/12/15 22:57:33 WARN MemoryStore: Not enough space to cache rdd_3_7 in memory! (computed 14.7 MiB so far)\n",
      "24/12/15 22:57:33 WARN MemoryStore: Not enough space to cache rdd_3_6 in memory! (computed 14.7 MiB so far)\n",
      "24/12/15 22:57:34 WARN MemoryStore: Not enough space to cache rdd_3_9 in memory! (computed 3.9 MiB so far)\n",
      "24/12/15 22:57:34 WARN MemoryStore: Not enough space to cache rdd_3_8 in memory! (computed 22.3 MiB so far)\n",
      "24/12/15 22:57:35 WARN MemoryStore: Not enough space to cache rdd_3_10 in memory! (computed 25.4 MiB so far)\n",
      "24/12/15 22:57:39 WARN MemoryStore: Not enough space to cache rdd_3_7 in memory! (computed 14.7 MiB so far)\n",
      "24/12/15 22:57:39 WARN MemoryStore: Not enough space to cache rdd_3_6 in memory! (computed 14.7 MiB so far)\n",
      "24/12/15 22:57:40 WARN MemoryStore: Not enough space to cache rdd_3_9 in memory! (computed 3.9 MiB so far)\n",
      "24/12/15 22:57:40 WARN MemoryStore: Not enough space to cache rdd_3_8 in memory! (computed 22.3 MiB so far)\n",
      "24/12/15 22:57:41 WARN MemoryStore: Not enough space to cache rdd_3_10 in memory! (computed 25.4 MiB so far)\n",
      "                                                                                \r"
     ]
    },
    {
     "name": "stdout",
     "output_type": "stream",
     "text": [
      "+-------+------------+-----------+----------+--------------------+----------------+-----------------------------+-----------------------------+--------------------------+--------------------+--------------+---------------------------+---------------------------+------------------------+------------------+\n",
      "|CASE_ID|PARTY_NUMBER|VICTIM_ROLE|VICTIM_AGE|VICTIM_SAFETY_EQUIP1|VICTIM_SEX_index|VICTIM_DEGREE_OF_INJURY_index|VICTIM_SEATING_POSITION_index|VICTIM_SAFETY_EQUIP2_index|VICTIM_EJECTED_index|VICTIM_SEX_vec|VICTIM_DEGREE_OF_INJURY_vec|VICTIM_SEATING_POSITION_vec|VICTIM_SAFETY_EQUIP2_vec|VICTIM_EJECTED_vec|\n",
      "+-------+------------+-----------+----------+--------------------+----------------+-----------------------------+-----------------------------+--------------------------+--------------------+--------------+---------------------------+---------------------------+------------------------+------------------+\n",
      "| 097293|1           |2          |20        |G                   |1.0             |0.0                          |1.0                          |1.0                       |0.0                 |(10,[1],[1.0])|(9,[0],[1.0])              |(21,[1],[1.0])             |(27,[1],[1.0])          |(15,[0],[1.0])    |\n",
      "| 965874|2           |2          |19        |M                   |1.0             |0.0                          |1.0                          |0.0                       |0.0                 |(10,[1],[1.0])|(9,[0],[1.0])              |(21,[1],[1.0])             |(27,[0],[1.0])          |(15,[0],[1.0])    |\n",
      "|0000003|1           |2          |21        |G                   |1.0             |0.0                          |1.0                          |1.0                       |0.0                 |(10,[1],[1.0])|(9,[0],[1.0])              |(21,[1],[1.0])             |(27,[1],[1.0])          |(15,[0],[1.0])    |\n",
      "|0000005|1           |1          |44        |G                   |1.0             |3.0                          |0.0                          |1.0                       |0.0                 |(10,[1],[1.0])|(9,[3],[1.0])              |(21,[0],[1.0])             |(27,[1],[1.0])          |(15,[0],[1.0])    |\n",
      "|0000008|1           |2          |59        |G                   |0.0             |0.0                          |1.0                          |1.0                       |0.0                 |(10,[0],[1.0])|(9,[0],[1.0])              |(21,[1],[1.0])             |(27,[1],[1.0])          |(15,[0],[1.0])    |\n",
      "|0000008|2           |2          |31        |G                   |1.0             |0.0                          |1.0                          |1.0                       |0.0                 |(10,[1],[1.0])|(9,[0],[1.0])              |(21,[1],[1.0])             |(27,[1],[1.0])          |(15,[0],[1.0])    |\n",
      "|0000009|2           |2          |14        |C                   |0.0             |1.0                          |2.0                          |1.0                       |0.0                 |(10,[0],[1.0])|(9,[1],[1.0])              |(21,[2],[1.0])             |(27,[1],[1.0])          |(15,[0],[1.0])    |\n",
      "|0000009|2           |2          |39        |G                   |0.0             |0.0                          |1.0                          |1.0                       |0.0                 |(10,[0],[1.0])|(9,[0],[1.0])              |(21,[1],[1.0])             |(27,[1],[1.0])          |(15,[0],[1.0])    |\n",
      "|0000013|1           |4          |47        |V                   |1.0             |2.0                          |0.0                          |1.0                       |2.0                 |(10,[1],[1.0])|(9,[2],[1.0])              |(21,[0],[1.0])             |(27,[1],[1.0])          |(15,[2],[1.0])    |\n",
      "|0000014|2           |1          |26        |G                   |0.0             |2.0                          |0.0                          |1.0                       |0.0                 |(10,[0],[1.0])|(9,[2],[1.0])              |(21,[0],[1.0])             |(27,[1],[1.0])          |(15,[0],[1.0])    |\n",
      "|0000014|3           |1          |40        |G                   |1.0             |1.0                          |0.0                          |1.0                       |0.0                 |(10,[1],[1.0])|(9,[1],[1.0])              |(21,[0],[1.0])             |(27,[1],[1.0])          |(15,[0],[1.0])    |\n",
      "|0000015|1           |2          |8         |G                   |0.0             |0.0                          |1.0                          |1.0                       |0.0                 |(10,[0],[1.0])|(9,[0],[1.0])              |(21,[1],[1.0])             |(27,[1],[1.0])          |(15,[0],[1.0])    |\n",
      "|0000015|2           |2          |59        |G                   |0.0             |0.0                          |1.0                          |1.0                       |0.0                 |(10,[0],[1.0])|(9,[0],[1.0])              |(21,[1],[1.0])             |(27,[1],[1.0])          |(15,[0],[1.0])    |\n",
      "|0000016|1           |1          |20        |L                   |0.0             |1.0                          |0.0                          |1.0                       |0.0                 |(10,[0],[1.0])|(9,[1],[1.0])              |(21,[0],[1.0])             |(27,[1],[1.0])          |(15,[0],[1.0])    |\n",
      "|0000017|1           |2          |38        |G                   |0.0             |0.0                          |1.0                          |1.0                       |0.0                 |(10,[0],[1.0])|(9,[0],[1.0])              |(21,[1],[1.0])             |(27,[1],[1.0])          |(15,[0],[1.0])    |\n",
      "|0000017|2           |2          |17        |C                   |0.0             |0.0                          |7.0                          |1.0                       |0.0                 |(10,[0],[1.0])|(9,[0],[1.0])              |(21,[7],[1.0])             |(27,[1],[1.0])          |(15,[0],[1.0])    |\n",
      "|0000020|1           |2          |21        |G                   |1.0             |0.0                          |1.0                          |1.0                       |0.0                 |(10,[1],[1.0])|(9,[0],[1.0])              |(21,[1],[1.0])             |(27,[1],[1.0])          |(15,[0],[1.0])    |\n",
      "|0000020|1           |1          |19        |G                   |0.0             |1.0                          |0.0                          |1.0                       |0.0                 |(10,[0],[1.0])|(9,[1],[1.0])              |(21,[0],[1.0])             |(27,[1],[1.0])          |(15,[0],[1.0])    |\n",
      "|0000023|1           |2          |16        |G                   |1.0             |0.0                          |1.0                          |1.0                       |0.0                 |(10,[1],[1.0])|(9,[0],[1.0])              |(21,[1],[1.0])             |(27,[1],[1.0])          |(15,[0],[1.0])    |\n",
      "|0000023|1           |2          |13        |N                   |1.0             |1.0                          |6.0                          |1.0                       |2.0                 |(10,[1],[1.0])|(9,[1],[1.0])              |(21,[6],[1.0])             |(27,[1],[1.0])          |(15,[2],[1.0])    |\n",
      "+-------+------------+-----------+----------+--------------------+----------------+-----------------------------+-----------------------------+--------------------------+--------------------+--------------+---------------------------+---------------------------+------------------------+------------------+\n",
      "only showing top 20 rows\n",
      "\n"
     ]
    },
    {
     "data": {
      "text/plain": [
       "['CASE_ID',\n",
       " 'PARTY_NUMBER',\n",
       " 'VICTIM_ROLE',\n",
       " 'VICTIM_AGE',\n",
       " 'VICTIM_SAFETY_EQUIP1',\n",
       " 'VICTIM_SEX_index',\n",
       " 'VICTIM_DEGREE_OF_INJURY_index',\n",
       " 'VICTIM_SEATING_POSITION_index',\n",
       " 'VICTIM_SAFETY_EQUIP2_index',\n",
       " 'VICTIM_EJECTED_index',\n",
       " 'VICTIM_SEX_vec',\n",
       " 'VICTIM_DEGREE_OF_INJURY_vec',\n",
       " 'VICTIM_SEATING_POSITION_vec',\n",
       " 'VICTIM_SAFETY_EQUIP2_vec',\n",
       " 'VICTIM_EJECTED_vec']"
      ]
     },
     "execution_count": 14,
     "metadata": {},
     "output_type": "execute_result"
    }
   ],
   "source": [
    "\n",
    "encoded_and_index = [\"VICTIM_SEX\",\"VICTIM_DEGREE_OF_INJURY\",\"VICTIM_SEATING_POSITION\",\"VICTIM_SAFETY_EQUIP2\",\"VICTIM_EJECTED\"]\n",
    "\n",
    "indexers = [StringIndexer(inputCol=c, outputCol=c+\"_index\") for c in encoded_and_index]\n",
    "encoders = [OneHotEncoder(inputCol=c+\"_index\", outputCol=c+\"_vec\") for c in encoded_and_index]\n",
    "\n",
    "pipeline = Pipeline(stages=indexers + encoders)\n",
    "\n",
    "pipeline_model = pipeline.fit(filtered_df)\n",
    "encoded_df = pipeline_model.transform(filtered_df)\n",
    "\n",
    "encoded_df = encoded_df.drop(*encoded_and_index)\n",
    "encoded_df.show(truncate=False)\n",
    "encoded_df.columns"
   ]
  }
 ],
 "metadata": {
  "kernelspec": {
   "display_name": ".venv",
   "language": "python",
   "name": "python3"
  },
  "language_info": {
   "codemirror_mode": {
    "name": "ipython",
    "version": 3
   },
   "file_extension": ".py",
   "mimetype": "text/x-python",
   "name": "python",
   "nbconvert_exporter": "python",
   "pygments_lexer": "ipython3",
   "version": "3.11.5"
  }
 },
 "nbformat": 4,
 "nbformat_minor": 2
}
