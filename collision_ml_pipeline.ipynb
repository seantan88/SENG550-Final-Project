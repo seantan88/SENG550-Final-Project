{
 "cells": [
  {
   "cell_type": "code",
   "execution_count": 1,
   "id": "initial_id",
   "metadata": {
    "ExecuteTime": {
     "end_time": "2024-12-16T07:13:51.723112Z",
     "start_time": "2024-12-16T07:13:27.797548Z"
    },
    "collapsed": true
   },
   "outputs": [
    {
     "name": "stderr",
     "output_type": "stream",
     "text": [
      "24/12/16 12:35:46 WARN Utils: Your hostname, Seans-MacBook-Pro.local resolves to a loopback address: 127.0.0.1; using 10.0.0.158 instead (on interface en0)\n",
      "24/12/16 12:35:46 WARN Utils: Set SPARK_LOCAL_IP if you need to bind to another address\n",
      "Setting default log level to \"WARN\".\n",
      "To adjust logging level use sc.setLogLevel(newLevel). For SparkR, use setLogLevel(newLevel).\n",
      "24/12/16 12:35:46 WARN NativeCodeLoader: Unable to load native-hadoop library for your platform... using builtin-java classes where applicable\n",
      "24/12/16 12:35:47 WARN Utils: Service 'SparkUI' could not bind on port 4040. Attempting port 4041.\n",
      "24/12/16 12:35:47 WARN Utils: Service 'SparkUI' could not bind on port 4041. Attempting port 4042.\n",
      "                                                                                \r"
     ]
    },
    {
     "name": "stdout",
     "output_type": "stream",
     "text": [
      "+------------------+-------------+---------+-----+--------------+--------------+----------+------------------+-----------+----------+-------------+---------+-------------+---------------+---------------+--------+---------+------------+\n",
      "|           CASE_ID|ACCIDENT_YEAR|PROC_DATE|JURIS|COLLISION_DATE|COLLISION_TIME|OFFICER_ID|REPORTING_DISTRICT|DAY_OF_WEEK|POPULATION|CNTY_CITY_LOC|BEAT_TYPE|CHP_BEAT_TYPE|     PRIMARY_RD|   SECONDARY_RD|DISTANCE|DIRECTION|INTERSECTION|\n",
      "+------------------+-------------+---------+-----+--------------+--------------+----------+------------------+-----------+----------+-------------+---------+-------------+---------------+---------------+--------+---------+------------+\n",
      "|100010101011401155|         2001| 20010416| 0100|      20010101|           114|      1155|                 0|          1|         4|          198|        0|            0|      DUBLIN BL|    SCARLETT CT|     267|        W|           N|\n",
      "|100010103174503131|         2001| 20010416| 0100|      20010103|          1745|      3131|                10|          3|         4|          198|        0|            0|   DOUGHERTY RD|  AMADOR VLY BL|      80|        N|           N|\n",
      "|100010104134002415|         2001| 20010608| 0100|      20010104|          1340|      2415|                 0|          4|         4|          198|        0|            0|   DOUGHERTY RD| RT 580 WBOFF/R|       0|        -|           Y|\n",
      "|100010104170500911|         2001| 20010416| 0100|      20010104|          1705|       911|                 0|          4|         4|          198|        0|            0|   SAN RAMON RD|      DUBLIN BL|      20|        S|           N|\n",
      "|100010104184400911|         2001| 20010416| 0100|      20010104|          1844|       911|                 0|          4|         4|          198|        0|            0|FREDERICKSON LN|FREDERICKSON CT|       0|        -|           Y|\n",
      "+------------------+-------------+---------+-----+--------------+--------------+----------+------------------+-----------+----------+-------------+---------+-------------+---------------+---------------+--------+---------+------------+\n",
      "only showing top 5 rows\n",
      "\n",
      "+-------+------------+-----------+----------+----------+-----------------------+-----------------------+--------------------+--------------------+--------------+\n",
      "|CASE_ID|PARTY_NUMBER|VICTIM_ROLE|VICTIM_SEX|VICTIM_AGE|VICTIM_DEGREE_OF_INJURY|VICTIM_SEATING_POSITION|VICTIM_SAFETY_EQUIP1|VICTIM_SAFETY_EQUIP2|VICTIM_EJECTED|\n",
      "+-------+------------+-----------+----------+----------+-----------------------+-----------------------+--------------------+--------------------+--------------+\n",
      "|2912524|           3|          2|         F|        29|                      4|                      3|                   L|                   G|             0|\n",
      "|2912529|           1|          2|         M|        16|                      0|                      3|                   L|                   G|             0|\n",
      "|2912529|           1|          2|         F|        18|                      4|                      4|                   M|                   H|             0|\n",
      "|2912530|           1|          2|         M|        24|                      0|                      3|                   M|                   G|             0|\n",
      "|2912530|           1|          2|         M|        26|                      0|                      6|                   P|                   G|             0|\n",
      "+-------+------------+-----------+----------+----------+-----------------------+-----------------------+--------------------+--------------------+--------------+\n",
      "only showing top 5 rows\n",
      "\n"
     ]
    }
   ],
   "source": [
    "from pyspark.sql import SparkSession\n",
    "from pyspark.sql.functions import col\n",
    "\n",
    "# Initialize Spark Session\n",
    "spark = (SparkSession.builder\n",
    "         .appName(\"Collision_Victim_Analysis\")\n",
    "         .config(\"spark.executor.memory\", \"4g\")  # Increase executor memory\n",
    "         .config(\"spark.executor.cores\", \"2\")  # Number of cores per executor\n",
    "         .config(\"spark.driver.memory\", \"4g\")  # Increase driver memory\n",
    "         .getOrCreate())\n",
    "# Load cleaned collision data\n",
    "collision_df = spark.read.csv(\"clean_collision_records.csv\", header=True, inferSchema=True)\n",
    "\n",
    "# Load cleaned victim data\n",
    "victim_df = spark.read.csv(\"clean_victim_records.csv\", header=True, inferSchema=True)\n",
    "\n",
    "# Verify loaded data\n",
    "collision_df.show(5)\n",
    "victim_df.show(5)\n"
   ]
  },
  {
   "cell_type": "code",
   "execution_count": 2,
   "id": "2e4d511e33aa92e4",
   "metadata": {
    "ExecuteTime": {
     "end_time": "2024-12-16T07:15:03.039263Z",
     "start_time": "2024-12-16T07:14:03.061881Z"
    }
   },
   "outputs": [
    {
     "name": "stderr",
     "output_type": "stream",
     "text": [
      "24/12/16 12:36:09 WARN SparkStringUtils: Truncated the string representation of a plan since it was too large. This behavior can be adjusted by setting 'spark.sql.debug.maxToStringFields'.\n",
      "                                                                                \r"
     ]
    },
    {
     "name": "stdout",
     "output_type": "stream",
     "text": [
      "+-------+-------------+---------+-----+--------------+--------------+----------+------------------+-----------+----------+-------------+---------+-------------+----------+------------+--------+---------+------------+------------+-----------+----------+----------+-----------------------+-----------------------+--------------------+--------------------+--------------+\n",
      "|CASE_ID|ACCIDENT_YEAR|PROC_DATE|JURIS|COLLISION_DATE|COLLISION_TIME|OFFICER_ID|REPORTING_DISTRICT|DAY_OF_WEEK|POPULATION|CNTY_CITY_LOC|BEAT_TYPE|CHP_BEAT_TYPE|PRIMARY_RD|SECONDARY_RD|DISTANCE|DIRECTION|INTERSECTION|PARTY_NUMBER|VICTIM_ROLE|VICTIM_SEX|VICTIM_AGE|VICTIM_DEGREE_OF_INJURY|VICTIM_SEATING_POSITION|VICTIM_SAFETY_EQUIP1|VICTIM_SAFETY_EQUIP2|VICTIM_EJECTED|\n",
      "+-------+-------------+---------+-----+--------------+--------------+----------+------------------+-----------+----------+-------------+---------+-------------+----------+------------+--------+---------+------------+------------+-----------+----------+----------+-----------------------+-----------------------+--------------------+--------------------+--------------+\n",
      "|    182|         2002| 20020328| 9340|      20020107|           815|     15967|              NULL|          1|         7|         4313|        2|            S| LESTER AV|  LINCOLN AV|     700|        W|           N|           1|          2|         F|        19|                      0|                      4|                   G|                   -|             0|\n",
      "|    182|         2002| 20020328| 9340|      20020107|           815|     15967|              NULL|          1|         7|         4313|        2|            S| LESTER AV|  LINCOLN AV|     700|        W|           N|           1|          2|         M|        13|                      0|                      8|                   G|                   -|             0|\n",
      "|    182|         2002| 20020328| 9340|      20020107|           815|     15967|              NULL|          1|         7|         4313|        2|            S| LESTER AV|  LINCOLN AV|     700|        W|           N|           1|          2|         M|        17|                      0|                      8|                   G|                   -|             0|\n",
      "|    182|         2002| 20020328| 9340|      20020107|           815|     15967|              NULL|          1|         7|         4313|        2|            S| LESTER AV|  LINCOLN AV|     700|        W|           N|           1|          2|         F|        16|                      0|                      8|                   G|                   -|             0|\n",
      "|    182|         2002| 20020328| 9340|      20020107|           815|     15967|              NULL|          1|         7|         4313|        2|            S| LESTER AV|  LINCOLN AV|     700|        W|           N|           1|          2|         M|        14|                      0|                      6|                   G|                   -|             0|\n",
      "+-------+-------------+---------+-----+--------------+--------------+----------+------------------+-----------+----------+-------------+---------+-------------+----------+------------+--------+---------+------------+------------+-----------+----------+----------+-----------------------+-----------------------+--------------------+--------------------+--------------+\n",
      "only showing top 5 rows\n",
      "\n"
     ]
    },
    {
     "name": "stderr",
     "output_type": "stream",
     "text": [
      "[Stage 16:===================================================>    (12 + 1) / 13]\r"
     ]
    },
    {
     "name": "stdout",
     "output_type": "stream",
     "text": [
      "Total records after join: 100736976\n"
     ]
    },
    {
     "name": "stderr",
     "output_type": "stream",
     "text": [
      "                                                                                \r"
     ]
    }
   ],
   "source": [
    "# Join the datasets on CASE_ID\n",
    "combined_df = collision_df.join(victim_df, \"CASE_ID\", \"inner\")\n",
    "\n",
    "\n",
    "# Show the joined data\n",
    "combined_df.show(5)\n",
    "print(\"Total records after join:\", combined_df.count())\n"
   ]
  },
  {
   "cell_type": "code",
   "execution_count": 3,
   "id": "e5c2053df489a9c7",
   "metadata": {
    "ExecuteTime": {
     "end_time": "2024-12-16T07:25:12.597643Z",
     "start_time": "2024-12-16T07:22:39.047671Z"
    }
   },
   "outputs": [
    {
     "name": "stderr",
     "output_type": "stream",
     "text": [
      "[Stage 79:>                                                         (0 + 1) / 1]\r"
     ]
    },
    {
     "name": "stdout",
     "output_type": "stream",
     "text": [
      "+-------+-------------+---------+-----+--------------+--------------+----------+------------------+-----------+----------+-------------+---------+-------------+----------+------------+--------+---------+------------+------------+-----------+----------+----------+-----------------------+-----------------------+--------------------+--------------------+--------------+-----------------------------+-----------------------------+--------------------------+--------------------+---------------+------------------+---------------------------+---------------------------+------------------------+------------------+-------------+----------------+\n",
      "|CASE_ID|ACCIDENT_YEAR|PROC_DATE|JURIS|COLLISION_DATE|COLLISION_TIME|OFFICER_ID|REPORTING_DISTRICT|DAY_OF_WEEK|POPULATION|CNTY_CITY_LOC|BEAT_TYPE|CHP_BEAT_TYPE|PRIMARY_RD|SECONDARY_RD|DISTANCE|DIRECTION|INTERSECTION|PARTY_NUMBER|VICTIM_ROLE|VICTIM_SEX|VICTIM_AGE|VICTIM_DEGREE_OF_INJURY|VICTIM_SEATING_POSITION|VICTIM_SAFETY_EQUIP1|VICTIM_SAFETY_EQUIP2|VICTIM_EJECTED|VICTIM_DEGREE_OF_INJURY_index|VICTIM_SEATING_POSITION_index|VICTIM_SAFETY_EQUIP2_index|VICTIM_EJECTED_index|DIRECTION_index|INTERSECTION_index|VICTIM_DEGREE_OF_INJURY_vec|VICTIM_SEATING_POSITION_vec|VICTIM_SAFETY_EQUIP2_vec|VICTIM_EJECTED_vec|DIRECTION_vec|INTERSECTION_vec|\n",
      "+-------+-------------+---------+-----+--------------+--------------+----------+------------------+-----------+----------+-------------+---------+-------------+----------+------------+--------+---------+------------+------------+-----------+----------+----------+-----------------------+-----------------------+--------------------+--------------------+--------------+-----------------------------+-----------------------------+--------------------------+--------------------+---------------+------------------+---------------------------+---------------------------+------------------------+------------------+-------------+----------------+\n",
      "|182    |2002         |20020328 |9340 |20020107      |815           |15967     |NULL              |1          |7         |4313         |2        |S            |LESTER AV |LINCOLN AV  |700     |W        |N           |1           |2          |F         |19        |0                      |4                      |G                   |-                   |0             |0.0                          |3.0                          |1.0                       |0.0                 |3.0            |0.0               |(8,[0],[1.0])              |(20,[3],[1.0])             |(26,[1],[1.0])          |(14,[0],[1.0])    |(5,[3],[1.0])|(5,[0],[1.0])   |\n",
      "|182    |2002         |20020328 |9340 |20020107      |815           |15967     |NULL              |1          |7         |4313         |2        |S            |LESTER AV |LINCOLN AV  |700     |W        |N           |1           |2          |M         |13        |0                      |8                      |G                   |-                   |0             |0.0                          |9.0                          |1.0                       |0.0                 |3.0            |0.0               |(8,[0],[1.0])              |(20,[9],[1.0])             |(26,[1],[1.0])          |(14,[0],[1.0])    |(5,[3],[1.0])|(5,[0],[1.0])   |\n",
      "|182    |2002         |20020328 |9340 |20020107      |815           |15967     |NULL              |1          |7         |4313         |2        |S            |LESTER AV |LINCOLN AV  |700     |W        |N           |1           |2          |M         |17        |0                      |8                      |G                   |-                   |0             |0.0                          |9.0                          |1.0                       |0.0                 |3.0            |0.0               |(8,[0],[1.0])              |(20,[9],[1.0])             |(26,[1],[1.0])          |(14,[0],[1.0])    |(5,[3],[1.0])|(5,[0],[1.0])   |\n",
      "|182    |2002         |20020328 |9340 |20020107      |815           |15967     |NULL              |1          |7         |4313         |2        |S            |LESTER AV |LINCOLN AV  |700     |W        |N           |1           |2          |F         |16        |0                      |8                      |G                   |-                   |0             |0.0                          |9.0                          |1.0                       |0.0                 |3.0            |0.0               |(8,[0],[1.0])              |(20,[9],[1.0])             |(26,[1],[1.0])          |(14,[0],[1.0])    |(5,[3],[1.0])|(5,[0],[1.0])   |\n",
      "|182    |2002         |20020328 |9340 |20020107      |815           |15967     |NULL              |1          |7         |4313         |2        |S            |LESTER AV |LINCOLN AV  |700     |W        |N           |1           |2          |M         |14        |0                      |6                      |G                   |-                   |0             |0.0                          |2.0                          |1.0                       |0.0                 |3.0            |0.0               |(8,[0],[1.0])              |(20,[2],[1.0])             |(26,[1],[1.0])          |(14,[0],[1.0])    |(5,[3],[1.0])|(5,[0],[1.0])   |\n",
      "+-------+-------------+---------+-----+--------------+--------------+----------+------------------+-----------+----------+-------------+---------+-------------+----------+------------+--------+---------+------------+------------+-----------+----------+----------+-----------------------+-----------------------+--------------------+--------------------+--------------+-----------------------------+-----------------------------+--------------------------+--------------------+---------------+------------------+---------------------------+---------------------------+------------------------+------------------+-------------+----------------+\n",
      "only showing top 5 rows\n",
      "\n"
     ]
    },
    {
     "name": "stderr",
     "output_type": "stream",
     "text": [
      "                                                                                \r"
     ]
    }
   ],
   "source": [
    "from pyspark.ml.feature import StringIndexer, OneHotEncoder, VectorAssembler\n",
    "from pyspark.ml import Pipeline\n",
    "\n",
    "# Categorical columns to encode\n",
    "encoded_columns = [\"VICTIM_DEGREE_OF_INJURY\",\"VICTIM_SEATING_POSITION\",\"VICTIM_SAFETY_EQUIP2\",\"VICTIM_EJECTED\", \"DIRECTION\", \"INTERSECTION\"]\n",
    "\n",
    "# Index and encode categorical columns\n",
    "indexers = [StringIndexer(inputCol=c, outputCol=c+\"_index\") for c in encoded_columns]\n",
    "encoders = [OneHotEncoder(inputCol=c+\"_index\", outputCol=c+\"_vec\") for c in encoded_columns]\n",
    "\n",
    "# Assemble features into a single column\n",
    "#feature_columns = [\"DAY_OF_WEEK\", \"COLLISION_TIME\", \"VICTIM_AGE\", \"VICTIM_SEX\", \"DIRECTION_vec\"]\n",
    "\n",
    "# Create the assembler\n",
    "#assembler = VectorAssembler(inputCols=feature_columns, outputCol=\"features\")\n",
    "\n",
    "# Combine all transformations into a Pipeline\n",
    "encoded_pipeline = Pipeline(stages=indexers + encoders)\n",
    "\n",
    "# Transform the data\n",
    "encoded_df = encoded_pipeline.fit(combined_df).transform(combined_df)\n",
    "\n",
    "encoded_df.show(5, truncate=False)\n",
    "\n",
    "\n",
    "# Select final features and target\n",
    "#final_df = prepared_df.select(\"features\", \"VICTIM_DEGREE_OF_INJURY_index\")\n",
    "\n",
    "# Show the resulting DataFrame\n",
    "#final_df.show(5, truncate=False)\n"
   ]
  },
  {
   "cell_type": "code",
   "execution_count": 5,
   "id": "96ba13ca6b0879a",
   "metadata": {
    "ExecuteTime": {
     "end_time": "2024-12-16T07:21:23.616593Z",
     "start_time": "2024-12-16T07:21:23.613943Z"
    }
   },
   "outputs": [
    {
     "name": "stdout",
     "output_type": "stream",
     "text": [
      "Columns in Combined DataFrame:\n",
      "['CASE_ID', 'ACCIDENT_YEAR', 'PROC_DATE', 'JURIS', 'COLLISION_DATE', 'COLLISION_TIME', 'OFFICER_ID', 'REPORTING_DISTRICT', 'DAY_OF_WEEK', 'POPULATION', 'CNTY_CITY_LOC', 'BEAT_TYPE', 'CHP_BEAT_TYPE', 'PRIMARY_RD', 'SECONDARY_RD', 'DISTANCE', 'DIRECTION', 'INTERSECTION', 'PARTY_NUMBER', 'VICTIM_ROLE', 'VICTIM_SEX', 'VICTIM_AGE', 'VICTIM_DEGREE_OF_INJURY', 'VICTIM_SEATING_POSITION', 'VICTIM_SAFETY_EQUIP1', 'VICTIM_SAFETY_EQUIP2', 'VICTIM_EJECTED']\n",
      "Columns in Encoded DataFrame:\n",
      "['CASE_ID', 'ACCIDENT_YEAR', 'PROC_DATE', 'JURIS', 'COLLISION_DATE', 'COLLISION_TIME', 'OFFICER_ID', 'REPORTING_DISTRICT', 'DAY_OF_WEEK', 'POPULATION', 'CNTY_CITY_LOC', 'BEAT_TYPE', 'CHP_BEAT_TYPE', 'PRIMARY_RD', 'SECONDARY_RD', 'DISTANCE', 'DIRECTION', 'INTERSECTION', 'PARTY_NUMBER', 'VICTIM_ROLE', 'VICTIM_SEX', 'VICTIM_AGE', 'VICTIM_DEGREE_OF_INJURY', 'VICTIM_SEATING_POSITION', 'VICTIM_SAFETY_EQUIP1', 'VICTIM_SAFETY_EQUIP2', 'VICTIM_EJECTED', 'VICTIM_DEGREE_OF_INJURY_index', 'VICTIM_SEATING_POSITION_index', 'VICTIM_SAFETY_EQUIP2_index', 'VICTIM_EJECTED_index', 'DIRECTION_index', 'INTERSECTION_index', 'VICTIM_DEGREE_OF_INJURY_vec', 'VICTIM_SEATING_POSITION_vec', 'VICTIM_SAFETY_EQUIP2_vec', 'VICTIM_EJECTED_vec', 'DIRECTION_vec', 'INTERSECTION_vec']\n"
     ]
    }
   ],
   "source": [
    "print(\"Columns in Combined DataFrame:\")\n",
    "print(combined_df.columns)\n",
    "\n",
    "print(\"Columns in Encoded DataFrame:\")\n",
    "print(encoded_df.columns)\n"
   ]
  }
 ],
 "metadata": {
  "kernelspec": {
   "display_name": "Python 3",
   "language": "python",
   "name": "python3"
  },
  "language_info": {
   "codemirror_mode": {
    "name": "ipython",
    "version": 3
   },
   "file_extension": ".py",
   "mimetype": "text/x-python",
   "name": "python",
   "nbconvert_exporter": "python",
   "pygments_lexer": "ipython3",
   "version": "3.11.5"
  }
 },
 "nbformat": 4,
 "nbformat_minor": 5
}
